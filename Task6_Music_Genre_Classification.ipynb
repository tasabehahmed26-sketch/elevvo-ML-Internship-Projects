{
  "nbformat": 4,
  "nbformat_minor": 0,
  "metadata": {
    "colab": {
      "provenance": []
    },
    "kernelspec": {
      "name": "python3",
      "display_name": "Python 3"
    },
    "language_info": {
      "name": "python"
    }
  },
  "cells": [
    {
      "cell_type": "code",
      "execution_count": 1,
      "metadata": {
        "colab": {
          "base_uri": "https://localhost:8080/"
        },
        "id": "nvWeZt0PkefP",
        "outputId": "90a80cd2-ab06-40ce-d2e5-b755aec9f45c"
      },
      "outputs": [
        {
          "output_type": "stream",
          "name": "stdout",
          "text": [
            "Mounted at /content/drive\n"
          ]
        }
      ],
      "source": [
        "from google.colab import drive\n",
        "drive.mount('/content/drive')"
      ]
    },
    {
      "cell_type": "code",
      "source": [
        "import pandas as pd\n",
        "import numpy as np\n",
        "import matplotlib.pyplot as plt\n",
        "import seaborn as sns\n",
        "import os\n",
        "import zipfile\n",
        "import librosa\n",
        "import tensorflow\n",
        "import keras\n",
        "from pydub import AudioSegment\n",
        "from keras import models,layers,utils\n",
        "from PIL import Image\n",
        "from tensorflow.keras.models import Model\n",
        "from tensorflow.keras.utils import to_categorical\n",
        "from tensorflow.keras.layers import Dropout\n",
        "from tensorflow.keras.models import Sequential\n",
        "from tensorflow.keras.layers import Conv2D, MaxPooling2D, Flatten, Dense\n",
        "from tensorflow.keras.applications import VGG16\n",
        "from sklearn.model_selection import train_test_split\n",
        "from sklearn.ensemble import RandomForestClassifier\n",
        "from sklearn.metrics import accuracy_score,classification_report,confusion_matrix\n",
        "from sklearn.preprocessing import MinMaxScaler\n",
        "from sklearn.preprocessing import LabelEncoder,OneHotEncoder"
      ],
      "metadata": {
        "id": "3kdfsAj3lVH3"
      },
      "execution_count": 1,
      "outputs": []
    },
    {
      "cell_type": "code",
      "source": [
        "df=pd.read_csv('/content/features_30_sec.csv')\n",
        "df.head()"
      ],
      "metadata": {
        "colab": {
          "base_uri": "https://localhost:8080/",
          "height": 226
        },
        "id": "v59EYQcRnp7V",
        "outputId": "ba25e862-cf44-4da5-d7fa-1fdb1fd86fad"
      },
      "execution_count": null,
      "outputs": [
        {
          "output_type": "execute_result",
          "data": {
            "text/plain": [
              "          filename  length  chroma_stft_mean  ...  mfcc20_mean  mfcc20_var  label\n",
              "0  blues.00000.wav  661794          0.350088  ...     1.221291   46.936035  blues\n",
              "1  blues.00001.wav  661794          0.340914  ...     0.531217   45.786282  blues\n",
              "2  blues.00002.wav  661794          0.363637  ...    -2.231258   30.573025  blues\n",
              "3  blues.00003.wav  661794          0.404785  ...    -3.407448   31.949339  blues\n",
              "4  blues.00004.wav  661794          0.308526  ...   -11.703234   55.195160  blues\n",
              "\n",
              "[5 rows x 60 columns]"
            ],
            "text/html": [
              "\n",
              "  <div id=\"df-08eb62d6-ac12-4e13-8f6f-140185871809\" class=\"colab-df-container\">\n",
              "    <div>\n",
              "<style scoped>\n",
              "    .dataframe tbody tr th:only-of-type {\n",
              "        vertical-align: middle;\n",
              "    }\n",
              "\n",
              "    .dataframe tbody tr th {\n",
              "        vertical-align: top;\n",
              "    }\n",
              "\n",
              "    .dataframe thead th {\n",
              "        text-align: right;\n",
              "    }\n",
              "</style>\n",
              "<table border=\"1\" class=\"dataframe\">\n",
              "  <thead>\n",
              "    <tr style=\"text-align: right;\">\n",
              "      <th></th>\n",
              "      <th>filename</th>\n",
              "      <th>length</th>\n",
              "      <th>chroma_stft_mean</th>\n",
              "      <th>chroma_stft_var</th>\n",
              "      <th>rms_mean</th>\n",
              "      <th>rms_var</th>\n",
              "      <th>spectral_centroid_mean</th>\n",
              "      <th>spectral_centroid_var</th>\n",
              "      <th>spectral_bandwidth_mean</th>\n",
              "      <th>spectral_bandwidth_var</th>\n",
              "      <th>rolloff_mean</th>\n",
              "      <th>rolloff_var</th>\n",
              "      <th>zero_crossing_rate_mean</th>\n",
              "      <th>zero_crossing_rate_var</th>\n",
              "      <th>harmony_mean</th>\n",
              "      <th>harmony_var</th>\n",
              "      <th>perceptr_mean</th>\n",
              "      <th>perceptr_var</th>\n",
              "      <th>tempo</th>\n",
              "      <th>mfcc1_mean</th>\n",
              "      <th>mfcc1_var</th>\n",
              "      <th>mfcc2_mean</th>\n",
              "      <th>mfcc2_var</th>\n",
              "      <th>mfcc3_mean</th>\n",
              "      <th>mfcc3_var</th>\n",
              "      <th>mfcc4_mean</th>\n",
              "      <th>mfcc4_var</th>\n",
              "      <th>mfcc5_mean</th>\n",
              "      <th>mfcc5_var</th>\n",
              "      <th>mfcc6_mean</th>\n",
              "      <th>mfcc6_var</th>\n",
              "      <th>mfcc7_mean</th>\n",
              "      <th>mfcc7_var</th>\n",
              "      <th>mfcc8_mean</th>\n",
              "      <th>mfcc8_var</th>\n",
              "      <th>mfcc9_mean</th>\n",
              "      <th>mfcc9_var</th>\n",
              "      <th>mfcc10_mean</th>\n",
              "      <th>mfcc10_var</th>\n",
              "      <th>mfcc11_mean</th>\n",
              "      <th>mfcc11_var</th>\n",
              "      <th>mfcc12_mean</th>\n",
              "      <th>mfcc12_var</th>\n",
              "      <th>mfcc13_mean</th>\n",
              "      <th>mfcc13_var</th>\n",
              "      <th>mfcc14_mean</th>\n",
              "      <th>mfcc14_var</th>\n",
              "      <th>mfcc15_mean</th>\n",
              "      <th>mfcc15_var</th>\n",
              "      <th>mfcc16_mean</th>\n",
              "      <th>mfcc16_var</th>\n",
              "      <th>mfcc17_mean</th>\n",
              "      <th>mfcc17_var</th>\n",
              "      <th>mfcc18_mean</th>\n",
              "      <th>mfcc18_var</th>\n",
              "      <th>mfcc19_mean</th>\n",
              "      <th>mfcc19_var</th>\n",
              "      <th>mfcc20_mean</th>\n",
              "      <th>mfcc20_var</th>\n",
              "      <th>label</th>\n",
              "    </tr>\n",
              "  </thead>\n",
              "  <tbody>\n",
              "    <tr>\n",
              "      <th>0</th>\n",
              "      <td>blues.00000.wav</td>\n",
              "      <td>661794</td>\n",
              "      <td>0.350088</td>\n",
              "      <td>0.088757</td>\n",
              "      <td>0.130228</td>\n",
              "      <td>0.002827</td>\n",
              "      <td>1784.165850</td>\n",
              "      <td>129774.064525</td>\n",
              "      <td>2002.449060</td>\n",
              "      <td>85882.761315</td>\n",
              "      <td>3805.839606</td>\n",
              "      <td>9.015054e+05</td>\n",
              "      <td>0.083045</td>\n",
              "      <td>0.000767</td>\n",
              "      <td>-4.529724e-05</td>\n",
              "      <td>0.008172</td>\n",
              "      <td>0.000008</td>\n",
              "      <td>0.005698</td>\n",
              "      <td>123.046875</td>\n",
              "      <td>-113.570648</td>\n",
              "      <td>2564.207520</td>\n",
              "      <td>121.571793</td>\n",
              "      <td>295.913818</td>\n",
              "      <td>-19.168142</td>\n",
              "      <td>235.574432</td>\n",
              "      <td>42.366421</td>\n",
              "      <td>151.106873</td>\n",
              "      <td>-6.364664</td>\n",
              "      <td>167.934799</td>\n",
              "      <td>18.623499</td>\n",
              "      <td>89.180840</td>\n",
              "      <td>-13.704891</td>\n",
              "      <td>67.660492</td>\n",
              "      <td>15.343150</td>\n",
              "      <td>68.932579</td>\n",
              "      <td>-12.274110</td>\n",
              "      <td>82.204201</td>\n",
              "      <td>10.976572</td>\n",
              "      <td>63.386311</td>\n",
              "      <td>-8.326573</td>\n",
              "      <td>61.773094</td>\n",
              "      <td>8.803792</td>\n",
              "      <td>51.244125</td>\n",
              "      <td>-3.672300</td>\n",
              "      <td>41.217415</td>\n",
              "      <td>5.747995</td>\n",
              "      <td>40.554478</td>\n",
              "      <td>-5.162882</td>\n",
              "      <td>49.775421</td>\n",
              "      <td>0.752740</td>\n",
              "      <td>52.420910</td>\n",
              "      <td>-1.690215</td>\n",
              "      <td>36.524071</td>\n",
              "      <td>-0.408979</td>\n",
              "      <td>41.597103</td>\n",
              "      <td>-2.303523</td>\n",
              "      <td>55.062923</td>\n",
              "      <td>1.221291</td>\n",
              "      <td>46.936035</td>\n",
              "      <td>blues</td>\n",
              "    </tr>\n",
              "    <tr>\n",
              "      <th>1</th>\n",
              "      <td>blues.00001.wav</td>\n",
              "      <td>661794</td>\n",
              "      <td>0.340914</td>\n",
              "      <td>0.094980</td>\n",
              "      <td>0.095948</td>\n",
              "      <td>0.002373</td>\n",
              "      <td>1530.176679</td>\n",
              "      <td>375850.073649</td>\n",
              "      <td>2039.036516</td>\n",
              "      <td>213843.755497</td>\n",
              "      <td>3550.522098</td>\n",
              "      <td>2.977893e+06</td>\n",
              "      <td>0.056040</td>\n",
              "      <td>0.001448</td>\n",
              "      <td>1.395807e-04</td>\n",
              "      <td>0.005099</td>\n",
              "      <td>-0.000178</td>\n",
              "      <td>0.003063</td>\n",
              "      <td>67.999589</td>\n",
              "      <td>-207.501694</td>\n",
              "      <td>7764.555176</td>\n",
              "      <td>123.991264</td>\n",
              "      <td>560.259949</td>\n",
              "      <td>8.955127</td>\n",
              "      <td>572.810913</td>\n",
              "      <td>35.877647</td>\n",
              "      <td>264.506104</td>\n",
              "      <td>2.907320</td>\n",
              "      <td>279.932922</td>\n",
              "      <td>21.510466</td>\n",
              "      <td>156.477097</td>\n",
              "      <td>-8.560436</td>\n",
              "      <td>200.849182</td>\n",
              "      <td>23.370686</td>\n",
              "      <td>142.555954</td>\n",
              "      <td>-10.099661</td>\n",
              "      <td>166.108521</td>\n",
              "      <td>11.900497</td>\n",
              "      <td>104.358612</td>\n",
              "      <td>-5.555639</td>\n",
              "      <td>105.173630</td>\n",
              "      <td>5.376327</td>\n",
              "      <td>96.197212</td>\n",
              "      <td>-2.231760</td>\n",
              "      <td>64.914291</td>\n",
              "      <td>4.220140</td>\n",
              "      <td>73.152534</td>\n",
              "      <td>-6.012148</td>\n",
              "      <td>52.422142</td>\n",
              "      <td>0.927998</td>\n",
              "      <td>55.356403</td>\n",
              "      <td>-0.731125</td>\n",
              "      <td>60.314529</td>\n",
              "      <td>0.295073</td>\n",
              "      <td>48.120598</td>\n",
              "      <td>-0.283518</td>\n",
              "      <td>51.106190</td>\n",
              "      <td>0.531217</td>\n",
              "      <td>45.786282</td>\n",
              "      <td>blues</td>\n",
              "    </tr>\n",
              "    <tr>\n",
              "      <th>2</th>\n",
              "      <td>blues.00002.wav</td>\n",
              "      <td>661794</td>\n",
              "      <td>0.363637</td>\n",
              "      <td>0.085275</td>\n",
              "      <td>0.175570</td>\n",
              "      <td>0.002746</td>\n",
              "      <td>1552.811865</td>\n",
              "      <td>156467.643368</td>\n",
              "      <td>1747.702312</td>\n",
              "      <td>76254.192257</td>\n",
              "      <td>3042.260232</td>\n",
              "      <td>7.840345e+05</td>\n",
              "      <td>0.076291</td>\n",
              "      <td>0.001007</td>\n",
              "      <td>2.105576e-06</td>\n",
              "      <td>0.016342</td>\n",
              "      <td>-0.000019</td>\n",
              "      <td>0.007458</td>\n",
              "      <td>161.499023</td>\n",
              "      <td>-90.722595</td>\n",
              "      <td>3319.044922</td>\n",
              "      <td>140.446304</td>\n",
              "      <td>508.765045</td>\n",
              "      <td>-29.093889</td>\n",
              "      <td>411.781219</td>\n",
              "      <td>31.684334</td>\n",
              "      <td>144.090317</td>\n",
              "      <td>-13.984504</td>\n",
              "      <td>155.493759</td>\n",
              "      <td>25.764742</td>\n",
              "      <td>74.548401</td>\n",
              "      <td>-13.664875</td>\n",
              "      <td>106.981827</td>\n",
              "      <td>11.639934</td>\n",
              "      <td>106.574875</td>\n",
              "      <td>-11.783643</td>\n",
              "      <td>65.447945</td>\n",
              "      <td>9.718760</td>\n",
              "      <td>67.908859</td>\n",
              "      <td>-13.133803</td>\n",
              "      <td>57.781425</td>\n",
              "      <td>5.791199</td>\n",
              "      <td>64.480209</td>\n",
              "      <td>-8.907628</td>\n",
              "      <td>60.385151</td>\n",
              "      <td>-1.077000</td>\n",
              "      <td>57.711136</td>\n",
              "      <td>-9.229274</td>\n",
              "      <td>36.580986</td>\n",
              "      <td>2.451690</td>\n",
              "      <td>40.598766</td>\n",
              "      <td>-7.729093</td>\n",
              "      <td>47.639427</td>\n",
              "      <td>-1.816407</td>\n",
              "      <td>52.382141</td>\n",
              "      <td>-3.439720</td>\n",
              "      <td>46.639660</td>\n",
              "      <td>-2.231258</td>\n",
              "      <td>30.573025</td>\n",
              "      <td>blues</td>\n",
              "    </tr>\n",
              "    <tr>\n",
              "      <th>3</th>\n",
              "      <td>blues.00003.wav</td>\n",
              "      <td>661794</td>\n",
              "      <td>0.404785</td>\n",
              "      <td>0.093999</td>\n",
              "      <td>0.141093</td>\n",
              "      <td>0.006346</td>\n",
              "      <td>1070.106615</td>\n",
              "      <td>184355.942417</td>\n",
              "      <td>1596.412872</td>\n",
              "      <td>166441.494769</td>\n",
              "      <td>2184.745799</td>\n",
              "      <td>1.493194e+06</td>\n",
              "      <td>0.033309</td>\n",
              "      <td>0.000423</td>\n",
              "      <td>4.583644e-07</td>\n",
              "      <td>0.019054</td>\n",
              "      <td>-0.000014</td>\n",
              "      <td>0.002712</td>\n",
              "      <td>63.024009</td>\n",
              "      <td>-199.544205</td>\n",
              "      <td>5507.517090</td>\n",
              "      <td>150.090897</td>\n",
              "      <td>456.505402</td>\n",
              "      <td>5.662678</td>\n",
              "      <td>257.161163</td>\n",
              "      <td>26.859079</td>\n",
              "      <td>158.267303</td>\n",
              "      <td>1.771399</td>\n",
              "      <td>268.034393</td>\n",
              "      <td>14.234031</td>\n",
              "      <td>126.794128</td>\n",
              "      <td>-4.832006</td>\n",
              "      <td>155.912079</td>\n",
              "      <td>9.286494</td>\n",
              "      <td>81.273743</td>\n",
              "      <td>-0.759186</td>\n",
              "      <td>92.114090</td>\n",
              "      <td>8.137607</td>\n",
              "      <td>71.314079</td>\n",
              "      <td>-3.200653</td>\n",
              "      <td>110.236687</td>\n",
              "      <td>6.079319</td>\n",
              "      <td>48.251999</td>\n",
              "      <td>-2.480174</td>\n",
              "      <td>56.799400</td>\n",
              "      <td>-1.079305</td>\n",
              "      <td>62.289902</td>\n",
              "      <td>-2.870789</td>\n",
              "      <td>51.651592</td>\n",
              "      <td>0.780874</td>\n",
              "      <td>44.427753</td>\n",
              "      <td>-3.319597</td>\n",
              "      <td>50.206673</td>\n",
              "      <td>0.636965</td>\n",
              "      <td>37.319130</td>\n",
              "      <td>-0.619121</td>\n",
              "      <td>37.259739</td>\n",
              "      <td>-3.407448</td>\n",
              "      <td>31.949339</td>\n",
              "      <td>blues</td>\n",
              "    </tr>\n",
              "    <tr>\n",
              "      <th>4</th>\n",
              "      <td>blues.00004.wav</td>\n",
              "      <td>661794</td>\n",
              "      <td>0.308526</td>\n",
              "      <td>0.087841</td>\n",
              "      <td>0.091529</td>\n",
              "      <td>0.002303</td>\n",
              "      <td>1835.004266</td>\n",
              "      <td>343399.939274</td>\n",
              "      <td>1748.172116</td>\n",
              "      <td>88445.209036</td>\n",
              "      <td>3579.757627</td>\n",
              "      <td>1.572978e+06</td>\n",
              "      <td>0.101461</td>\n",
              "      <td>0.001954</td>\n",
              "      <td>-1.756129e-05</td>\n",
              "      <td>0.004814</td>\n",
              "      <td>-0.000010</td>\n",
              "      <td>0.003094</td>\n",
              "      <td>135.999178</td>\n",
              "      <td>-160.337708</td>\n",
              "      <td>5195.291992</td>\n",
              "      <td>126.219635</td>\n",
              "      <td>853.784729</td>\n",
              "      <td>-35.587811</td>\n",
              "      <td>333.792938</td>\n",
              "      <td>22.148071</td>\n",
              "      <td>193.456100</td>\n",
              "      <td>-32.478600</td>\n",
              "      <td>336.276825</td>\n",
              "      <td>10.852294</td>\n",
              "      <td>134.831573</td>\n",
              "      <td>-23.352329</td>\n",
              "      <td>93.257095</td>\n",
              "      <td>0.498434</td>\n",
              "      <td>124.672127</td>\n",
              "      <td>-11.793437</td>\n",
              "      <td>130.073349</td>\n",
              "      <td>1.207256</td>\n",
              "      <td>99.675575</td>\n",
              "      <td>-13.088418</td>\n",
              "      <td>80.254066</td>\n",
              "      <td>-2.813867</td>\n",
              "      <td>86.430626</td>\n",
              "      <td>-6.933385</td>\n",
              "      <td>89.555443</td>\n",
              "      <td>-7.552725</td>\n",
              "      <td>70.943336</td>\n",
              "      <td>-9.164666</td>\n",
              "      <td>75.793404</td>\n",
              "      <td>-4.520576</td>\n",
              "      <td>86.099236</td>\n",
              "      <td>-5.454034</td>\n",
              "      <td>75.269707</td>\n",
              "      <td>-0.916874</td>\n",
              "      <td>53.613918</td>\n",
              "      <td>-4.404827</td>\n",
              "      <td>62.910812</td>\n",
              "      <td>-11.703234</td>\n",
              "      <td>55.195160</td>\n",
              "      <td>blues</td>\n",
              "    </tr>\n",
              "  </tbody>\n",
              "</table>\n",
              "</div>\n",
              "    <div class=\"colab-df-buttons\">\n",
              "\n",
              "  <div class=\"colab-df-container\">\n",
              "    <button class=\"colab-df-convert\" onclick=\"convertToInteractive('df-08eb62d6-ac12-4e13-8f6f-140185871809')\"\n",
              "            title=\"Convert this dataframe to an interactive table.\"\n",
              "            style=\"display:none;\">\n",
              "\n",
              "  <svg xmlns=\"http://www.w3.org/2000/svg\" height=\"24px\" viewBox=\"0 -960 960 960\">\n",
              "    <path d=\"M120-120v-720h720v720H120Zm60-500h600v-160H180v160Zm220 220h160v-160H400v160Zm0 220h160v-160H400v160ZM180-400h160v-160H180v160Zm440 0h160v-160H620v160ZM180-180h160v-160H180v160Zm440 0h160v-160H620v160Z\"/>\n",
              "  </svg>\n",
              "    </button>\n",
              "\n",
              "  <style>\n",
              "    .colab-df-container {\n",
              "      display:flex;\n",
              "      gap: 12px;\n",
              "    }\n",
              "\n",
              "    .colab-df-convert {\n",
              "      background-color: #E8F0FE;\n",
              "      border: none;\n",
              "      border-radius: 50%;\n",
              "      cursor: pointer;\n",
              "      display: none;\n",
              "      fill: #1967D2;\n",
              "      height: 32px;\n",
              "      padding: 0 0 0 0;\n",
              "      width: 32px;\n",
              "    }\n",
              "\n",
              "    .colab-df-convert:hover {\n",
              "      background-color: #E2EBFA;\n",
              "      box-shadow: 0px 1px 2px rgba(60, 64, 67, 0.3), 0px 1px 3px 1px rgba(60, 64, 67, 0.15);\n",
              "      fill: #174EA6;\n",
              "    }\n",
              "\n",
              "    .colab-df-buttons div {\n",
              "      margin-bottom: 4px;\n",
              "    }\n",
              "\n",
              "    [theme=dark] .colab-df-convert {\n",
              "      background-color: #3B4455;\n",
              "      fill: #D2E3FC;\n",
              "    }\n",
              "\n",
              "    [theme=dark] .colab-df-convert:hover {\n",
              "      background-color: #434B5C;\n",
              "      box-shadow: 0px 1px 3px 1px rgba(0, 0, 0, 0.15);\n",
              "      filter: drop-shadow(0px 1px 2px rgba(0, 0, 0, 0.3));\n",
              "      fill: #FFFFFF;\n",
              "    }\n",
              "  </style>\n",
              "\n",
              "    <script>\n",
              "      const buttonEl =\n",
              "        document.querySelector('#df-08eb62d6-ac12-4e13-8f6f-140185871809 button.colab-df-convert');\n",
              "      buttonEl.style.display =\n",
              "        google.colab.kernel.accessAllowed ? 'block' : 'none';\n",
              "\n",
              "      async function convertToInteractive(key) {\n",
              "        const element = document.querySelector('#df-08eb62d6-ac12-4e13-8f6f-140185871809');\n",
              "        const dataTable =\n",
              "          await google.colab.kernel.invokeFunction('convertToInteractive',\n",
              "                                                    [key], {});\n",
              "        if (!dataTable) return;\n",
              "\n",
              "        const docLinkHtml = 'Like what you see? Visit the ' +\n",
              "          '<a target=\"_blank\" href=https://colab.research.google.com/notebooks/data_table.ipynb>data table notebook</a>'\n",
              "          + ' to learn more about interactive tables.';\n",
              "        element.innerHTML = '';\n",
              "        dataTable['output_type'] = 'display_data';\n",
              "        await google.colab.output.renderOutput(dataTable, element);\n",
              "        const docLink = document.createElement('div');\n",
              "        docLink.innerHTML = docLinkHtml;\n",
              "        element.appendChild(docLink);\n",
              "      }\n",
              "    </script>\n",
              "  </div>\n",
              "\n",
              "\n",
              "    <div id=\"df-f3bfb98c-5faf-48d1-bf2d-f53ed064d761\">\n",
              "      <button class=\"colab-df-quickchart\" onclick=\"quickchart('df-f3bfb98c-5faf-48d1-bf2d-f53ed064d761')\"\n",
              "                title=\"Suggest charts\"\n",
              "                style=\"display:none;\">\n",
              "\n",
              "<svg xmlns=\"http://www.w3.org/2000/svg\" height=\"24px\"viewBox=\"0 0 24 24\"\n",
              "     width=\"24px\">\n",
              "    <g>\n",
              "        <path d=\"M19 3H5c-1.1 0-2 .9-2 2v14c0 1.1.9 2 2 2h14c1.1 0 2-.9 2-2V5c0-1.1-.9-2-2-2zM9 17H7v-7h2v7zm4 0h-2V7h2v10zm4 0h-2v-4h2v4z\"/>\n",
              "    </g>\n",
              "</svg>\n",
              "      </button>\n",
              "\n",
              "<style>\n",
              "  .colab-df-quickchart {\n",
              "      --bg-color: #E8F0FE;\n",
              "      --fill-color: #1967D2;\n",
              "      --hover-bg-color: #E2EBFA;\n",
              "      --hover-fill-color: #174EA6;\n",
              "      --disabled-fill-color: #AAA;\n",
              "      --disabled-bg-color: #DDD;\n",
              "  }\n",
              "\n",
              "  [theme=dark] .colab-df-quickchart {\n",
              "      --bg-color: #3B4455;\n",
              "      --fill-color: #D2E3FC;\n",
              "      --hover-bg-color: #434B5C;\n",
              "      --hover-fill-color: #FFFFFF;\n",
              "      --disabled-bg-color: #3B4455;\n",
              "      --disabled-fill-color: #666;\n",
              "  }\n",
              "\n",
              "  .colab-df-quickchart {\n",
              "    background-color: var(--bg-color);\n",
              "    border: none;\n",
              "    border-radius: 50%;\n",
              "    cursor: pointer;\n",
              "    display: none;\n",
              "    fill: var(--fill-color);\n",
              "    height: 32px;\n",
              "    padding: 0;\n",
              "    width: 32px;\n",
              "  }\n",
              "\n",
              "  .colab-df-quickchart:hover {\n",
              "    background-color: var(--hover-bg-color);\n",
              "    box-shadow: 0 1px 2px rgba(60, 64, 67, 0.3), 0 1px 3px 1px rgba(60, 64, 67, 0.15);\n",
              "    fill: var(--button-hover-fill-color);\n",
              "  }\n",
              "\n",
              "  .colab-df-quickchart-complete:disabled,\n",
              "  .colab-df-quickchart-complete:disabled:hover {\n",
              "    background-color: var(--disabled-bg-color);\n",
              "    fill: var(--disabled-fill-color);\n",
              "    box-shadow: none;\n",
              "  }\n",
              "\n",
              "  .colab-df-spinner {\n",
              "    border: 2px solid var(--fill-color);\n",
              "    border-color: transparent;\n",
              "    border-bottom-color: var(--fill-color);\n",
              "    animation:\n",
              "      spin 1s steps(1) infinite;\n",
              "  }\n",
              "\n",
              "  @keyframes spin {\n",
              "    0% {\n",
              "      border-color: transparent;\n",
              "      border-bottom-color: var(--fill-color);\n",
              "      border-left-color: var(--fill-color);\n",
              "    }\n",
              "    20% {\n",
              "      border-color: transparent;\n",
              "      border-left-color: var(--fill-color);\n",
              "      border-top-color: var(--fill-color);\n",
              "    }\n",
              "    30% {\n",
              "      border-color: transparent;\n",
              "      border-left-color: var(--fill-color);\n",
              "      border-top-color: var(--fill-color);\n",
              "      border-right-color: var(--fill-color);\n",
              "    }\n",
              "    40% {\n",
              "      border-color: transparent;\n",
              "      border-right-color: var(--fill-color);\n",
              "      border-top-color: var(--fill-color);\n",
              "    }\n",
              "    60% {\n",
              "      border-color: transparent;\n",
              "      border-right-color: var(--fill-color);\n",
              "    }\n",
              "    80% {\n",
              "      border-color: transparent;\n",
              "      border-right-color: var(--fill-color);\n",
              "      border-bottom-color: var(--fill-color);\n",
              "    }\n",
              "    90% {\n",
              "      border-color: transparent;\n",
              "      border-bottom-color: var(--fill-color);\n",
              "    }\n",
              "  }\n",
              "</style>\n",
              "\n",
              "      <script>\n",
              "        async function quickchart(key) {\n",
              "          const quickchartButtonEl =\n",
              "            document.querySelector('#' + key + ' button');\n",
              "          quickchartButtonEl.disabled = true;  // To prevent multiple clicks.\n",
              "          quickchartButtonEl.classList.add('colab-df-spinner');\n",
              "          try {\n",
              "            const charts = await google.colab.kernel.invokeFunction(\n",
              "                'suggestCharts', [key], {});\n",
              "          } catch (error) {\n",
              "            console.error('Error during call to suggestCharts:', error);\n",
              "          }\n",
              "          quickchartButtonEl.classList.remove('colab-df-spinner');\n",
              "          quickchartButtonEl.classList.add('colab-df-quickchart-complete');\n",
              "        }\n",
              "        (() => {\n",
              "          let quickchartButtonEl =\n",
              "            document.querySelector('#df-f3bfb98c-5faf-48d1-bf2d-f53ed064d761 button');\n",
              "          quickchartButtonEl.style.display =\n",
              "            google.colab.kernel.accessAllowed ? 'block' : 'none';\n",
              "        })();\n",
              "      </script>\n",
              "    </div>\n",
              "\n",
              "    </div>\n",
              "  </div>\n"
            ],
            "application/vnd.google.colaboratory.intrinsic+json": {
              "type": "dataframe",
              "variable_name": "df"
            }
          },
          "metadata": {},
          "execution_count": 80
        }
      ]
    },
    {
      "cell_type": "code",
      "source": [
        "df.info()"
      ],
      "metadata": {
        "colab": {
          "base_uri": "https://localhost:8080/"
        },
        "id": "pXPgHDbs7R7Y",
        "outputId": "d1ec17f7-a143-44a0-d3b3-13923d3c884d"
      },
      "execution_count": null,
      "outputs": [
        {
          "output_type": "stream",
          "name": "stdout",
          "text": [
            "<class 'pandas.core.frame.DataFrame'>\n",
            "RangeIndex: 1000 entries, 0 to 999\n",
            "Data columns (total 60 columns):\n",
            " #   Column                   Non-Null Count  Dtype  \n",
            "---  ------                   --------------  -----  \n",
            " 0   filename                 1000 non-null   object \n",
            " 1   length                   1000 non-null   int64  \n",
            " 2   chroma_stft_mean         1000 non-null   float64\n",
            " 3   chroma_stft_var          1000 non-null   float64\n",
            " 4   rms_mean                 1000 non-null   float64\n",
            " 5   rms_var                  1000 non-null   float64\n",
            " 6   spectral_centroid_mean   1000 non-null   float64\n",
            " 7   spectral_centroid_var    1000 non-null   float64\n",
            " 8   spectral_bandwidth_mean  1000 non-null   float64\n",
            " 9   spectral_bandwidth_var   1000 non-null   float64\n",
            " 10  rolloff_mean             1000 non-null   float64\n",
            " 11  rolloff_var              1000 non-null   float64\n",
            " 12  zero_crossing_rate_mean  1000 non-null   float64\n",
            " 13  zero_crossing_rate_var   1000 non-null   float64\n",
            " 14  harmony_mean             1000 non-null   float64\n",
            " 15  harmony_var              1000 non-null   float64\n",
            " 16  perceptr_mean            1000 non-null   float64\n",
            " 17  perceptr_var             1000 non-null   float64\n",
            " 18  tempo                    1000 non-null   float64\n",
            " 19  mfcc1_mean               1000 non-null   float64\n",
            " 20  mfcc1_var                1000 non-null   float64\n",
            " 21  mfcc2_mean               1000 non-null   float64\n",
            " 22  mfcc2_var                1000 non-null   float64\n",
            " 23  mfcc3_mean               1000 non-null   float64\n",
            " 24  mfcc3_var                1000 non-null   float64\n",
            " 25  mfcc4_mean               1000 non-null   float64\n",
            " 26  mfcc4_var                1000 non-null   float64\n",
            " 27  mfcc5_mean               1000 non-null   float64\n",
            " 28  mfcc5_var                1000 non-null   float64\n",
            " 29  mfcc6_mean               1000 non-null   float64\n",
            " 30  mfcc6_var                1000 non-null   float64\n",
            " 31  mfcc7_mean               1000 non-null   float64\n",
            " 32  mfcc7_var                1000 non-null   float64\n",
            " 33  mfcc8_mean               1000 non-null   float64\n",
            " 34  mfcc8_var                1000 non-null   float64\n",
            " 35  mfcc9_mean               1000 non-null   float64\n",
            " 36  mfcc9_var                1000 non-null   float64\n",
            " 37  mfcc10_mean              1000 non-null   float64\n",
            " 38  mfcc10_var               1000 non-null   float64\n",
            " 39  mfcc11_mean              1000 non-null   float64\n",
            " 40  mfcc11_var               1000 non-null   float64\n",
            " 41  mfcc12_mean              1000 non-null   float64\n",
            " 42  mfcc12_var               1000 non-null   float64\n",
            " 43  mfcc13_mean              1000 non-null   float64\n",
            " 44  mfcc13_var               1000 non-null   float64\n",
            " 45  mfcc14_mean              1000 non-null   float64\n",
            " 46  mfcc14_var               1000 non-null   float64\n",
            " 47  mfcc15_mean              1000 non-null   float64\n",
            " 48  mfcc15_var               1000 non-null   float64\n",
            " 49  mfcc16_mean              1000 non-null   float64\n",
            " 50  mfcc16_var               1000 non-null   float64\n",
            " 51  mfcc17_mean              1000 non-null   float64\n",
            " 52  mfcc17_var               1000 non-null   float64\n",
            " 53  mfcc18_mean              1000 non-null   float64\n",
            " 54  mfcc18_var               1000 non-null   float64\n",
            " 55  mfcc19_mean              1000 non-null   float64\n",
            " 56  mfcc19_var               1000 non-null   float64\n",
            " 57  mfcc20_mean              1000 non-null   float64\n",
            " 58  mfcc20_var               1000 non-null   float64\n",
            " 59  label                    1000 non-null   object \n",
            "dtypes: float64(57), int64(1), object(2)\n",
            "memory usage: 468.9+ KB\n"
          ]
        }
      ]
    },
    {
      "cell_type": "code",
      "source": [
        "df.describe()"
      ],
      "metadata": {
        "colab": {
          "base_uri": "https://localhost:8080/",
          "height": 320
        },
        "id": "OoLd-Ocj7YO8",
        "outputId": "2856c708-2ced-42e3-c98f-02ba0f6ce66f"
      },
      "execution_count": null,
      "outputs": [
        {
          "output_type": "execute_result",
          "data": {
            "text/plain": [
              "              length  chroma_stft_mean  ...  mfcc20_mean   mfcc20_var\n",
              "count    1000.000000       1000.000000  ...  1000.000000  1000.000000\n",
              "mean   662030.846000          0.378682  ...    -1.095348    70.126096\n",
              "std      1784.073992          0.081705  ...     3.837007    45.228512\n",
              "min    660000.000000          0.171939  ...   -19.929634     7.956583\n",
              "25%    661504.000000          0.319562  ...    -3.368996    42.372865\n",
              "50%    661794.000000          0.383148  ...    -1.166289    59.186117\n",
              "75%    661794.000000          0.435942  ...     1.312615    85.375374\n",
              "max    675808.000000          0.663685  ...    15.369627   506.065155\n",
              "\n",
              "[8 rows x 58 columns]"
            ],
            "text/html": [
              "\n",
              "  <div id=\"df-4caea461-7c93-4df8-8449-b81126d38454\" class=\"colab-df-container\">\n",
              "    <div>\n",
              "<style scoped>\n",
              "    .dataframe tbody tr th:only-of-type {\n",
              "        vertical-align: middle;\n",
              "    }\n",
              "\n",
              "    .dataframe tbody tr th {\n",
              "        vertical-align: top;\n",
              "    }\n",
              "\n",
              "    .dataframe thead th {\n",
              "        text-align: right;\n",
              "    }\n",
              "</style>\n",
              "<table border=\"1\" class=\"dataframe\">\n",
              "  <thead>\n",
              "    <tr style=\"text-align: right;\">\n",
              "      <th></th>\n",
              "      <th>length</th>\n",
              "      <th>chroma_stft_mean</th>\n",
              "      <th>chroma_stft_var</th>\n",
              "      <th>rms_mean</th>\n",
              "      <th>rms_var</th>\n",
              "      <th>spectral_centroid_mean</th>\n",
              "      <th>spectral_centroid_var</th>\n",
              "      <th>spectral_bandwidth_mean</th>\n",
              "      <th>spectral_bandwidth_var</th>\n",
              "      <th>rolloff_mean</th>\n",
              "      <th>rolloff_var</th>\n",
              "      <th>zero_crossing_rate_mean</th>\n",
              "      <th>zero_crossing_rate_var</th>\n",
              "      <th>harmony_mean</th>\n",
              "      <th>harmony_var</th>\n",
              "      <th>perceptr_mean</th>\n",
              "      <th>perceptr_var</th>\n",
              "      <th>tempo</th>\n",
              "      <th>mfcc1_mean</th>\n",
              "      <th>mfcc1_var</th>\n",
              "      <th>mfcc2_mean</th>\n",
              "      <th>mfcc2_var</th>\n",
              "      <th>mfcc3_mean</th>\n",
              "      <th>mfcc3_var</th>\n",
              "      <th>mfcc4_mean</th>\n",
              "      <th>mfcc4_var</th>\n",
              "      <th>mfcc5_mean</th>\n",
              "      <th>mfcc5_var</th>\n",
              "      <th>mfcc6_mean</th>\n",
              "      <th>mfcc6_var</th>\n",
              "      <th>mfcc7_mean</th>\n",
              "      <th>mfcc7_var</th>\n",
              "      <th>mfcc8_mean</th>\n",
              "      <th>mfcc8_var</th>\n",
              "      <th>mfcc9_mean</th>\n",
              "      <th>mfcc9_var</th>\n",
              "      <th>mfcc10_mean</th>\n",
              "      <th>mfcc10_var</th>\n",
              "      <th>mfcc11_mean</th>\n",
              "      <th>mfcc11_var</th>\n",
              "      <th>mfcc12_mean</th>\n",
              "      <th>mfcc12_var</th>\n",
              "      <th>mfcc13_mean</th>\n",
              "      <th>mfcc13_var</th>\n",
              "      <th>mfcc14_mean</th>\n",
              "      <th>mfcc14_var</th>\n",
              "      <th>mfcc15_mean</th>\n",
              "      <th>mfcc15_var</th>\n",
              "      <th>mfcc16_mean</th>\n",
              "      <th>mfcc16_var</th>\n",
              "      <th>mfcc17_mean</th>\n",
              "      <th>mfcc17_var</th>\n",
              "      <th>mfcc18_mean</th>\n",
              "      <th>mfcc18_var</th>\n",
              "      <th>mfcc19_mean</th>\n",
              "      <th>mfcc19_var</th>\n",
              "      <th>mfcc20_mean</th>\n",
              "      <th>mfcc20_var</th>\n",
              "    </tr>\n",
              "  </thead>\n",
              "  <tbody>\n",
              "    <tr>\n",
              "      <th>count</th>\n",
              "      <td>1000.000000</td>\n",
              "      <td>1000.000000</td>\n",
              "      <td>1000.000000</td>\n",
              "      <td>1000.000000</td>\n",
              "      <td>1000.000000</td>\n",
              "      <td>1000.000000</td>\n",
              "      <td>1.000000e+03</td>\n",
              "      <td>1000.000000</td>\n",
              "      <td>1000.000000</td>\n",
              "      <td>1000.000000</td>\n",
              "      <td>1.000000e+03</td>\n",
              "      <td>1000.000000</td>\n",
              "      <td>1000.000000</td>\n",
              "      <td>1.000000e+03</td>\n",
              "      <td>1000.000000</td>\n",
              "      <td>1000.000000</td>\n",
              "      <td>1.000000e+03</td>\n",
              "      <td>1000.000000</td>\n",
              "      <td>1000.000000</td>\n",
              "      <td>1000.000000</td>\n",
              "      <td>1000.000000</td>\n",
              "      <td>1000.000000</td>\n",
              "      <td>1000.000000</td>\n",
              "      <td>1000.000000</td>\n",
              "      <td>1000.000000</td>\n",
              "      <td>1000.000000</td>\n",
              "      <td>1000.000000</td>\n",
              "      <td>1000.000000</td>\n",
              "      <td>1000.000000</td>\n",
              "      <td>1000.000000</td>\n",
              "      <td>1000.000000</td>\n",
              "      <td>1000.000000</td>\n",
              "      <td>1000.000000</td>\n",
              "      <td>1000.000000</td>\n",
              "      <td>1000.000000</td>\n",
              "      <td>1000.000000</td>\n",
              "      <td>1000.000000</td>\n",
              "      <td>1000.000000</td>\n",
              "      <td>1000.000000</td>\n",
              "      <td>1000.000000</td>\n",
              "      <td>1000.000000</td>\n",
              "      <td>1000.000000</td>\n",
              "      <td>1000.000000</td>\n",
              "      <td>1000.000000</td>\n",
              "      <td>1000.000000</td>\n",
              "      <td>1000.000000</td>\n",
              "      <td>1000.000000</td>\n",
              "      <td>1000.000000</td>\n",
              "      <td>1000.000000</td>\n",
              "      <td>1000.000000</td>\n",
              "      <td>1000.000000</td>\n",
              "      <td>1000.000000</td>\n",
              "      <td>1000.000000</td>\n",
              "      <td>1000.000000</td>\n",
              "      <td>1000.000000</td>\n",
              "      <td>1000.000000</td>\n",
              "      <td>1000.000000</td>\n",
              "      <td>1000.000000</td>\n",
              "    </tr>\n",
              "    <tr>\n",
              "      <th>mean</th>\n",
              "      <td>662030.846000</td>\n",
              "      <td>0.378682</td>\n",
              "      <td>0.086340</td>\n",
              "      <td>0.130930</td>\n",
              "      <td>0.003051</td>\n",
              "      <td>2201.780898</td>\n",
              "      <td>4.696916e+05</td>\n",
              "      <td>2242.541070</td>\n",
              "      <td>137079.155165</td>\n",
              "      <td>4571.549304</td>\n",
              "      <td>1.844345e+06</td>\n",
              "      <td>0.103612</td>\n",
              "      <td>0.002986</td>\n",
              "      <td>-3.659332e-04</td>\n",
              "      <td>0.012540</td>\n",
              "      <td>-0.000395</td>\n",
              "      <td>5.670073e-03</td>\n",
              "      <td>119.505363</td>\n",
              "      <td>-144.472987</td>\n",
              "      <td>3747.875414</td>\n",
              "      <td>99.554278</td>\n",
              "      <td>706.899539</td>\n",
              "      <td>-8.920291</td>\n",
              "      <td>468.286436</td>\n",
              "      <td>36.292447</td>\n",
              "      <td>220.447219</td>\n",
              "      <td>-1.144840</td>\n",
              "      <td>174.404462</td>\n",
              "      <td>14.633491</td>\n",
              "      <td>127.232071</td>\n",
              "      <td>-5.129038</td>\n",
              "      <td>116.367019</td>\n",
              "      <td>10.119172</td>\n",
              "      <td>88.198988</td>\n",
              "      <td>-6.994062</td>\n",
              "      <td>88.566933</td>\n",
              "      <td>7.729785</td>\n",
              "      <td>81.733490</td>\n",
              "      <td>-6.021069</td>\n",
              "      <td>75.551228</td>\n",
              "      <td>4.471693</td>\n",
              "      <td>68.670817</td>\n",
              "      <td>-4.795884</td>\n",
              "      <td>67.871712</td>\n",
              "      <td>1.781900</td>\n",
              "      <td>64.764096</td>\n",
              "      <td>-3.869308</td>\n",
              "      <td>62.873761</td>\n",
              "      <td>1.148144</td>\n",
              "      <td>60.730958</td>\n",
              "      <td>-3.966028</td>\n",
              "      <td>62.633624</td>\n",
              "      <td>0.507696</td>\n",
              "      <td>63.712586</td>\n",
              "      <td>-2.328761</td>\n",
              "      <td>66.231930</td>\n",
              "      <td>-1.095348</td>\n",
              "      <td>70.126096</td>\n",
              "    </tr>\n",
              "    <tr>\n",
              "      <th>std</th>\n",
              "      <td>1784.073992</td>\n",
              "      <td>0.081705</td>\n",
              "      <td>0.007735</td>\n",
              "      <td>0.065683</td>\n",
              "      <td>0.003634</td>\n",
              "      <td>715.960600</td>\n",
              "      <td>4.008995e+05</td>\n",
              "      <td>526.316473</td>\n",
              "      <td>96455.666326</td>\n",
              "      <td>1574.791602</td>\n",
              "      <td>1.425085e+06</td>\n",
              "      <td>0.041821</td>\n",
              "      <td>0.003024</td>\n",
              "      <td>1.683946e-03</td>\n",
              "      <td>0.011653</td>\n",
              "      <td>0.001082</td>\n",
              "      <td>6.500325e-03</td>\n",
              "      <td>28.264176</td>\n",
              "      <td>100.229406</td>\n",
              "      <td>2770.558394</td>\n",
              "      <td>31.330873</td>\n",
              "      <td>439.120256</td>\n",
              "      <td>21.690676</td>\n",
              "      <td>287.143462</td>\n",
              "      <td>16.664665</td>\n",
              "      <td>116.236941</td>\n",
              "      <td>12.221340</td>\n",
              "      <td>100.767823</td>\n",
              "      <td>11.839591</td>\n",
              "      <td>68.475115</td>\n",
              "      <td>9.940460</td>\n",
              "      <td>58.400048</td>\n",
              "      <td>10.463270</td>\n",
              "      <td>41.048213</td>\n",
              "      <td>8.283921</td>\n",
              "      <td>39.494072</td>\n",
              "      <td>7.937309</td>\n",
              "      <td>36.733649</td>\n",
              "      <td>6.817013</td>\n",
              "      <td>38.135183</td>\n",
              "      <td>6.715787</td>\n",
              "      <td>32.625534</td>\n",
              "      <td>6.170181</td>\n",
              "      <td>33.154276</td>\n",
              "      <td>5.008385</td>\n",
              "      <td>34.450290</td>\n",
              "      <td>4.873599</td>\n",
              "      <td>33.904101</td>\n",
              "      <td>4.578948</td>\n",
              "      <td>33.781951</td>\n",
              "      <td>4.549697</td>\n",
              "      <td>33.479172</td>\n",
              "      <td>3.869105</td>\n",
              "      <td>34.401977</td>\n",
              "      <td>3.755957</td>\n",
              "      <td>37.174631</td>\n",
              "      <td>3.837007</td>\n",
              "      <td>45.228512</td>\n",
              "    </tr>\n",
              "    <tr>\n",
              "      <th>min</th>\n",
              "      <td>660000.000000</td>\n",
              "      <td>0.171939</td>\n",
              "      <td>0.044555</td>\n",
              "      <td>0.005276</td>\n",
              "      <td>0.000004</td>\n",
              "      <td>570.040355</td>\n",
              "      <td>7.911251e+03</td>\n",
              "      <td>898.066208</td>\n",
              "      <td>10787.185064</td>\n",
              "      <td>749.140636</td>\n",
              "      <td>1.468612e+04</td>\n",
              "      <td>0.021697</td>\n",
              "      <td>0.000044</td>\n",
              "      <td>-2.606458e-02</td>\n",
              "      <td>0.000049</td>\n",
              "      <td>-0.007150</td>\n",
              "      <td>8.299008e-07</td>\n",
              "      <td>54.978391</td>\n",
              "      <td>-552.120056</td>\n",
              "      <td>174.571365</td>\n",
              "      <td>-1.461542</td>\n",
              "      <td>93.104752</td>\n",
              "      <td>-89.870193</td>\n",
              "      <td>35.467754</td>\n",
              "      <td>-18.727547</td>\n",
              "      <td>34.263149</td>\n",
              "      <td>-38.890347</td>\n",
              "      <td>29.912008</td>\n",
              "      <td>-28.415911</td>\n",
              "      <td>20.847921</td>\n",
              "      <td>-32.930431</td>\n",
              "      <td>29.027332</td>\n",
              "      <td>-24.915823</td>\n",
              "      <td>22.464230</td>\n",
              "      <td>-31.640574</td>\n",
              "      <td>25.825863</td>\n",
              "      <td>-12.050177</td>\n",
              "      <td>19.273201</td>\n",
              "      <td>-28.057501</td>\n",
              "      <td>21.402756</td>\n",
              "      <td>-15.796446</td>\n",
              "      <td>18.642517</td>\n",
              "      <td>-27.523129</td>\n",
              "      <td>17.293922</td>\n",
              "      <td>-12.594489</td>\n",
              "      <td>14.250607</td>\n",
              "      <td>-17.539125</td>\n",
              "      <td>9.769691</td>\n",
              "      <td>-15.693844</td>\n",
              "      <td>9.169314</td>\n",
              "      <td>-17.234728</td>\n",
              "      <td>13.931521</td>\n",
              "      <td>-11.963694</td>\n",
              "      <td>15.420555</td>\n",
              "      <td>-18.501955</td>\n",
              "      <td>13.487622</td>\n",
              "      <td>-19.929634</td>\n",
              "      <td>7.956583</td>\n",
              "    </tr>\n",
              "    <tr>\n",
              "      <th>25%</th>\n",
              "      <td>661504.000000</td>\n",
              "      <td>0.319562</td>\n",
              "      <td>0.082298</td>\n",
              "      <td>0.086657</td>\n",
              "      <td>0.000942</td>\n",
              "      <td>1627.697311</td>\n",
              "      <td>1.843505e+05</td>\n",
              "      <td>1907.240605</td>\n",
              "      <td>67376.554428</td>\n",
              "      <td>3380.069642</td>\n",
              "      <td>7.727312e+05</td>\n",
              "      <td>0.070244</td>\n",
              "      <td>0.001079</td>\n",
              "      <td>-1.041584e-04</td>\n",
              "      <td>0.004383</td>\n",
              "      <td>-0.000537</td>\n",
              "      <td>1.292592e-03</td>\n",
              "      <td>99.384014</td>\n",
              "      <td>-200.763893</td>\n",
              "      <td>1844.488129</td>\n",
              "      <td>76.779915</td>\n",
              "      <td>398.020767</td>\n",
              "      <td>-24.219811</td>\n",
              "      <td>270.466576</td>\n",
              "      <td>24.108212</td>\n",
              "      <td>129.397377</td>\n",
              "      <td>-9.979157</td>\n",
              "      <td>101.266209</td>\n",
              "      <td>5.098573</td>\n",
              "      <td>76.505194</td>\n",
              "      <td>-12.870810</td>\n",
              "      <td>73.546917</td>\n",
              "      <td>1.609181</td>\n",
              "      <td>57.349041</td>\n",
              "      <td>-13.246939</td>\n",
              "      <td>59.882313</td>\n",
              "      <td>1.620753</td>\n",
              "      <td>55.734016</td>\n",
              "      <td>-10.964135</td>\n",
              "      <td>51.242420</td>\n",
              "      <td>-0.547371</td>\n",
              "      <td>46.854038</td>\n",
              "      <td>-9.357906</td>\n",
              "      <td>46.294396</td>\n",
              "      <td>-1.639417</td>\n",
              "      <td>43.416593</td>\n",
              "      <td>-7.165884</td>\n",
              "      <td>42.236251</td>\n",
              "      <td>-1.863280</td>\n",
              "      <td>40.376442</td>\n",
              "      <td>-7.207225</td>\n",
              "      <td>40.830875</td>\n",
              "      <td>-2.007015</td>\n",
              "      <td>41.884240</td>\n",
              "      <td>-4.662925</td>\n",
              "      <td>41.710184</td>\n",
              "      <td>-3.368996</td>\n",
              "      <td>42.372865</td>\n",
              "    </tr>\n",
              "    <tr>\n",
              "      <th>50%</th>\n",
              "      <td>661794.000000</td>\n",
              "      <td>0.383148</td>\n",
              "      <td>0.086615</td>\n",
              "      <td>0.122443</td>\n",
              "      <td>0.001816</td>\n",
              "      <td>2209.263090</td>\n",
              "      <td>3.384862e+05</td>\n",
              "      <td>2221.392843</td>\n",
              "      <td>111977.548036</td>\n",
              "      <td>4658.524473</td>\n",
              "      <td>1.476115e+06</td>\n",
              "      <td>0.099503</td>\n",
              "      <td>0.002022</td>\n",
              "      <td>-3.176783e-06</td>\n",
              "      <td>0.008768</td>\n",
              "      <td>-0.000036</td>\n",
              "      <td>3.410864e-03</td>\n",
              "      <td>117.453835</td>\n",
              "      <td>-120.286385</td>\n",
              "      <td>3135.163696</td>\n",
              "      <td>98.458744</td>\n",
              "      <td>608.351074</td>\n",
              "      <td>-10.707893</td>\n",
              "      <td>405.131683</td>\n",
              "      <td>36.960085</td>\n",
              "      <td>201.212822</td>\n",
              "      <td>-0.022276</td>\n",
              "      <td>151.593086</td>\n",
              "      <td>15.006957</td>\n",
              "      <td>113.922596</td>\n",
              "      <td>-5.714962</td>\n",
              "      <td>104.899479</td>\n",
              "      <td>9.668147</td>\n",
              "      <td>80.418049</td>\n",
              "      <td>-7.517393</td>\n",
              "      <td>79.773567</td>\n",
              "      <td>7.127484</td>\n",
              "      <td>74.288498</td>\n",
              "      <td>-5.924517</td>\n",
              "      <td>68.638004</td>\n",
              "      <td>3.875855</td>\n",
              "      <td>62.084000</td>\n",
              "      <td>-4.198379</td>\n",
              "      <td>61.145441</td>\n",
              "      <td>1.879286</td>\n",
              "      <td>58.208941</td>\n",
              "      <td>-3.612641</td>\n",
              "      <td>55.222454</td>\n",
              "      <td>1.212809</td>\n",
              "      <td>52.325077</td>\n",
              "      <td>-4.065605</td>\n",
              "      <td>54.717674</td>\n",
              "      <td>0.669643</td>\n",
              "      <td>54.804890</td>\n",
              "      <td>-2.393862</td>\n",
              "      <td>57.423059</td>\n",
              "      <td>-1.166289</td>\n",
              "      <td>59.186117</td>\n",
              "    </tr>\n",
              "    <tr>\n",
              "      <th>75%</th>\n",
              "      <td>661794.000000</td>\n",
              "      <td>0.435942</td>\n",
              "      <td>0.091256</td>\n",
              "      <td>0.175682</td>\n",
              "      <td>0.003577</td>\n",
              "      <td>2691.294667</td>\n",
              "      <td>6.121479e+05</td>\n",
              "      <td>2578.469836</td>\n",
              "      <td>182371.576801</td>\n",
              "      <td>5533.810460</td>\n",
              "      <td>2.555262e+06</td>\n",
              "      <td>0.131944</td>\n",
              "      <td>0.003628</td>\n",
              "      <td>6.643430e-07</td>\n",
              "      <td>0.016947</td>\n",
              "      <td>-0.000004</td>\n",
              "      <td>7.641643e-03</td>\n",
              "      <td>135.999178</td>\n",
              "      <td>-73.913042</td>\n",
              "      <td>4978.131592</td>\n",
              "      <td>119.954811</td>\n",
              "      <td>884.040359</td>\n",
              "      <td>5.505812</td>\n",
              "      <td>595.876892</td>\n",
              "      <td>48.216259</td>\n",
              "      <td>286.829681</td>\n",
              "      <td>7.928092</td>\n",
              "      <td>227.671631</td>\n",
              "      <td>23.851866</td>\n",
              "      <td>160.968445</td>\n",
              "      <td>2.975042</td>\n",
              "      <td>145.601936</td>\n",
              "      <td>18.710625</td>\n",
              "      <td>109.559862</td>\n",
              "      <td>-0.380487</td>\n",
              "      <td>108.840740</td>\n",
              "      <td>14.383611</td>\n",
              "      <td>98.768501</td>\n",
              "      <td>-1.029847</td>\n",
              "      <td>91.289865</td>\n",
              "      <td>9.706858</td>\n",
              "      <td>82.123795</td>\n",
              "      <td>-0.159545</td>\n",
              "      <td>79.761961</td>\n",
              "      <td>5.153403</td>\n",
              "      <td>75.936459</td>\n",
              "      <td>-0.317253</td>\n",
              "      <td>74.175226</td>\n",
              "      <td>4.359662</td>\n",
              "      <td>71.691755</td>\n",
              "      <td>-0.838737</td>\n",
              "      <td>75.040838</td>\n",
              "      <td>3.119212</td>\n",
              "      <td>75.385832</td>\n",
              "      <td>0.150573</td>\n",
              "      <td>78.626444</td>\n",
              "      <td>1.312615</td>\n",
              "      <td>85.375374</td>\n",
              "    </tr>\n",
              "    <tr>\n",
              "      <th>max</th>\n",
              "      <td>675808.000000</td>\n",
              "      <td>0.663685</td>\n",
              "      <td>0.108111</td>\n",
              "      <td>0.397973</td>\n",
              "      <td>0.027679</td>\n",
              "      <td>4435.243901</td>\n",
              "      <td>3.036843e+06</td>\n",
              "      <td>3509.646417</td>\n",
              "      <td>694784.811549</td>\n",
              "      <td>8677.672688</td>\n",
              "      <td>8.660900e+06</td>\n",
              "      <td>0.274631</td>\n",
              "      <td>0.028718</td>\n",
              "      <td>1.505448e-02</td>\n",
              "      <td>0.085658</td>\n",
              "      <td>0.005787</td>\n",
              "      <td>4.744598e-02</td>\n",
              "      <td>234.907670</td>\n",
              "      <td>42.039433</td>\n",
              "      <td>28243.437500</td>\n",
              "      <td>193.097397</td>\n",
              "      <td>4025.973389</td>\n",
              "      <td>56.682800</td>\n",
              "      <td>2924.435059</td>\n",
              "      <td>80.702301</td>\n",
              "      <td>902.509949</td>\n",
              "      <td>31.440584</td>\n",
              "      <td>1083.648560</td>\n",
              "      <td>45.173176</td>\n",
              "      <td>511.829315</td>\n",
              "      <td>21.827339</td>\n",
              "      <td>403.603088</td>\n",
              "      <td>49.011356</td>\n",
              "      <td>385.289734</td>\n",
              "      <td>19.133009</td>\n",
              "      <td>318.381134</td>\n",
              "      <td>27.212437</td>\n",
              "      <td>354.240997</td>\n",
              "      <td>17.421560</td>\n",
              "      <td>590.486389</td>\n",
              "      <td>23.034859</td>\n",
              "      <td>295.250336</td>\n",
              "      <td>13.051313</td>\n",
              "      <td>289.172516</td>\n",
              "      <td>18.176504</td>\n",
              "      <td>495.835510</td>\n",
              "      <td>12.356001</td>\n",
              "      <td>426.356964</td>\n",
              "      <td>13.457150</td>\n",
              "      <td>392.932373</td>\n",
              "      <td>11.482946</td>\n",
              "      <td>406.058868</td>\n",
              "      <td>15.388390</td>\n",
              "      <td>332.905426</td>\n",
              "      <td>14.694924</td>\n",
              "      <td>393.161987</td>\n",
              "      <td>15.369627</td>\n",
              "      <td>506.065155</td>\n",
              "    </tr>\n",
              "  </tbody>\n",
              "</table>\n",
              "</div>\n",
              "    <div class=\"colab-df-buttons\">\n",
              "\n",
              "  <div class=\"colab-df-container\">\n",
              "    <button class=\"colab-df-convert\" onclick=\"convertToInteractive('df-4caea461-7c93-4df8-8449-b81126d38454')\"\n",
              "            title=\"Convert this dataframe to an interactive table.\"\n",
              "            style=\"display:none;\">\n",
              "\n",
              "  <svg xmlns=\"http://www.w3.org/2000/svg\" height=\"24px\" viewBox=\"0 -960 960 960\">\n",
              "    <path d=\"M120-120v-720h720v720H120Zm60-500h600v-160H180v160Zm220 220h160v-160H400v160Zm0 220h160v-160H400v160ZM180-400h160v-160H180v160Zm440 0h160v-160H620v160ZM180-180h160v-160H180v160Zm440 0h160v-160H620v160Z\"/>\n",
              "  </svg>\n",
              "    </button>\n",
              "\n",
              "  <style>\n",
              "    .colab-df-container {\n",
              "      display:flex;\n",
              "      gap: 12px;\n",
              "    }\n",
              "\n",
              "    .colab-df-convert {\n",
              "      background-color: #E8F0FE;\n",
              "      border: none;\n",
              "      border-radius: 50%;\n",
              "      cursor: pointer;\n",
              "      display: none;\n",
              "      fill: #1967D2;\n",
              "      height: 32px;\n",
              "      padding: 0 0 0 0;\n",
              "      width: 32px;\n",
              "    }\n",
              "\n",
              "    .colab-df-convert:hover {\n",
              "      background-color: #E2EBFA;\n",
              "      box-shadow: 0px 1px 2px rgba(60, 64, 67, 0.3), 0px 1px 3px 1px rgba(60, 64, 67, 0.15);\n",
              "      fill: #174EA6;\n",
              "    }\n",
              "\n",
              "    .colab-df-buttons div {\n",
              "      margin-bottom: 4px;\n",
              "    }\n",
              "\n",
              "    [theme=dark] .colab-df-convert {\n",
              "      background-color: #3B4455;\n",
              "      fill: #D2E3FC;\n",
              "    }\n",
              "\n",
              "    [theme=dark] .colab-df-convert:hover {\n",
              "      background-color: #434B5C;\n",
              "      box-shadow: 0px 1px 3px 1px rgba(0, 0, 0, 0.15);\n",
              "      filter: drop-shadow(0px 1px 2px rgba(0, 0, 0, 0.3));\n",
              "      fill: #FFFFFF;\n",
              "    }\n",
              "  </style>\n",
              "\n",
              "    <script>\n",
              "      const buttonEl =\n",
              "        document.querySelector('#df-4caea461-7c93-4df8-8449-b81126d38454 button.colab-df-convert');\n",
              "      buttonEl.style.display =\n",
              "        google.colab.kernel.accessAllowed ? 'block' : 'none';\n",
              "\n",
              "      async function convertToInteractive(key) {\n",
              "        const element = document.querySelector('#df-4caea461-7c93-4df8-8449-b81126d38454');\n",
              "        const dataTable =\n",
              "          await google.colab.kernel.invokeFunction('convertToInteractive',\n",
              "                                                    [key], {});\n",
              "        if (!dataTable) return;\n",
              "\n",
              "        const docLinkHtml = 'Like what you see? Visit the ' +\n",
              "          '<a target=\"_blank\" href=https://colab.research.google.com/notebooks/data_table.ipynb>data table notebook</a>'\n",
              "          + ' to learn more about interactive tables.';\n",
              "        element.innerHTML = '';\n",
              "        dataTable['output_type'] = 'display_data';\n",
              "        await google.colab.output.renderOutput(dataTable, element);\n",
              "        const docLink = document.createElement('div');\n",
              "        docLink.innerHTML = docLinkHtml;\n",
              "        element.appendChild(docLink);\n",
              "      }\n",
              "    </script>\n",
              "  </div>\n",
              "\n",
              "\n",
              "    <div id=\"df-55bdd5b5-569f-4bcf-bfba-efc3d3894f14\">\n",
              "      <button class=\"colab-df-quickchart\" onclick=\"quickchart('df-55bdd5b5-569f-4bcf-bfba-efc3d3894f14')\"\n",
              "                title=\"Suggest charts\"\n",
              "                style=\"display:none;\">\n",
              "\n",
              "<svg xmlns=\"http://www.w3.org/2000/svg\" height=\"24px\"viewBox=\"0 0 24 24\"\n",
              "     width=\"24px\">\n",
              "    <g>\n",
              "        <path d=\"M19 3H5c-1.1 0-2 .9-2 2v14c0 1.1.9 2 2 2h14c1.1 0 2-.9 2-2V5c0-1.1-.9-2-2-2zM9 17H7v-7h2v7zm4 0h-2V7h2v10zm4 0h-2v-4h2v4z\"/>\n",
              "    </g>\n",
              "</svg>\n",
              "      </button>\n",
              "\n",
              "<style>\n",
              "  .colab-df-quickchart {\n",
              "      --bg-color: #E8F0FE;\n",
              "      --fill-color: #1967D2;\n",
              "      --hover-bg-color: #E2EBFA;\n",
              "      --hover-fill-color: #174EA6;\n",
              "      --disabled-fill-color: #AAA;\n",
              "      --disabled-bg-color: #DDD;\n",
              "  }\n",
              "\n",
              "  [theme=dark] .colab-df-quickchart {\n",
              "      --bg-color: #3B4455;\n",
              "      --fill-color: #D2E3FC;\n",
              "      --hover-bg-color: #434B5C;\n",
              "      --hover-fill-color: #FFFFFF;\n",
              "      --disabled-bg-color: #3B4455;\n",
              "      --disabled-fill-color: #666;\n",
              "  }\n",
              "\n",
              "  .colab-df-quickchart {\n",
              "    background-color: var(--bg-color);\n",
              "    border: none;\n",
              "    border-radius: 50%;\n",
              "    cursor: pointer;\n",
              "    display: none;\n",
              "    fill: var(--fill-color);\n",
              "    height: 32px;\n",
              "    padding: 0;\n",
              "    width: 32px;\n",
              "  }\n",
              "\n",
              "  .colab-df-quickchart:hover {\n",
              "    background-color: var(--hover-bg-color);\n",
              "    box-shadow: 0 1px 2px rgba(60, 64, 67, 0.3), 0 1px 3px 1px rgba(60, 64, 67, 0.15);\n",
              "    fill: var(--button-hover-fill-color);\n",
              "  }\n",
              "\n",
              "  .colab-df-quickchart-complete:disabled,\n",
              "  .colab-df-quickchart-complete:disabled:hover {\n",
              "    background-color: var(--disabled-bg-color);\n",
              "    fill: var(--disabled-fill-color);\n",
              "    box-shadow: none;\n",
              "  }\n",
              "\n",
              "  .colab-df-spinner {\n",
              "    border: 2px solid var(--fill-color);\n",
              "    border-color: transparent;\n",
              "    border-bottom-color: var(--fill-color);\n",
              "    animation:\n",
              "      spin 1s steps(1) infinite;\n",
              "  }\n",
              "\n",
              "  @keyframes spin {\n",
              "    0% {\n",
              "      border-color: transparent;\n",
              "      border-bottom-color: var(--fill-color);\n",
              "      border-left-color: var(--fill-color);\n",
              "    }\n",
              "    20% {\n",
              "      border-color: transparent;\n",
              "      border-left-color: var(--fill-color);\n",
              "      border-top-color: var(--fill-color);\n",
              "    }\n",
              "    30% {\n",
              "      border-color: transparent;\n",
              "      border-left-color: var(--fill-color);\n",
              "      border-top-color: var(--fill-color);\n",
              "      border-right-color: var(--fill-color);\n",
              "    }\n",
              "    40% {\n",
              "      border-color: transparent;\n",
              "      border-right-color: var(--fill-color);\n",
              "      border-top-color: var(--fill-color);\n",
              "    }\n",
              "    60% {\n",
              "      border-color: transparent;\n",
              "      border-right-color: var(--fill-color);\n",
              "    }\n",
              "    80% {\n",
              "      border-color: transparent;\n",
              "      border-right-color: var(--fill-color);\n",
              "      border-bottom-color: var(--fill-color);\n",
              "    }\n",
              "    90% {\n",
              "      border-color: transparent;\n",
              "      border-bottom-color: var(--fill-color);\n",
              "    }\n",
              "  }\n",
              "</style>\n",
              "\n",
              "      <script>\n",
              "        async function quickchart(key) {\n",
              "          const quickchartButtonEl =\n",
              "            document.querySelector('#' + key + ' button');\n",
              "          quickchartButtonEl.disabled = true;  // To prevent multiple clicks.\n",
              "          quickchartButtonEl.classList.add('colab-df-spinner');\n",
              "          try {\n",
              "            const charts = await google.colab.kernel.invokeFunction(\n",
              "                'suggestCharts', [key], {});\n",
              "          } catch (error) {\n",
              "            console.error('Error during call to suggestCharts:', error);\n",
              "          }\n",
              "          quickchartButtonEl.classList.remove('colab-df-spinner');\n",
              "          quickchartButtonEl.classList.add('colab-df-quickchart-complete');\n",
              "        }\n",
              "        (() => {\n",
              "          let quickchartButtonEl =\n",
              "            document.querySelector('#df-55bdd5b5-569f-4bcf-bfba-efc3d3894f14 button');\n",
              "          quickchartButtonEl.style.display =\n",
              "            google.colab.kernel.accessAllowed ? 'block' : 'none';\n",
              "        })();\n",
              "      </script>\n",
              "    </div>\n",
              "\n",
              "    </div>\n",
              "  </div>\n"
            ],
            "application/vnd.google.colaboratory.intrinsic+json": {
              "type": "dataframe"
            }
          },
          "metadata": {},
          "execution_count": 75
        }
      ]
    },
    {
      "cell_type": "code",
      "source": [
        "x=df.drop(['label', 'filename'],axis=1)\n",
        "y=df['label']"
      ],
      "metadata": {
        "id": "ku0OI8v38RC3"
      },
      "execution_count": null,
      "outputs": []
    },
    {
      "cell_type": "code",
      "source": [
        "print(x.shape)\n",
        "print(y.shape)"
      ],
      "metadata": {
        "colab": {
          "base_uri": "https://localhost:8080/"
        },
        "id": "AbvbglYb8ZxM",
        "outputId": "c156abc2-5982-4afc-829f-5b1ec2c1a1bb"
      },
      "execution_count": null,
      "outputs": [
        {
          "output_type": "stream",
          "name": "stdout",
          "text": [
            "(1000, 59)\n",
            "(1000,)\n"
          ]
        }
      ]
    },
    {
      "cell_type": "code",
      "source": [
        "x_train,x_test,y_train,y_test=train_test_split(x,y,test_size=0.2,random_state=42)"
      ],
      "metadata": {
        "id": "bMtPCey6r1t-"
      },
      "execution_count": null,
      "outputs": []
    },
    {
      "cell_type": "code",
      "source": [
        "print(x_train.shape)\n",
        "print(x_test.shape)\n",
        "print(y_train.shape)\n",
        "print(y_test.shape)"
      ],
      "metadata": {
        "colab": {
          "base_uri": "https://localhost:8080/"
        },
        "id": "b89RO6iZ8fXl",
        "outputId": "001a3e1e-ea67-4eee-a3b2-0e99a64fdef6"
      },
      "execution_count": null,
      "outputs": [
        {
          "output_type": "stream",
          "name": "stdout",
          "text": [
            "(800, 59)\n",
            "(200, 59)\n",
            "(800,)\n",
            "(200,)\n"
          ]
        }
      ]
    },
    {
      "cell_type": "code",
      "source": [
        "rf_model=RandomForestClassifier(n_estimators=100)\n",
        "rf_model.fit(x_train,y_train)"
      ],
      "metadata": {
        "colab": {
          "base_uri": "https://localhost:8080/",
          "height": 80
        },
        "id": "giZePFSBsALH",
        "outputId": "95121bf7-3dbe-48b1-f68d-a596b38c25f9"
      },
      "execution_count": null,
      "outputs": [
        {
          "output_type": "execute_result",
          "data": {
            "text/plain": [
              "RandomForestClassifier()"
            ],
            "text/html": [
              "<style>#sk-container-id-1 {\n",
              "  /* Definition of color scheme common for light and dark mode */\n",
              "  --sklearn-color-text: #000;\n",
              "  --sklearn-color-text-muted: #666;\n",
              "  --sklearn-color-line: gray;\n",
              "  /* Definition of color scheme for unfitted estimators */\n",
              "  --sklearn-color-unfitted-level-0: #fff5e6;\n",
              "  --sklearn-color-unfitted-level-1: #f6e4d2;\n",
              "  --sklearn-color-unfitted-level-2: #ffe0b3;\n",
              "  --sklearn-color-unfitted-level-3: chocolate;\n",
              "  /* Definition of color scheme for fitted estimators */\n",
              "  --sklearn-color-fitted-level-0: #f0f8ff;\n",
              "  --sklearn-color-fitted-level-1: #d4ebff;\n",
              "  --sklearn-color-fitted-level-2: #b3dbfd;\n",
              "  --sklearn-color-fitted-level-3: cornflowerblue;\n",
              "\n",
              "  /* Specific color for light theme */\n",
              "  --sklearn-color-text-on-default-background: var(--sg-text-color, var(--theme-code-foreground, var(--jp-content-font-color1, black)));\n",
              "  --sklearn-color-background: var(--sg-background-color, var(--theme-background, var(--jp-layout-color0, white)));\n",
              "  --sklearn-color-border-box: var(--sg-text-color, var(--theme-code-foreground, var(--jp-content-font-color1, black)));\n",
              "  --sklearn-color-icon: #696969;\n",
              "\n",
              "  @media (prefers-color-scheme: dark) {\n",
              "    /* Redefinition of color scheme for dark theme */\n",
              "    --sklearn-color-text-on-default-background: var(--sg-text-color, var(--theme-code-foreground, var(--jp-content-font-color1, white)));\n",
              "    --sklearn-color-background: var(--sg-background-color, var(--theme-background, var(--jp-layout-color0, #111)));\n",
              "    --sklearn-color-border-box: var(--sg-text-color, var(--theme-code-foreground, var(--jp-content-font-color1, white)));\n",
              "    --sklearn-color-icon: #878787;\n",
              "  }\n",
              "}\n",
              "\n",
              "#sk-container-id-1 {\n",
              "  color: var(--sklearn-color-text);\n",
              "}\n",
              "\n",
              "#sk-container-id-1 pre {\n",
              "  padding: 0;\n",
              "}\n",
              "\n",
              "#sk-container-id-1 input.sk-hidden--visually {\n",
              "  border: 0;\n",
              "  clip: rect(1px 1px 1px 1px);\n",
              "  clip: rect(1px, 1px, 1px, 1px);\n",
              "  height: 1px;\n",
              "  margin: -1px;\n",
              "  overflow: hidden;\n",
              "  padding: 0;\n",
              "  position: absolute;\n",
              "  width: 1px;\n",
              "}\n",
              "\n",
              "#sk-container-id-1 div.sk-dashed-wrapped {\n",
              "  border: 1px dashed var(--sklearn-color-line);\n",
              "  margin: 0 0.4em 0.5em 0.4em;\n",
              "  box-sizing: border-box;\n",
              "  padding-bottom: 0.4em;\n",
              "  background-color: var(--sklearn-color-background);\n",
              "}\n",
              "\n",
              "#sk-container-id-1 div.sk-container {\n",
              "  /* jupyter's `normalize.less` sets `[hidden] { display: none; }`\n",
              "     but bootstrap.min.css set `[hidden] { display: none !important; }`\n",
              "     so we also need the `!important` here to be able to override the\n",
              "     default hidden behavior on the sphinx rendered scikit-learn.org.\n",
              "     See: https://github.com/scikit-learn/scikit-learn/issues/21755 */\n",
              "  display: inline-block !important;\n",
              "  position: relative;\n",
              "}\n",
              "\n",
              "#sk-container-id-1 div.sk-text-repr-fallback {\n",
              "  display: none;\n",
              "}\n",
              "\n",
              "div.sk-parallel-item,\n",
              "div.sk-serial,\n",
              "div.sk-item {\n",
              "  /* draw centered vertical line to link estimators */\n",
              "  background-image: linear-gradient(var(--sklearn-color-text-on-default-background), var(--sklearn-color-text-on-default-background));\n",
              "  background-size: 2px 100%;\n",
              "  background-repeat: no-repeat;\n",
              "  background-position: center center;\n",
              "}\n",
              "\n",
              "/* Parallel-specific style estimator block */\n",
              "\n",
              "#sk-container-id-1 div.sk-parallel-item::after {\n",
              "  content: \"\";\n",
              "  width: 100%;\n",
              "  border-bottom: 2px solid var(--sklearn-color-text-on-default-background);\n",
              "  flex-grow: 1;\n",
              "}\n",
              "\n",
              "#sk-container-id-1 div.sk-parallel {\n",
              "  display: flex;\n",
              "  align-items: stretch;\n",
              "  justify-content: center;\n",
              "  background-color: var(--sklearn-color-background);\n",
              "  position: relative;\n",
              "}\n",
              "\n",
              "#sk-container-id-1 div.sk-parallel-item {\n",
              "  display: flex;\n",
              "  flex-direction: column;\n",
              "}\n",
              "\n",
              "#sk-container-id-1 div.sk-parallel-item:first-child::after {\n",
              "  align-self: flex-end;\n",
              "  width: 50%;\n",
              "}\n",
              "\n",
              "#sk-container-id-1 div.sk-parallel-item:last-child::after {\n",
              "  align-self: flex-start;\n",
              "  width: 50%;\n",
              "}\n",
              "\n",
              "#sk-container-id-1 div.sk-parallel-item:only-child::after {\n",
              "  width: 0;\n",
              "}\n",
              "\n",
              "/* Serial-specific style estimator block */\n",
              "\n",
              "#sk-container-id-1 div.sk-serial {\n",
              "  display: flex;\n",
              "  flex-direction: column;\n",
              "  align-items: center;\n",
              "  background-color: var(--sklearn-color-background);\n",
              "  padding-right: 1em;\n",
              "  padding-left: 1em;\n",
              "}\n",
              "\n",
              "\n",
              "/* Toggleable style: style used for estimator/Pipeline/ColumnTransformer box that is\n",
              "clickable and can be expanded/collapsed.\n",
              "- Pipeline and ColumnTransformer use this feature and define the default style\n",
              "- Estimators will overwrite some part of the style using the `sk-estimator` class\n",
              "*/\n",
              "\n",
              "/* Pipeline and ColumnTransformer style (default) */\n",
              "\n",
              "#sk-container-id-1 div.sk-toggleable {\n",
              "  /* Default theme specific background. It is overwritten whether we have a\n",
              "  specific estimator or a Pipeline/ColumnTransformer */\n",
              "  background-color: var(--sklearn-color-background);\n",
              "}\n",
              "\n",
              "/* Toggleable label */\n",
              "#sk-container-id-1 label.sk-toggleable__label {\n",
              "  cursor: pointer;\n",
              "  display: flex;\n",
              "  width: 100%;\n",
              "  margin-bottom: 0;\n",
              "  padding: 0.5em;\n",
              "  box-sizing: border-box;\n",
              "  text-align: center;\n",
              "  align-items: start;\n",
              "  justify-content: space-between;\n",
              "  gap: 0.5em;\n",
              "}\n",
              "\n",
              "#sk-container-id-1 label.sk-toggleable__label .caption {\n",
              "  font-size: 0.6rem;\n",
              "  font-weight: lighter;\n",
              "  color: var(--sklearn-color-text-muted);\n",
              "}\n",
              "\n",
              "#sk-container-id-1 label.sk-toggleable__label-arrow:before {\n",
              "  /* Arrow on the left of the label */\n",
              "  content: \"▸\";\n",
              "  float: left;\n",
              "  margin-right: 0.25em;\n",
              "  color: var(--sklearn-color-icon);\n",
              "}\n",
              "\n",
              "#sk-container-id-1 label.sk-toggleable__label-arrow:hover:before {\n",
              "  color: var(--sklearn-color-text);\n",
              "}\n",
              "\n",
              "/* Toggleable content - dropdown */\n",
              "\n",
              "#sk-container-id-1 div.sk-toggleable__content {\n",
              "  max-height: 0;\n",
              "  max-width: 0;\n",
              "  overflow: hidden;\n",
              "  text-align: left;\n",
              "  /* unfitted */\n",
              "  background-color: var(--sklearn-color-unfitted-level-0);\n",
              "}\n",
              "\n",
              "#sk-container-id-1 div.sk-toggleable__content.fitted {\n",
              "  /* fitted */\n",
              "  background-color: var(--sklearn-color-fitted-level-0);\n",
              "}\n",
              "\n",
              "#sk-container-id-1 div.sk-toggleable__content pre {\n",
              "  margin: 0.2em;\n",
              "  border-radius: 0.25em;\n",
              "  color: var(--sklearn-color-text);\n",
              "  /* unfitted */\n",
              "  background-color: var(--sklearn-color-unfitted-level-0);\n",
              "}\n",
              "\n",
              "#sk-container-id-1 div.sk-toggleable__content.fitted pre {\n",
              "  /* unfitted */\n",
              "  background-color: var(--sklearn-color-fitted-level-0);\n",
              "}\n",
              "\n",
              "#sk-container-id-1 input.sk-toggleable__control:checked~div.sk-toggleable__content {\n",
              "  /* Expand drop-down */\n",
              "  max-height: 200px;\n",
              "  max-width: 100%;\n",
              "  overflow: auto;\n",
              "}\n",
              "\n",
              "#sk-container-id-1 input.sk-toggleable__control:checked~label.sk-toggleable__label-arrow:before {\n",
              "  content: \"▾\";\n",
              "}\n",
              "\n",
              "/* Pipeline/ColumnTransformer-specific style */\n",
              "\n",
              "#sk-container-id-1 div.sk-label input.sk-toggleable__control:checked~label.sk-toggleable__label {\n",
              "  color: var(--sklearn-color-text);\n",
              "  background-color: var(--sklearn-color-unfitted-level-2);\n",
              "}\n",
              "\n",
              "#sk-container-id-1 div.sk-label.fitted input.sk-toggleable__control:checked~label.sk-toggleable__label {\n",
              "  background-color: var(--sklearn-color-fitted-level-2);\n",
              "}\n",
              "\n",
              "/* Estimator-specific style */\n",
              "\n",
              "/* Colorize estimator box */\n",
              "#sk-container-id-1 div.sk-estimator input.sk-toggleable__control:checked~label.sk-toggleable__label {\n",
              "  /* unfitted */\n",
              "  background-color: var(--sklearn-color-unfitted-level-2);\n",
              "}\n",
              "\n",
              "#sk-container-id-1 div.sk-estimator.fitted input.sk-toggleable__control:checked~label.sk-toggleable__label {\n",
              "  /* fitted */\n",
              "  background-color: var(--sklearn-color-fitted-level-2);\n",
              "}\n",
              "\n",
              "#sk-container-id-1 div.sk-label label.sk-toggleable__label,\n",
              "#sk-container-id-1 div.sk-label label {\n",
              "  /* The background is the default theme color */\n",
              "  color: var(--sklearn-color-text-on-default-background);\n",
              "}\n",
              "\n",
              "/* On hover, darken the color of the background */\n",
              "#sk-container-id-1 div.sk-label:hover label.sk-toggleable__label {\n",
              "  color: var(--sklearn-color-text);\n",
              "  background-color: var(--sklearn-color-unfitted-level-2);\n",
              "}\n",
              "\n",
              "/* Label box, darken color on hover, fitted */\n",
              "#sk-container-id-1 div.sk-label.fitted:hover label.sk-toggleable__label.fitted {\n",
              "  color: var(--sklearn-color-text);\n",
              "  background-color: var(--sklearn-color-fitted-level-2);\n",
              "}\n",
              "\n",
              "/* Estimator label */\n",
              "\n",
              "#sk-container-id-1 div.sk-label label {\n",
              "  font-family: monospace;\n",
              "  font-weight: bold;\n",
              "  display: inline-block;\n",
              "  line-height: 1.2em;\n",
              "}\n",
              "\n",
              "#sk-container-id-1 div.sk-label-container {\n",
              "  text-align: center;\n",
              "}\n",
              "\n",
              "/* Estimator-specific */\n",
              "#sk-container-id-1 div.sk-estimator {\n",
              "  font-family: monospace;\n",
              "  border: 1px dotted var(--sklearn-color-border-box);\n",
              "  border-radius: 0.25em;\n",
              "  box-sizing: border-box;\n",
              "  margin-bottom: 0.5em;\n",
              "  /* unfitted */\n",
              "  background-color: var(--sklearn-color-unfitted-level-0);\n",
              "}\n",
              "\n",
              "#sk-container-id-1 div.sk-estimator.fitted {\n",
              "  /* fitted */\n",
              "  background-color: var(--sklearn-color-fitted-level-0);\n",
              "}\n",
              "\n",
              "/* on hover */\n",
              "#sk-container-id-1 div.sk-estimator:hover {\n",
              "  /* unfitted */\n",
              "  background-color: var(--sklearn-color-unfitted-level-2);\n",
              "}\n",
              "\n",
              "#sk-container-id-1 div.sk-estimator.fitted:hover {\n",
              "  /* fitted */\n",
              "  background-color: var(--sklearn-color-fitted-level-2);\n",
              "}\n",
              "\n",
              "/* Specification for estimator info (e.g. \"i\" and \"?\") */\n",
              "\n",
              "/* Common style for \"i\" and \"?\" */\n",
              "\n",
              ".sk-estimator-doc-link,\n",
              "a:link.sk-estimator-doc-link,\n",
              "a:visited.sk-estimator-doc-link {\n",
              "  float: right;\n",
              "  font-size: smaller;\n",
              "  line-height: 1em;\n",
              "  font-family: monospace;\n",
              "  background-color: var(--sklearn-color-background);\n",
              "  border-radius: 1em;\n",
              "  height: 1em;\n",
              "  width: 1em;\n",
              "  text-decoration: none !important;\n",
              "  margin-left: 0.5em;\n",
              "  text-align: center;\n",
              "  /* unfitted */\n",
              "  border: var(--sklearn-color-unfitted-level-1) 1pt solid;\n",
              "  color: var(--sklearn-color-unfitted-level-1);\n",
              "}\n",
              "\n",
              ".sk-estimator-doc-link.fitted,\n",
              "a:link.sk-estimator-doc-link.fitted,\n",
              "a:visited.sk-estimator-doc-link.fitted {\n",
              "  /* fitted */\n",
              "  border: var(--sklearn-color-fitted-level-1) 1pt solid;\n",
              "  color: var(--sklearn-color-fitted-level-1);\n",
              "}\n",
              "\n",
              "/* On hover */\n",
              "div.sk-estimator:hover .sk-estimator-doc-link:hover,\n",
              ".sk-estimator-doc-link:hover,\n",
              "div.sk-label-container:hover .sk-estimator-doc-link:hover,\n",
              ".sk-estimator-doc-link:hover {\n",
              "  /* unfitted */\n",
              "  background-color: var(--sklearn-color-unfitted-level-3);\n",
              "  color: var(--sklearn-color-background);\n",
              "  text-decoration: none;\n",
              "}\n",
              "\n",
              "div.sk-estimator.fitted:hover .sk-estimator-doc-link.fitted:hover,\n",
              ".sk-estimator-doc-link.fitted:hover,\n",
              "div.sk-label-container:hover .sk-estimator-doc-link.fitted:hover,\n",
              ".sk-estimator-doc-link.fitted:hover {\n",
              "  /* fitted */\n",
              "  background-color: var(--sklearn-color-fitted-level-3);\n",
              "  color: var(--sklearn-color-background);\n",
              "  text-decoration: none;\n",
              "}\n",
              "\n",
              "/* Span, style for the box shown on hovering the info icon */\n",
              ".sk-estimator-doc-link span {\n",
              "  display: none;\n",
              "  z-index: 9999;\n",
              "  position: relative;\n",
              "  font-weight: normal;\n",
              "  right: .2ex;\n",
              "  padding: .5ex;\n",
              "  margin: .5ex;\n",
              "  width: min-content;\n",
              "  min-width: 20ex;\n",
              "  max-width: 50ex;\n",
              "  color: var(--sklearn-color-text);\n",
              "  box-shadow: 2pt 2pt 4pt #999;\n",
              "  /* unfitted */\n",
              "  background: var(--sklearn-color-unfitted-level-0);\n",
              "  border: .5pt solid var(--sklearn-color-unfitted-level-3);\n",
              "}\n",
              "\n",
              ".sk-estimator-doc-link.fitted span {\n",
              "  /* fitted */\n",
              "  background: var(--sklearn-color-fitted-level-0);\n",
              "  border: var(--sklearn-color-fitted-level-3);\n",
              "}\n",
              "\n",
              ".sk-estimator-doc-link:hover span {\n",
              "  display: block;\n",
              "}\n",
              "\n",
              "/* \"?\"-specific style due to the `<a>` HTML tag */\n",
              "\n",
              "#sk-container-id-1 a.estimator_doc_link {\n",
              "  float: right;\n",
              "  font-size: 1rem;\n",
              "  line-height: 1em;\n",
              "  font-family: monospace;\n",
              "  background-color: var(--sklearn-color-background);\n",
              "  border-radius: 1rem;\n",
              "  height: 1rem;\n",
              "  width: 1rem;\n",
              "  text-decoration: none;\n",
              "  /* unfitted */\n",
              "  color: var(--sklearn-color-unfitted-level-1);\n",
              "  border: var(--sklearn-color-unfitted-level-1) 1pt solid;\n",
              "}\n",
              "\n",
              "#sk-container-id-1 a.estimator_doc_link.fitted {\n",
              "  /* fitted */\n",
              "  border: var(--sklearn-color-fitted-level-1) 1pt solid;\n",
              "  color: var(--sklearn-color-fitted-level-1);\n",
              "}\n",
              "\n",
              "/* On hover */\n",
              "#sk-container-id-1 a.estimator_doc_link:hover {\n",
              "  /* unfitted */\n",
              "  background-color: var(--sklearn-color-unfitted-level-3);\n",
              "  color: var(--sklearn-color-background);\n",
              "  text-decoration: none;\n",
              "}\n",
              "\n",
              "#sk-container-id-1 a.estimator_doc_link.fitted:hover {\n",
              "  /* fitted */\n",
              "  background-color: var(--sklearn-color-fitted-level-3);\n",
              "}\n",
              "</style><div id=\"sk-container-id-1\" class=\"sk-top-container\"><div class=\"sk-text-repr-fallback\"><pre>RandomForestClassifier()</pre><b>In a Jupyter environment, please rerun this cell to show the HTML representation or trust the notebook. <br />On GitHub, the HTML representation is unable to render, please try loading this page with nbviewer.org.</b></div><div class=\"sk-container\" hidden><div class=\"sk-item\"><div class=\"sk-estimator fitted sk-toggleable\"><input class=\"sk-toggleable__control sk-hidden--visually\" id=\"sk-estimator-id-1\" type=\"checkbox\" checked><label for=\"sk-estimator-id-1\" class=\"sk-toggleable__label fitted sk-toggleable__label-arrow\"><div><div>RandomForestClassifier</div></div><div><a class=\"sk-estimator-doc-link fitted\" rel=\"noreferrer\" target=\"_blank\" href=\"https://scikit-learn.org/1.6/modules/generated/sklearn.ensemble.RandomForestClassifier.html\">?<span>Documentation for RandomForestClassifier</span></a><span class=\"sk-estimator-doc-link fitted\">i<span>Fitted</span></span></div></label><div class=\"sk-toggleable__content fitted\"><pre>RandomForestClassifier()</pre></div> </div></div></div></div>"
            ]
          },
          "metadata": {},
          "execution_count": 91
        }
      ]
    },
    {
      "cell_type": "code",
      "source": [
        "rf_model.score(x_train,y_train)"
      ],
      "metadata": {
        "colab": {
          "base_uri": "https://localhost:8080/"
        },
        "id": "uH6xYTETsP-L",
        "outputId": "e15000f5-0e79-4362-c4f8-51e243518fc6"
      },
      "execution_count": null,
      "outputs": [
        {
          "output_type": "execute_result",
          "data": {
            "text/plain": [
              "0.99875"
            ]
          },
          "metadata": {},
          "execution_count": 92
        }
      ]
    },
    {
      "cell_type": "code",
      "source": [
        "rf_model.score(x_test,y_test)"
      ],
      "metadata": {
        "colab": {
          "base_uri": "https://localhost:8080/"
        },
        "id": "caX5k774sMQP",
        "outputId": "563aa6b8-9979-420c-f716-9a3b935082eb"
      },
      "execution_count": null,
      "outputs": [
        {
          "output_type": "execute_result",
          "data": {
            "text/plain": [
              "0.745"
            ]
          },
          "metadata": {},
          "execution_count": 93
        }
      ]
    },
    {
      "cell_type": "code",
      "source": [
        "y_pred=rf_model.predict(x_test)\n",
        "print(y_pred)"
      ],
      "metadata": {
        "colab": {
          "base_uri": "https://localhost:8080/"
        },
        "id": "5_WIdVSvsdws",
        "outputId": "c2944872-4b4f-404a-c1dd-7e1ae99c8684"
      },
      "execution_count": null,
      "outputs": [
        {
          "output_type": "stream",
          "name": "stdout",
          "text": [
            "['jazz' 'pop' 'pop' 'metal' 'hiphop' 'metal' 'metal' 'jazz' 'reggae'\n",
            " 'classical' 'reggae' 'blues' 'metal' 'metal' 'pop' 'metal' 'rock'\n",
            " 'reggae' 'pop' 'rock' 'pop' 'classical' 'disco' 'jazz' 'country'\n",
            " 'country' 'classical' 'rock' 'hiphop' 'disco' 'disco' 'classical' 'metal'\n",
            " 'hiphop' 'disco' 'classical' 'metal' 'jazz' 'rock' 'blues' 'disco' 'jazz'\n",
            " 'disco' 'rock' 'rock' 'country' 'rock' 'metal' 'hiphop' 'reggae' 'jazz'\n",
            " 'reggae' 'blues' 'country' 'blues' 'blues' 'metal' 'blues' 'country'\n",
            " 'reggae' 'country' 'metal' 'jazz' 'rock' 'metal' 'metal' 'metal' 'reggae'\n",
            " 'rock' 'jazz' 'classical' 'hiphop' 'jazz' 'pop' 'rock' 'country' 'metal'\n",
            " 'blues' 'jazz' 'disco' 'metal' 'rock' 'blues' 'blues' 'hiphop' 'jazz'\n",
            " 'country' 'reggae' 'pop' 'hiphop' 'hiphop' 'hiphop' 'jazz' 'country'\n",
            " 'pop' 'hiphop' 'pop' 'blues' 'blues' 'reggae' 'pop' 'metal' 'rock'\n",
            " 'country' 'metal' 'metal' 'jazz' 'jazz' 'classical' 'rock' 'jazz'\n",
            " 'hiphop' 'rock' 'blues' 'blues' 'reggae' 'classical' 'rock' 'jazz'\n",
            " 'country' 'reggae' 'hiphop' 'reggae' 'blues' 'country' 'jazz' 'rock'\n",
            " 'hiphop' 'reggae' 'country' 'jazz' 'reggae' 'blues' 'rock' 'jazz' 'blues'\n",
            " 'classical' 'rock' 'blues' 'blues' 'blues' 'country' 'pop' 'country'\n",
            " 'reggae' 'reggae' 'blues' 'country' 'hiphop' 'disco' 'metal' 'classical'\n",
            " 'metal' 'hiphop' 'rock' 'hiphop' 'disco' 'metal' 'blues' 'reggae' 'jazz'\n",
            " 'pop' 'metal' 'metal' 'hiphop' 'metal' 'country' 'metal' 'pop' 'disco'\n",
            " 'disco' 'reggae' 'classical' 'country' 'hiphop' 'hiphop' 'blues' 'blues'\n",
            " 'reggae' 'metal' 'hiphop' 'disco' 'disco' 'jazz' 'pop' 'classical'\n",
            " 'disco' 'hiphop' 'disco' 'pop' 'classical' 'reggae' 'metal' 'classical'\n",
            " 'country' 'hiphop' 'disco' 'country' 'metal' 'rock']\n"
          ]
        }
      ]
    },
    {
      "cell_type": "code",
      "source": [
        "print(y_test)\n",
        "print(y_pred)"
      ],
      "metadata": {
        "colab": {
          "base_uri": "https://localhost:8080/"
        },
        "id": "6lnFu810sqtY",
        "outputId": "459addc3-52eb-4321-b84f-28c0ade8695d"
      },
      "execution_count": null,
      "outputs": [
        {
          "output_type": "stream",
          "name": "stdout",
          "text": [
            "521       jazz\n",
            "737        pop\n",
            "740        pop\n",
            "660      metal\n",
            "411     hiphop\n",
            "        ...   \n",
            "408     hiphop\n",
            "332      disco\n",
            "208    country\n",
            "613      metal\n",
            "78       blues\n",
            "Name: label, Length: 200, dtype: object\n",
            "['jazz' 'pop' 'pop' 'metal' 'hiphop' 'metal' 'metal' 'jazz' 'reggae'\n",
            " 'classical' 'reggae' 'blues' 'metal' 'metal' 'pop' 'metal' 'rock'\n",
            " 'reggae' 'pop' 'rock' 'pop' 'classical' 'disco' 'jazz' 'country'\n",
            " 'country' 'classical' 'rock' 'hiphop' 'disco' 'disco' 'classical' 'metal'\n",
            " 'hiphop' 'disco' 'classical' 'metal' 'jazz' 'rock' 'blues' 'disco' 'jazz'\n",
            " 'disco' 'rock' 'rock' 'country' 'rock' 'metal' 'hiphop' 'reggae' 'jazz'\n",
            " 'reggae' 'blues' 'country' 'blues' 'blues' 'metal' 'blues' 'country'\n",
            " 'reggae' 'country' 'metal' 'jazz' 'rock' 'metal' 'metal' 'metal' 'reggae'\n",
            " 'rock' 'jazz' 'classical' 'hiphop' 'jazz' 'pop' 'rock' 'country' 'metal'\n",
            " 'blues' 'jazz' 'disco' 'metal' 'rock' 'blues' 'blues' 'hiphop' 'jazz'\n",
            " 'country' 'reggae' 'pop' 'hiphop' 'hiphop' 'hiphop' 'jazz' 'country'\n",
            " 'pop' 'hiphop' 'pop' 'blues' 'blues' 'reggae' 'pop' 'metal' 'rock'\n",
            " 'country' 'metal' 'metal' 'jazz' 'jazz' 'classical' 'rock' 'jazz'\n",
            " 'hiphop' 'rock' 'blues' 'blues' 'reggae' 'classical' 'rock' 'jazz'\n",
            " 'country' 'reggae' 'hiphop' 'reggae' 'blues' 'country' 'jazz' 'rock'\n",
            " 'hiphop' 'reggae' 'country' 'jazz' 'reggae' 'blues' 'rock' 'jazz' 'blues'\n",
            " 'classical' 'rock' 'blues' 'blues' 'blues' 'country' 'pop' 'country'\n",
            " 'reggae' 'reggae' 'blues' 'country' 'hiphop' 'disco' 'metal' 'classical'\n",
            " 'metal' 'hiphop' 'rock' 'hiphop' 'disco' 'metal' 'blues' 'reggae' 'jazz'\n",
            " 'pop' 'metal' 'metal' 'hiphop' 'metal' 'country' 'metal' 'pop' 'disco'\n",
            " 'disco' 'reggae' 'classical' 'country' 'hiphop' 'hiphop' 'blues' 'blues'\n",
            " 'reggae' 'metal' 'hiphop' 'disco' 'disco' 'jazz' 'pop' 'classical'\n",
            " 'disco' 'hiphop' 'disco' 'pop' 'classical' 'reggae' 'metal' 'classical'\n",
            " 'country' 'hiphop' 'disco' 'country' 'metal' 'rock']\n"
          ]
        }
      ]
    },
    {
      "cell_type": "code",
      "source": [
        "print(accuracy_score(y_test,y_pred))"
      ],
      "metadata": {
        "colab": {
          "base_uri": "https://localhost:8080/"
        },
        "id": "qz45GOBG90z7",
        "outputId": "87fbf470-065a-4ea0-8ed2-4c9c3783de83"
      },
      "execution_count": null,
      "outputs": [
        {
          "output_type": "stream",
          "name": "stdout",
          "text": [
            "0.745\n"
          ]
        }
      ]
    },
    {
      "cell_type": "code",
      "source": [
        "print(classification_report(y_test,y_pred))"
      ],
      "metadata": {
        "colab": {
          "base_uri": "https://localhost:8080/"
        },
        "id": "HXSvIJ_I9eRJ",
        "outputId": "2ddd4144-1fe3-4cea-de82-72b2f5f3ab28"
      },
      "execution_count": null,
      "outputs": [
        {
          "output_type": "stream",
          "name": "stdout",
          "text": [
            "              precision    recall  f1-score   support\n",
            "\n",
            "       blues       0.65      0.75      0.70        20\n",
            "   classical       0.93      1.00      0.96        13\n",
            "     country       0.80      0.59      0.68        27\n",
            "       disco       0.81      0.62      0.70        21\n",
            "      hiphop       0.59      0.87      0.70        15\n",
            "        jazz       0.90      0.86      0.88        22\n",
            "       metal       0.83      0.96      0.89        25\n",
            "         pop       0.73      0.85      0.79        13\n",
            "      reggae       0.75      0.65      0.70        23\n",
            "        rock       0.50      0.48      0.49        21\n",
            "\n",
            "    accuracy                           0.74       200\n",
            "   macro avg       0.75      0.76      0.75       200\n",
            "weighted avg       0.75      0.74      0.74       200\n",
            "\n"
          ]
        }
      ]
    },
    {
      "cell_type": "code",
      "source": [
        "cm=confusion_matrix(y_test,y_pred)\n",
        "print(cm)"
      ],
      "metadata": {
        "colab": {
          "base_uri": "https://localhost:8080/"
        },
        "id": "-mZ75Dg-9hau",
        "outputId": "fb2439c5-a354-4d4e-b60e-57d3c5a4ae49"
      },
      "execution_count": null,
      "outputs": [
        {
          "output_type": "stream",
          "name": "stdout",
          "text": [
            "[[15  0  0  0  0  1  1  0  0  3]\n",
            " [ 0 13  0  0  0  0  0  0  0  0]\n",
            " [ 6  0 16  0  0  0  0  0  0  5]\n",
            " [ 0  0  0 13  5  0  1  1  0  1]\n",
            " [ 0  0  0  0 13  0  0  0  2  0]\n",
            " [ 0  0  1  0  0 19  0  1  0  1]\n",
            " [ 0  0  0  1  0  0 24  0  0  0]\n",
            " [ 0  0  0  0  0  0  0 11  2  0]\n",
            " [ 2  0  1  0  3  0  1  1 15  0]\n",
            " [ 0  1  2  2  1  1  2  1  1 10]]\n"
          ]
        }
      ]
    },
    {
      "cell_type": "code",
      "source": [
        "plt.figure(figsize=(8, 6))\n",
        "sns.heatmap(cm, annot=True, fmt='d', cmap='Blues')\n",
        "plt.xlabel('Predicted Labels')\n",
        "plt.ylabel('True Labels')\n",
        "plt.title('Confusion Matrix')\n",
        "plt.show()"
      ],
      "metadata": {
        "colab": {
          "base_uri": "https://localhost:8080/",
          "height": 564
        },
        "id": "OKFTIDmY9m8N",
        "outputId": "37d5ec19-b6bb-40e7-f483-239dfff6672f"
      },
      "execution_count": null,
      "outputs": [
        {
          "output_type": "display_data",
          "data": {
            "text/plain": [
              "<Figure size 800x600 with 2 Axes>"
            ],
            "image/png": "[encoded data removed]"
          },
          "metadata": {}
        }
      ]
    },
    {
      "cell_type": "code",
      "source": [
        "print(rf_model.feature_importances_)"
      ],
      "metadata": {
        "colab": {
          "base_uri": "https://localhost:8080/"
        },
        "id": "HmV-NOjW94GK",
        "outputId": "21ba57fc-b744-4c3f-d401-45007ccc5719"
      },
      "execution_count": null,
      "outputs": [
        {
          "output_type": "stream",
          "name": "stdout",
          "text": [
            "[0.04552382 0.04340952 0.0300621  0.0278927  0.02581904 0.01782998\n",
            " 0.0219369  0.0273259  0.01138986 0.02295049 0.02278595 0.01650804\n",
            " 0.01390373 0.01299614 0.02052202 0.01760497 0.04758566 0.00846929\n",
            " 0.02443008 0.01519536 0.01673493 0.01071017 0.01428287 0.01083745\n",
            " 0.02723451 0.01700354 0.01249623 0.02563517 0.02193743 0.01610081\n",
            " 0.01518861 0.0159915  0.01734314 0.01418242 0.02277799 0.01023461\n",
            " 0.01110675 0.01590115 0.01767226 0.00944828 0.01545671 0.00969776\n",
            " 0.01383086 0.00987879 0.01186629 0.00936118 0.01338639 0.0073981\n",
            " 0.01180314 0.00795689 0.01647331 0.00830796 0.00873466 0.01074625\n",
            " 0.01043023 0.01242843 0.01010976 0.01517192]\n"
          ]
        }
      ]
    },
    {
      "cell_type": "code",
      "source": [
        "feature_importance = pd.Series(rf_model.feature_importances_,index=x.columns)\n",
        "feature_importance.nlargest(10).plot(kind='barh')\n",
        "plt.title(\"Top 10 Feature Importance\")\n",
        "plt.show()"
      ],
      "metadata": {
        "colab": {
          "base_uri": "https://localhost:8080/",
          "height": 452
        },
        "id": "v-mk_78--AGw",
        "outputId": "93987b74-c25b-4904-9343-c657f748279a"
      },
      "execution_count": null,
      "outputs": [
        {
          "output_type": "display_data",
          "data": {
            "text/plain": [
              "<Figure size 640x480 with 1 Axes>"
            ],
            "image/png": "[encoded data removed]"
          },
          "metadata": {}
        }
      ]
    },
    {
      "cell_type": "code",
      "source": [
        "plt.figure(figsize=(8, 5))\n",
        "sns.histplot(y_pred, color='blue', label=\"Predicted\", alpha=0.5, bins=10, kde=True)\n",
        "sns.histplot(y_test, color='red', label=\"Actual\", alpha=0.5, bins=10, kde=True)\n",
        "\n",
        "plt.legend()\n",
        "plt.title(\"Distribution of Predictions vs Actual Values\")\n",
        "plt.xlabel(\"Class\")\n",
        "plt.ylabel(\"Count\")\n",
        "plt.show()"
      ],
      "metadata": {
        "colab": {
          "base_uri": "https://localhost:8080/",
          "height": 487
        },
        "id": "sadadg6--W7N",
        "outputId": "fec74914-f903-4ad1-c780-fb0dea4ac43b"
      },
      "execution_count": null,
      "outputs": [
        {
          "output_type": "display_data",
          "data": {
            "text/plain": [
              "<Figure size 800x500 with 1 Axes>"
            ],
            "image/png": "[encoded data removed]"
          },
          "metadata": {}
        }
      ]
    },
    {
      "cell_type": "code",
      "source": [
        "DATASET_PATH = \"/content/drive/MyDrive/archive (1).zip\""
      ],
      "metadata": {
        "id": "trRBmiCoORnz"
      },
      "execution_count": null,
      "outputs": []
    },
    {
      "cell_type": "code",
      "source": [
        "import os\n",
        "\n",
        "print(os.listdir(\"/content/drive/MyDrive/GTZAN_extracted\"))\n",
        "print(os.listdir(\"/content/drive/MyDrive/GTZAN_extracted/Data\"))\n",
        "print(os.listdir(\"/content/drive/MyDrive/GTZAN_extracted/Data/genres_original\"))"
      ],
      "metadata": {
        "colab": {
          "base_uri": "https://localhost:8080/"
        },
        "id": "2aVKH4pXYY8-",
        "outputId": "35544bd8-7480-406b-8a16-af2ff9fb5708"
      },
      "execution_count": 17,
      "outputs": [
        {
          "output_type": "stream",
          "name": "stdout",
          "text": [
            "['Data']\n",
            "['images_original', 'features_3_sec.csv', 'genres_original', 'features_30_sec.csv']\n",
            "['country', 'pop', 'reggae', 'disco', 'rock', 'jazz', 'metal', 'blues', 'hiphop', 'classical', 'Data']\n"
          ]
        }
      ]
    },
    {
      "cell_type": "code",
      "source": [
        "DATASET_PATH = \"/content/drive/MyDrive/GTZAN_extracted/Data/genres_original\"\n"
      ],
      "metadata": {
        "id": "0C_xe3VKYYqu"
      },
      "execution_count": 5,
      "outputs": []
    },
    {
      "cell_type": "code",
      "source": [
        "print(os.listdir(DATASET_PATH))"
      ],
      "metadata": {
        "colab": {
          "base_uri": "https://localhost:8080/"
        },
        "id": "id2DZ-iIZIbJ",
        "outputId": "7b901fb1-db43-4e10-90b5-c9de2471b4a2"
      },
      "execution_count": 19,
      "outputs": [
        {
          "output_type": "stream",
          "name": "stdout",
          "text": [
            "['country', 'pop', 'reggae', 'disco', 'rock', 'jazz', 'metal', 'blues', 'hiphop', 'classical', 'Data']\n"
          ]
        }
      ]
    },
    {
      "cell_type": "code",
      "source": [
        "for root, dirs, files in os.walk(DATASET_PATH):\n",
        "    for file in files:\n",
        "        if file.endswith(\".wav\"):\n",
        "            file_path = os.path.join(root, file)\n",
        "            try:\n",
        "                audio = AudioSegment.from_file(file_path)\n",
        "                audio = audio.set_channels(1).set_frame_rate(22050)\n",
        "                audio.export(file_path, format=\"wav\")\n",
        "            except:\n",
        "                print(f\"unvalid file {file_path}\")"
      ],
      "metadata": {
        "colab": {
          "base_uri": "https://localhost:8080/"
        },
        "id": "SOEUcud5cZ8m",
        "outputId": "5932ab38-138f-4db1-902d-dca91f127660"
      },
      "execution_count": 6,
      "outputs": [
        {
          "output_type": "stream",
          "name": "stdout",
          "text": [
            "unvalid file /content/drive/MyDrive/GTZAN_extracted/Data/genres_original/jazz/jazz.00054.wav\n",
            "unvalid file /content/drive/MyDrive/GTZAN_extracted/Data/genres_original/Data/genres_original/jazz/jazz.00054.wav\n"
          ]
        }
      ]
    },
    {
      "cell_type": "code",
      "source": [
        "def extract_features(file_path):\n",
        "    try:\n",
        "        y, sr = librosa.load(file_path, duration=30)\n",
        "        mfcc = librosa.feature.mfcc(y=y, sr=sr, n_mfcc=13)\n",
        "        return np.mean(mfcc.T, axis=0)\n",
        "    except Exception as e:\n",
        "        print(f\"Error processing file {file_path}: {e}\")\n",
        "        return None\n",
        "\n",
        "\n",
        "X, y = [], []\n",
        "genres = os.listdir(DATASET_PATH)\n",
        "for genre in genres:\n",
        "    genre_path = os.path.join(DATASET_PATH, genre)\n",
        "    for file in os.listdir(genre_path):\n",
        "        if file.endswith(\".wav\"):\n",
        "            file_path = os.path.join(genre_path, file)\n",
        "            features = extract_features(file_path)\n",
        "            if features is not None:\n",
        "                X.append(features)\n",
        "                y.append(genre)\n",
        "\n"
      ],
      "metadata": {
        "colab": {
          "base_uri": "https://localhost:8080/"
        },
        "id": "pUNb9e8WdEr7",
        "outputId": "ab695d32-de01-4aae-da22-c2ef31bc99fb"
      },
      "execution_count": 7,
      "outputs": [
        {
          "output_type": "stream",
          "name": "stderr",
          "text": [
            "/tmp/ipython-input-3292891292.py:3: UserWarning: PySoundFile failed. Trying audioread instead.\n",
            "  y, sr = librosa.load(file_path, duration=30)\n",
            "/usr/local/lib/python3.11/dist-packages/librosa/core/audio.py:184: FutureWarning: librosa.core.audio.__audioread_load\n",
            "\tDeprecated as of librosa version 0.10.0.\n",
            "\tIt will be removed in librosa version 1.0.\n",
            "  y, sr_native = __audioread_load(path, offset, duration, dtype)\n"
          ]
        },
        {
          "output_type": "stream",
          "name": "stdout",
          "text": [
            "Error processing file /content/drive/MyDrive/GTZAN_extracted/Data/genres_original/jazz/jazz.00054.wav: \n"
          ]
        }
      ]
    },
    {
      "cell_type": "code",
      "source": [
        "X = np.array(X)\n",
        "y = np.array(y)"
      ],
      "metadata": {
        "id": "H3T27LtiehZA"
      },
      "execution_count": 40,
      "outputs": []
    },
    {
      "cell_type": "code",
      "source": [
        "X_train, X_test, y_train, y_test = train_test_split(X,y, test_size=0.2, random_state=42)"
      ],
      "metadata": {
        "id": "y41UAKmCOWje"
      },
      "execution_count": 41,
      "outputs": []
    },
    {
      "cell_type": "code",
      "source": [
        "model = RandomForestClassifier(n_estimators=100)\n",
        "model.fit(X_train, y_train)"
      ],
      "metadata": {
        "id": "7D51dfr9OaQ-",
        "colab": {
          "base_uri": "https://localhost:8080/",
          "height": 80
        },
        "outputId": "1eece904-742c-4490-dbfb-73ba4dd5bed3"
      },
      "execution_count": 42,
      "outputs": [
        {
          "output_type": "execute_result",
          "data": {
            "text/plain": [
              "RandomForestClassifier()"
            ],
            "text/html": [
              "<style>#sk-container-id-2 {\n",
              "  /* Definition of color scheme common for light and dark mode */\n",
              "  --sklearn-color-text: #000;\n",
              "  --sklearn-color-text-muted: #666;\n",
              "  --sklearn-color-line: gray;\n",
              "  /* Definition of color scheme for unfitted estimators */\n",
              "  --sklearn-color-unfitted-level-0: #fff5e6;\n",
              "  --sklearn-color-unfitted-level-1: #f6e4d2;\n",
              "  --sklearn-color-unfitted-level-2: #ffe0b3;\n",
              "  --sklearn-color-unfitted-level-3: chocolate;\n",
              "  /* Definition of color scheme for fitted estimators */\n",
              "  --sklearn-color-fitted-level-0: #f0f8ff;\n",
              "  --sklearn-color-fitted-level-1: #d4ebff;\n",
              "  --sklearn-color-fitted-level-2: #b3dbfd;\n",
              "  --sklearn-color-fitted-level-3: cornflowerblue;\n",
              "\n",
              "  /* Specific color for light theme */\n",
              "  --sklearn-color-text-on-default-background: var(--sg-text-color, var(--theme-code-foreground, var(--jp-content-font-color1, black)));\n",
              "  --sklearn-color-background: var(--sg-background-color, var(--theme-background, var(--jp-layout-color0, white)));\n",
              "  --sklearn-color-border-box: var(--sg-text-color, var(--theme-code-foreground, var(--jp-content-font-color1, black)));\n",
              "  --sklearn-color-icon: #696969;\n",
              "\n",
              "  @media (prefers-color-scheme: dark) {\n",
              "    /* Redefinition of color scheme for dark theme */\n",
              "    --sklearn-color-text-on-default-background: var(--sg-text-color, var(--theme-code-foreground, var(--jp-content-font-color1, white)));\n",
              "    --sklearn-color-background: var(--sg-background-color, var(--theme-background, var(--jp-layout-color0, #111)));\n",
              "    --sklearn-color-border-box: var(--sg-text-color, var(--theme-code-foreground, var(--jp-content-font-color1, white)));\n",
              "    --sklearn-color-icon: #878787;\n",
              "  }\n",
              "}\n",
              "\n",
              "#sk-container-id-2 {\n",
              "  color: var(--sklearn-color-text);\n",
              "}\n",
              "\n",
              "#sk-container-id-2 pre {\n",
              "  padding: 0;\n",
              "}\n",
              "\n",
              "#sk-container-id-2 input.sk-hidden--visually {\n",
              "  border: 0;\n",
              "  clip: rect(1px 1px 1px 1px);\n",
              "  clip: rect(1px, 1px, 1px, 1px);\n",
              "  height: 1px;\n",
              "  margin: -1px;\n",
              "  overflow: hidden;\n",
              "  padding: 0;\n",
              "  position: absolute;\n",
              "  width: 1px;\n",
              "}\n",
              "\n",
              "#sk-container-id-2 div.sk-dashed-wrapped {\n",
              "  border: 1px dashed var(--sklearn-color-line);\n",
              "  margin: 0 0.4em 0.5em 0.4em;\n",
              "  box-sizing: border-box;\n",
              "  padding-bottom: 0.4em;\n",
              "  background-color: var(--sklearn-color-background);\n",
              "}\n",
              "\n",
              "#sk-container-id-2 div.sk-container {\n",
              "  /* jupyter's `normalize.less` sets `[hidden] { display: none; }`\n",
              "     but bootstrap.min.css set `[hidden] { display: none !important; }`\n",
              "     so we also need the `!important` here to be able to override the\n",
              "     default hidden behavior on the sphinx rendered scikit-learn.org.\n",
              "     See: https://github.com/scikit-learn/scikit-learn/issues/21755 */\n",
              "  display: inline-block !important;\n",
              "  position: relative;\n",
              "}\n",
              "\n",
              "#sk-container-id-2 div.sk-text-repr-fallback {\n",
              "  display: none;\n",
              "}\n",
              "\n",
              "div.sk-parallel-item,\n",
              "div.sk-serial,\n",
              "div.sk-item {\n",
              "  /* draw centered vertical line to link estimators */\n",
              "  background-image: linear-gradient(var(--sklearn-color-text-on-default-background), var(--sklearn-color-text-on-default-background));\n",
              "  background-size: 2px 100%;\n",
              "  background-repeat: no-repeat;\n",
              "  background-position: center center;\n",
              "}\n",
              "\n",
              "/* Parallel-specific style estimator block */\n",
              "\n",
              "#sk-container-id-2 div.sk-parallel-item::after {\n",
              "  content: \"\";\n",
              "  width: 100%;\n",
              "  border-bottom: 2px solid var(--sklearn-color-text-on-default-background);\n",
              "  flex-grow: 1;\n",
              "}\n",
              "\n",
              "#sk-container-id-2 div.sk-parallel {\n",
              "  display: flex;\n",
              "  align-items: stretch;\n",
              "  justify-content: center;\n",
              "  background-color: var(--sklearn-color-background);\n",
              "  position: relative;\n",
              "}\n",
              "\n",
              "#sk-container-id-2 div.sk-parallel-item {\n",
              "  display: flex;\n",
              "  flex-direction: column;\n",
              "}\n",
              "\n",
              "#sk-container-id-2 div.sk-parallel-item:first-child::after {\n",
              "  align-self: flex-end;\n",
              "  width: 50%;\n",
              "}\n",
              "\n",
              "#sk-container-id-2 div.sk-parallel-item:last-child::after {\n",
              "  align-self: flex-start;\n",
              "  width: 50%;\n",
              "}\n",
              "\n",
              "#sk-container-id-2 div.sk-parallel-item:only-child::after {\n",
              "  width: 0;\n",
              "}\n",
              "\n",
              "/* Serial-specific style estimator block */\n",
              "\n",
              "#sk-container-id-2 div.sk-serial {\n",
              "  display: flex;\n",
              "  flex-direction: column;\n",
              "  align-items: center;\n",
              "  background-color: var(--sklearn-color-background);\n",
              "  padding-right: 1em;\n",
              "  padding-left: 1em;\n",
              "}\n",
              "\n",
              "\n",
              "/* Toggleable style: style used for estimator/Pipeline/ColumnTransformer box that is\n",
              "clickable and can be expanded/collapsed.\n",
              "- Pipeline and ColumnTransformer use this feature and define the default style\n",
              "- Estimators will overwrite some part of the style using the `sk-estimator` class\n",
              "*/\n",
              "\n",
              "/* Pipeline and ColumnTransformer style (default) */\n",
              "\n",
              "#sk-container-id-2 div.sk-toggleable {\n",
              "  /* Default theme specific background. It is overwritten whether we have a\n",
              "  specific estimator or a Pipeline/ColumnTransformer */\n",
              "  background-color: var(--sklearn-color-background);\n",
              "}\n",
              "\n",
              "/* Toggleable label */\n",
              "#sk-container-id-2 label.sk-toggleable__label {\n",
              "  cursor: pointer;\n",
              "  display: flex;\n",
              "  width: 100%;\n",
              "  margin-bottom: 0;\n",
              "  padding: 0.5em;\n",
              "  box-sizing: border-box;\n",
              "  text-align: center;\n",
              "  align-items: start;\n",
              "  justify-content: space-between;\n",
              "  gap: 0.5em;\n",
              "}\n",
              "\n",
              "#sk-container-id-2 label.sk-toggleable__label .caption {\n",
              "  font-size: 0.6rem;\n",
              "  font-weight: lighter;\n",
              "  color: var(--sklearn-color-text-muted);\n",
              "}\n",
              "\n",
              "#sk-container-id-2 label.sk-toggleable__label-arrow:before {\n",
              "  /* Arrow on the left of the label */\n",
              "  content: \"▸\";\n",
              "  float: left;\n",
              "  margin-right: 0.25em;\n",
              "  color: var(--sklearn-color-icon);\n",
              "}\n",
              "\n",
              "#sk-container-id-2 label.sk-toggleable__label-arrow:hover:before {\n",
              "  color: var(--sklearn-color-text);\n",
              "}\n",
              "\n",
              "/* Toggleable content - dropdown */\n",
              "\n",
              "#sk-container-id-2 div.sk-toggleable__content {\n",
              "  max-height: 0;\n",
              "  max-width: 0;\n",
              "  overflow: hidden;\n",
              "  text-align: left;\n",
              "  /* unfitted */\n",
              "  background-color: var(--sklearn-color-unfitted-level-0);\n",
              "}\n",
              "\n",
              "#sk-container-id-2 div.sk-toggleable__content.fitted {\n",
              "  /* fitted */\n",
              "  background-color: var(--sklearn-color-fitted-level-0);\n",
              "}\n",
              "\n",
              "#sk-container-id-2 div.sk-toggleable__content pre {\n",
              "  margin: 0.2em;\n",
              "  border-radius: 0.25em;\n",
              "  color: var(--sklearn-color-text);\n",
              "  /* unfitted */\n",
              "  background-color: var(--sklearn-color-unfitted-level-0);\n",
              "}\n",
              "\n",
              "#sk-container-id-2 div.sk-toggleable__content.fitted pre {\n",
              "  /* unfitted */\n",
              "  background-color: var(--sklearn-color-fitted-level-0);\n",
              "}\n",
              "\n",
              "#sk-container-id-2 input.sk-toggleable__control:checked~div.sk-toggleable__content {\n",
              "  /* Expand drop-down */\n",
              "  max-height: 200px;\n",
              "  max-width: 100%;\n",
              "  overflow: auto;\n",
              "}\n",
              "\n",
              "#sk-container-id-2 input.sk-toggleable__control:checked~label.sk-toggleable__label-arrow:before {\n",
              "  content: \"▾\";\n",
              "}\n",
              "\n",
              "/* Pipeline/ColumnTransformer-specific style */\n",
              "\n",
              "#sk-container-id-2 div.sk-label input.sk-toggleable__control:checked~label.sk-toggleable__label {\n",
              "  color: var(--sklearn-color-text);\n",
              "  background-color: var(--sklearn-color-unfitted-level-2);\n",
              "}\n",
              "\n",
              "#sk-container-id-2 div.sk-label.fitted input.sk-toggleable__control:checked~label.sk-toggleable__label {\n",
              "  background-color: var(--sklearn-color-fitted-level-2);\n",
              "}\n",
              "\n",
              "/* Estimator-specific style */\n",
              "\n",
              "/* Colorize estimator box */\n",
              "#sk-container-id-2 div.sk-estimator input.sk-toggleable__control:checked~label.sk-toggleable__label {\n",
              "  /* unfitted */\n",
              "  background-color: var(--sklearn-color-unfitted-level-2);\n",
              "}\n",
              "\n",
              "#sk-container-id-2 div.sk-estimator.fitted input.sk-toggleable__control:checked~label.sk-toggleable__label {\n",
              "  /* fitted */\n",
              "  background-color: var(--sklearn-color-fitted-level-2);\n",
              "}\n",
              "\n",
              "#sk-container-id-2 div.sk-label label.sk-toggleable__label,\n",
              "#sk-container-id-2 div.sk-label label {\n",
              "  /* The background is the default theme color */\n",
              "  color: var(--sklearn-color-text-on-default-background);\n",
              "}\n",
              "\n",
              "/* On hover, darken the color of the background */\n",
              "#sk-container-id-2 div.sk-label:hover label.sk-toggleable__label {\n",
              "  color: var(--sklearn-color-text);\n",
              "  background-color: var(--sklearn-color-unfitted-level-2);\n",
              "}\n",
              "\n",
              "/* Label box, darken color on hover, fitted */\n",
              "#sk-container-id-2 div.sk-label.fitted:hover label.sk-toggleable__label.fitted {\n",
              "  color: var(--sklearn-color-text);\n",
              "  background-color: var(--sklearn-color-fitted-level-2);\n",
              "}\n",
              "\n",
              "/* Estimator label */\n",
              "\n",
              "#sk-container-id-2 div.sk-label label {\n",
              "  font-family: monospace;\n",
              "  font-weight: bold;\n",
              "  display: inline-block;\n",
              "  line-height: 1.2em;\n",
              "}\n",
              "\n",
              "#sk-container-id-2 div.sk-label-container {\n",
              "  text-align: center;\n",
              "}\n",
              "\n",
              "/* Estimator-specific */\n",
              "#sk-container-id-2 div.sk-estimator {\n",
              "  font-family: monospace;\n",
              "  border: 1px dotted var(--sklearn-color-border-box);\n",
              "  border-radius: 0.25em;\n",
              "  box-sizing: border-box;\n",
              "  margin-bottom: 0.5em;\n",
              "  /* unfitted */\n",
              "  background-color: var(--sklearn-color-unfitted-level-0);\n",
              "}\n",
              "\n",
              "#sk-container-id-2 div.sk-estimator.fitted {\n",
              "  /* fitted */\n",
              "  background-color: var(--sklearn-color-fitted-level-0);\n",
              "}\n",
              "\n",
              "/* on hover */\n",
              "#sk-container-id-2 div.sk-estimator:hover {\n",
              "  /* unfitted */\n",
              "  background-color: var(--sklearn-color-unfitted-level-2);\n",
              "}\n",
              "\n",
              "#sk-container-id-2 div.sk-estimator.fitted:hover {\n",
              "  /* fitted */\n",
              "  background-color: var(--sklearn-color-fitted-level-2);\n",
              "}\n",
              "\n",
              "/* Specification for estimator info (e.g. \"i\" and \"?\") */\n",
              "\n",
              "/* Common style for \"i\" and \"?\" */\n",
              "\n",
              ".sk-estimator-doc-link,\n",
              "a:link.sk-estimator-doc-link,\n",
              "a:visited.sk-estimator-doc-link {\n",
              "  float: right;\n",
              "  font-size: smaller;\n",
              "  line-height: 1em;\n",
              "  font-family: monospace;\n",
              "  background-color: var(--sklearn-color-background);\n",
              "  border-radius: 1em;\n",
              "  height: 1em;\n",
              "  width: 1em;\n",
              "  text-decoration: none !important;\n",
              "  margin-left: 0.5em;\n",
              "  text-align: center;\n",
              "  /* unfitted */\n",
              "  border: var(--sklearn-color-unfitted-level-1) 1pt solid;\n",
              "  color: var(--sklearn-color-unfitted-level-1);\n",
              "}\n",
              "\n",
              ".sk-estimator-doc-link.fitted,\n",
              "a:link.sk-estimator-doc-link.fitted,\n",
              "a:visited.sk-estimator-doc-link.fitted {\n",
              "  /* fitted */\n",
              "  border: var(--sklearn-color-fitted-level-1) 1pt solid;\n",
              "  color: var(--sklearn-color-fitted-level-1);\n",
              "}\n",
              "\n",
              "/* On hover */\n",
              "div.sk-estimator:hover .sk-estimator-doc-link:hover,\n",
              ".sk-estimator-doc-link:hover,\n",
              "div.sk-label-container:hover .sk-estimator-doc-link:hover,\n",
              ".sk-estimator-doc-link:hover {\n",
              "  /* unfitted */\n",
              "  background-color: var(--sklearn-color-unfitted-level-3);\n",
              "  color: var(--sklearn-color-background);\n",
              "  text-decoration: none;\n",
              "}\n",
              "\n",
              "div.sk-estimator.fitted:hover .sk-estimator-doc-link.fitted:hover,\n",
              ".sk-estimator-doc-link.fitted:hover,\n",
              "div.sk-label-container:hover .sk-estimator-doc-link.fitted:hover,\n",
              ".sk-estimator-doc-link.fitted:hover {\n",
              "  /* fitted */\n",
              "  background-color: var(--sklearn-color-fitted-level-3);\n",
              "  color: var(--sklearn-color-background);\n",
              "  text-decoration: none;\n",
              "}\n",
              "\n",
              "/* Span, style for the box shown on hovering the info icon */\n",
              ".sk-estimator-doc-link span {\n",
              "  display: none;\n",
              "  z-index: 9999;\n",
              "  position: relative;\n",
              "  font-weight: normal;\n",
              "  right: .2ex;\n",
              "  padding: .5ex;\n",
              "  margin: .5ex;\n",
              "  width: min-content;\n",
              "  min-width: 20ex;\n",
              "  max-width: 50ex;\n",
              "  color: var(--sklearn-color-text);\n",
              "  box-shadow: 2pt 2pt 4pt #999;\n",
              "  /* unfitted */\n",
              "  background: var(--sklearn-color-unfitted-level-0);\n",
              "  border: .5pt solid var(--sklearn-color-unfitted-level-3);\n",
              "}\n",
              "\n",
              ".sk-estimator-doc-link.fitted span {\n",
              "  /* fitted */\n",
              "  background: var(--sklearn-color-fitted-level-0);\n",
              "  border: var(--sklearn-color-fitted-level-3);\n",
              "}\n",
              "\n",
              ".sk-estimator-doc-link:hover span {\n",
              "  display: block;\n",
              "}\n",
              "\n",
              "/* \"?\"-specific style due to the `<a>` HTML tag */\n",
              "\n",
              "#sk-container-id-2 a.estimator_doc_link {\n",
              "  float: right;\n",
              "  font-size: 1rem;\n",
              "  line-height: 1em;\n",
              "  font-family: monospace;\n",
              "  background-color: var(--sklearn-color-background);\n",
              "  border-radius: 1rem;\n",
              "  height: 1rem;\n",
              "  width: 1rem;\n",
              "  text-decoration: none;\n",
              "  /* unfitted */\n",
              "  color: var(--sklearn-color-unfitted-level-1);\n",
              "  border: var(--sklearn-color-unfitted-level-1) 1pt solid;\n",
              "}\n",
              "\n",
              "#sk-container-id-2 a.estimator_doc_link.fitted {\n",
              "  /* fitted */\n",
              "  border: var(--sklearn-color-fitted-level-1) 1pt solid;\n",
              "  color: var(--sklearn-color-fitted-level-1);\n",
              "}\n",
              "\n",
              "/* On hover */\n",
              "#sk-container-id-2 a.estimator_doc_link:hover {\n",
              "  /* unfitted */\n",
              "  background-color: var(--sklearn-color-unfitted-level-3);\n",
              "  color: var(--sklearn-color-background);\n",
              "  text-decoration: none;\n",
              "}\n",
              "\n",
              "#sk-container-id-2 a.estimator_doc_link.fitted:hover {\n",
              "  /* fitted */\n",
              "  background-color: var(--sklearn-color-fitted-level-3);\n",
              "}\n",
              "</style><div id=\"sk-container-id-2\" class=\"sk-top-container\"><div class=\"sk-text-repr-fallback\"><pre>RandomForestClassifier()</pre><b>In a Jupyter environment, please rerun this cell to show the HTML representation or trust the notebook. <br />On GitHub, the HTML representation is unable to render, please try loading this page with nbviewer.org.</b></div><div class=\"sk-container\" hidden><div class=\"sk-item\"><div class=\"sk-estimator fitted sk-toggleable\"><input class=\"sk-toggleable__control sk-hidden--visually\" id=\"sk-estimator-id-2\" type=\"checkbox\" checked><label for=\"sk-estimator-id-2\" class=\"sk-toggleable__label fitted sk-toggleable__label-arrow\"><div><div>RandomForestClassifier</div></div><div><a class=\"sk-estimator-doc-link fitted\" rel=\"noreferrer\" target=\"_blank\" href=\"https://scikit-learn.org/1.6/modules/generated/sklearn.ensemble.RandomForestClassifier.html\">?<span>Documentation for RandomForestClassifier</span></a><span class=\"sk-estimator-doc-link fitted\">i<span>Fitted</span></span></div></label><div class=\"sk-toggleable__content fitted\"><pre>RandomForestClassifier()</pre></div> </div></div></div></div>"
            ]
          },
          "metadata": {},
          "execution_count": 42
        }
      ]
    },
    {
      "cell_type": "code",
      "source": [
        "model.score(X_train,y_train)"
      ],
      "metadata": {
        "id": "obZzihiKOcIB",
        "colab": {
          "base_uri": "https://localhost:8080/"
        },
        "outputId": "771630fa-7759-4abe-e5ca-4158bf56d2fc"
      },
      "execution_count": 43,
      "outputs": [
        {
          "output_type": "execute_result",
          "data": {
            "text/plain": [
              "0.9987484355444305"
            ]
          },
          "metadata": {},
          "execution_count": 43
        }
      ]
    },
    {
      "cell_type": "code",
      "source": [
        "model.score(X_test,y_test)"
      ],
      "metadata": {
        "id": "h2yn1SJQOjiw",
        "colab": {
          "base_uri": "https://localhost:8080/"
        },
        "outputId": "a9f9e69f-a6bc-4aba-fa93-f869308fba9b"
      },
      "execution_count": 44,
      "outputs": [
        {
          "output_type": "execute_result",
          "data": {
            "text/plain": [
              "0.535"
            ]
          },
          "metadata": {},
          "execution_count": 44
        }
      ]
    },
    {
      "cell_type": "code",
      "source": [
        "y_pred = model.predict(X_test)\n",
        "print(y_pred)"
      ],
      "metadata": {
        "id": "7UjJ8fXXOlpc",
        "colab": {
          "base_uri": "https://localhost:8080/"
        },
        "outputId": "7142431d-3ec1-4956-f93f-60b511a639f5"
      },
      "execution_count": 45,
      "outputs": [
        {
          "output_type": "stream",
          "name": "stdout",
          "text": [
            "['disco' 'blues' 'disco' 'reggae' 'blues' 'blues' 'hiphop' 'country'\n",
            " 'reggae' 'metal' 'classical' 'metal' 'pop' 'metal' 'blues' 'reggae'\n",
            " 'metal' 'blues' 'disco' 'hiphop' 'jazz' 'classical' 'pop' 'hiphop'\n",
            " 'classical' 'blues' 'reggae' 'reggae' 'rock' 'rock' 'jazz' 'pop' 'metal'\n",
            " 'pop' 'metal' 'metal' 'pop' 'reggae' 'metal' 'jazz' 'blues' 'country'\n",
            " 'classical' 'jazz' 'pop' 'jazz' 'reggae' 'blues' 'jazz' 'reggae' 'metal'\n",
            " 'jazz' 'classical' 'country' 'country' 'rock' 'jazz' 'blues' 'jazz'\n",
            " 'blues' 'country' 'metal' 'disco' 'pop' 'blues' 'pop' 'jazz' 'blues'\n",
            " 'reggae' 'hiphop' 'country' 'pop' 'disco' 'hiphop' 'jazz' 'classical'\n",
            " 'pop' 'jazz' 'jazz' 'classical' 'country' 'jazz' 'jazz' 'hiphop' 'disco'\n",
            " 'rock' 'metal' 'jazz' 'pop' 'jazz' 'disco' 'hiphop' 'disco' 'classical'\n",
            " 'jazz' 'disco' 'disco' 'reggae' 'rock' 'jazz' 'metal' 'reggae' 'reggae'\n",
            " 'classical' 'jazz' 'classical' 'blues' 'jazz' 'classical' 'metal'\n",
            " 'classical' 'classical' 'rock' 'reggae' 'hiphop' 'reggae' 'classical'\n",
            " 'rock' 'blues' 'rock' 'reggae' 'reggae' 'hiphop' 'hiphop' 'disco'\n",
            " 'classical' 'pop' 'reggae' 'rock' 'metal' 'rock' 'classical' 'jazz'\n",
            " 'rock' 'disco' 'blues' 'jazz' 'country' 'country' 'classical' 'rock'\n",
            " 'country' 'reggae' 'disco' 'reggae' 'pop' 'disco' 'blues' 'pop' 'blues'\n",
            " 'classical' 'disco' 'rock' 'blues' 'pop' 'country' 'metal' 'country'\n",
            " 'metal' 'rock' 'blues' 'rock' 'jazz' 'metal' 'disco' 'classical' 'hiphop'\n",
            " 'disco' 'reggae' 'pop' 'disco' 'reggae' 'metal' 'classical' 'metal'\n",
            " 'blues' 'country' 'country' 'jazz' 'classical' 'reggae' 'pop' 'blues'\n",
            " 'reggae' 'jazz' 'hiphop' 'reggae' 'classical' 'classical' 'rock'\n",
            " 'country' 'pop' 'country' 'reggae' 'disco' 'pop' 'jazz' 'disco' 'reggae'\n",
            " 'reggae']\n"
          ]
        }
      ]
    },
    {
      "cell_type": "code",
      "source": [
        "print(y_test)\n",
        "print(y_pred)"
      ],
      "metadata": {
        "id": "M-9_I4eaOnO8",
        "colab": {
          "base_uri": "https://localhost:8080/"
        },
        "outputId": "67732122-036b-4f36-95a3-075d1a6445f8"
      },
      "execution_count": 46,
      "outputs": [
        {
          "output_type": "stream",
          "name": "stdout",
          "text": [
            "['rock' 'blues' 'reggae' 'disco' 'blues' 'jazz' 'hiphop' 'jazz' 'rock'\n",
            " 'metal' 'classical' 'metal' 'hiphop' 'metal' 'blues' 'country' 'hiphop'\n",
            " 'rock' 'disco' 'reggae' 'jazz' 'disco' 'hiphop' 'hiphop' 'classical'\n",
            " 'country' 'pop' 'reggae' 'hiphop' 'disco' 'jazz' 'disco' 'metal' 'jazz'\n",
            " 'metal' 'metal' 'pop' 'pop' 'metal' 'jazz' 'blues' 'disco' 'classical'\n",
            " 'rock' 'pop' 'jazz' 'reggae' 'blues' 'country' 'hiphop' 'metal' 'jazz'\n",
            " 'classical' 'country' 'country' 'disco' 'country' 'jazz' 'jazz' 'blues'\n",
            " 'country' 'metal' 'hiphop' 'jazz' 'blues' 'disco' 'jazz' 'blues' 'reggae'\n",
            " 'hiphop' 'country' 'pop' 'metal' 'pop' 'jazz' 'classical' 'country'\n",
            " 'blues' 'jazz' 'classical' 'country' 'jazz' 'country' 'hiphop' 'disco'\n",
            " 'rock' 'metal' 'jazz' 'rock' 'rock' 'disco' 'rock' 'hiphop' 'jazz'\n",
            " 'blues' 'country' 'country' 'hiphop' 'metal' 'hiphop' 'metal' 'rock'\n",
            " 'reggae' 'classical' 'jazz' 'classical' 'blues' 'jazz' 'classical'\n",
            " 'metal' 'classical' 'pop' 'country' 'reggae' 'disco' 'disco' 'jazz'\n",
            " 'disco' 'blues' 'reggae' 'reggae' 'reggae' 'hiphop' 'hiphop' 'hiphop'\n",
            " 'classical' 'pop' 'reggae' 'disco' 'hiphop' 'rock' 'classical' 'jazz'\n",
            " 'country' 'pop' 'blues' 'country' 'country' 'country' 'classical' 'jazz'\n",
            " 'reggae' 'reggae' 'reggae' 'pop' 'hiphop' 'disco' 'hiphop' 'reggae'\n",
            " 'blues' 'reggae' 'classical' 'disco' 'blues' 'reggae' 'country' 'metal'\n",
            " 'jazz' 'rock' 'disco' 'blues' 'jazz' 'jazz' 'metal' 'disco' 'classical'\n",
            " 'jazz' 'disco' 'reggae' 'pop' 'rock' 'classical' 'metal' 'classical'\n",
            " 'metal' 'blues' 'classical' 'rock' 'blues' 'rock' 'reggae' 'pop' 'blues'\n",
            " 'disco' 'reggae' 'hiphop' 'reggae' 'jazz' 'classical' 'hiphop'\n",
            " 'classical' 'hiphop' 'disco' 'reggae' 'disco' 'country' 'country'\n",
            " 'reggae' 'reggae' 'rock']\n",
            "['disco' 'blues' 'disco' 'reggae' 'blues' 'blues' 'hiphop' 'country'\n",
            " 'reggae' 'metal' 'classical' 'metal' 'pop' 'metal' 'blues' 'reggae'\n",
            " 'metal' 'blues' 'disco' 'hiphop' 'jazz' 'classical' 'pop' 'hiphop'\n",
            " 'classical' 'blues' 'reggae' 'reggae' 'rock' 'rock' 'jazz' 'pop' 'metal'\n",
            " 'pop' 'metal' 'metal' 'pop' 'reggae' 'metal' 'jazz' 'blues' 'country'\n",
            " 'classical' 'jazz' 'pop' 'jazz' 'reggae' 'blues' 'jazz' 'reggae' 'metal'\n",
            " 'jazz' 'classical' 'country' 'country' 'rock' 'jazz' 'blues' 'jazz'\n",
            " 'blues' 'country' 'metal' 'disco' 'pop' 'blues' 'pop' 'jazz' 'blues'\n",
            " 'reggae' 'hiphop' 'country' 'pop' 'disco' 'hiphop' 'jazz' 'classical'\n",
            " 'pop' 'jazz' 'jazz' 'classical' 'country' 'jazz' 'jazz' 'hiphop' 'disco'\n",
            " 'rock' 'metal' 'jazz' 'pop' 'jazz' 'disco' 'hiphop' 'disco' 'classical'\n",
            " 'jazz' 'disco' 'disco' 'reggae' 'rock' 'jazz' 'metal' 'reggae' 'reggae'\n",
            " 'classical' 'jazz' 'classical' 'blues' 'jazz' 'classical' 'metal'\n",
            " 'classical' 'classical' 'rock' 'reggae' 'hiphop' 'reggae' 'classical'\n",
            " 'rock' 'blues' 'rock' 'reggae' 'reggae' 'hiphop' 'hiphop' 'disco'\n",
            " 'classical' 'pop' 'reggae' 'rock' 'metal' 'rock' 'classical' 'jazz'\n",
            " 'rock' 'disco' 'blues' 'jazz' 'country' 'country' 'classical' 'rock'\n",
            " 'country' 'reggae' 'disco' 'reggae' 'pop' 'disco' 'blues' 'pop' 'blues'\n",
            " 'classical' 'disco' 'rock' 'blues' 'pop' 'country' 'metal' 'country'\n",
            " 'metal' 'rock' 'blues' 'rock' 'jazz' 'metal' 'disco' 'classical' 'hiphop'\n",
            " 'disco' 'reggae' 'pop' 'disco' 'reggae' 'metal' 'classical' 'metal'\n",
            " 'blues' 'country' 'country' 'jazz' 'classical' 'reggae' 'pop' 'blues'\n",
            " 'reggae' 'jazz' 'hiphop' 'reggae' 'classical' 'classical' 'rock'\n",
            " 'country' 'pop' 'country' 'reggae' 'disco' 'pop' 'jazz' 'disco' 'reggae'\n",
            " 'reggae']\n"
          ]
        }
      ]
    },
    {
      "cell_type": "code",
      "source": [
        "print(accuracy_score(y_test, y_pred))"
      ],
      "metadata": {
        "id": "wudtV3ylOqgC",
        "colab": {
          "base_uri": "https://localhost:8080/"
        },
        "outputId": "2aa885d1-0b17-4608-c2af-2ad0dae28262"
      },
      "execution_count": 47,
      "outputs": [
        {
          "output_type": "stream",
          "name": "stdout",
          "text": [
            "0.535\n"
          ]
        }
      ]
    },
    {
      "cell_type": "code",
      "source": [
        "print(classification_report(y_test, y_pred))"
      ],
      "metadata": {
        "id": "fRq40FtVOvA_",
        "colab": {
          "base_uri": "https://localhost:8080/"
        },
        "outputId": "ed2621db-9086-47f7-9523-3501aadc4f55"
      },
      "execution_count": 48,
      "outputs": [
        {
          "output_type": "stream",
          "name": "stdout",
          "text": [
            "              precision    recall  f1-score   support\n",
            "\n",
            "       blues       0.76      0.84      0.80        19\n",
            "   classical       0.70      0.80      0.74        20\n",
            "     country       0.50      0.38      0.43        21\n",
            "       disco       0.35      0.32      0.33        22\n",
            "      hiphop       0.58      0.32      0.41        22\n",
            "        jazz       0.56      0.56      0.56        27\n",
            "       metal       0.84      0.89      0.86        18\n",
            "         pop       0.32      0.50      0.39        12\n",
            "      reggae       0.52      0.58      0.55        24\n",
            "        rock       0.12      0.13      0.13        15\n",
            "\n",
            "    accuracy                           0.54       200\n",
            "   macro avg       0.52      0.53      0.52       200\n",
            "weighted avg       0.54      0.54      0.53       200\n",
            "\n"
          ]
        }
      ]
    },
    {
      "cell_type": "code",
      "source": [
        "cm=confusion_matrix(y_test,y_pred)\n",
        "print(cm)"
      ],
      "metadata": {
        "id": "t4MvgbqEOwnP",
        "colab": {
          "base_uri": "https://localhost:8080/"
        },
        "outputId": "bfd44244-b5fa-4201-fcf4-b133a2501e9d"
      },
      "execution_count": 49,
      "outputs": [
        {
          "output_type": "stream",
          "name": "stdout",
          "text": [
            "[[16  0  0  0  0  3  0  0  0  0]\n",
            " [ 0 16  2  1  0  0  0  0  1  0]\n",
            " [ 1  0  8  2  0  5  0  2  1  2]\n",
            " [ 0  1  2  7  1  0  0  2  3  6]\n",
            " [ 1  0  0  3  7  1  2  4  2  2]\n",
            " [ 2  3  2  0  1 15  0  2  0  2]\n",
            " [ 0  0  0  1  0  0 16  0  0  1]\n",
            " [ 0  1  0  1  1  0  0  6  3  0]\n",
            " [ 0  1  1  3  1  1  0  2 14  1]\n",
            " [ 1  1  1  2  1  2  1  1  3  2]]\n"
          ]
        }
      ]
    },
    {
      "cell_type": "code",
      "source": [
        "plt.figure(figsize=(8, 6))\n",
        "sns.heatmap(cm, annot=True, fmt='d', cmap='Blues')\n",
        "plt.xlabel('Predicted Labels')\n",
        "plt.ylabel('True Labels')\n",
        "plt.title('Confusion Matrix')\n",
        "plt.show()"
      ],
      "metadata": {
        "id": "7uMjtUC3O1Li",
        "colab": {
          "base_uri": "https://localhost:8080/",
          "height": 564
        },
        "outputId": "8610a7f2-a51b-46cd-8447-5dbff1f3ba9c"
      },
      "execution_count": 50,
      "outputs": [
        {
          "output_type": "display_data",
          "data": {
            "text/plain": [
              "<Figure size 800x600 with 2 Axes>"
            ],
            "image/png": "[encoded data removed]"
          },
          "metadata": {}
        }
      ]
    },
    {
      "cell_type": "code",
      "source": [
        "print(model.feature_importances_)"
      ],
      "metadata": {
        "id": "Q9npfMlbO8bY",
        "colab": {
          "base_uri": "https://localhost:8080/"
        },
        "outputId": "e27028b8-18a5-4839-ddea-a87275b5d449"
      },
      "execution_count": 51,
      "outputs": [
        {
          "output_type": "stream",
          "name": "stdout",
          "text": [
            "[0.12336781 0.08842222 0.07296535 0.09724498 0.0646898  0.07518288\n",
            " 0.06830171 0.06866996 0.0826349  0.05397934 0.06338495 0.07371137\n",
            " 0.06744474]\n"
          ]
        }
      ]
    },
    {
      "cell_type": "code",
      "source": [
        "plt.figure(figsize=(8, 5))\n",
        "sns.histplot(y_pred, color='blue', label=\"Predicted\", alpha=0.5, bins=10, kde=True)\n",
        "sns.histplot(y_test, color='red', label=\"Actual\", alpha=0.5, bins=10, kde=True)\n",
        "\n",
        "plt.legend()\n",
        "plt.title(\"Distribution of Predictions vs Actual Values\")\n",
        "plt.xlabel(\"Class\")\n",
        "plt.ylabel(\"Count\")\n",
        "plt.show()\n"
      ],
      "metadata": {
        "id": "ALUYUUjbPU8_",
        "colab": {
          "base_uri": "https://localhost:8080/",
          "height": 487
        },
        "outputId": "cf7f4ee6-62bd-4c2f-a1db-0a1e0220a13d"
      },
      "execution_count": 56,
      "outputs": [
        {
          "output_type": "display_data",
          "data": {
            "text/plain": [
              "<Figure size 800x500 with 1 Axes>"
            ],
            "image/png": "[encoded data removed]"
          },
          "metadata": {}
        }
      ]
    },
    {
      "cell_type": "markdown",
      "source": [
        "#Bonus"
      ],
      "metadata": {
        "id": "XnTaGRspgAmw"
      }
    },
    {
      "cell_type": "markdown",
      "source": [
        "# Image-Based Approach"
      ],
      "metadata": {
        "id": "2j30zsFnkRah"
      }
    },
    {
      "cell_type": "code",
      "source": [
        "IMG_SIZE = (128, 128)\n",
        "os.makedirs(\"spectrograms\", exist_ok=True)\n",
        "\n",
        "def audio_to_spectrogram(file_path, save_path):\n",
        "    try:\n",
        "        y, sr = librosa.load(file_path, duration=30)\n",
        "        S = librosa.feature.melspectrogram(y=y, sr=sr)\n",
        "        S_DB = librosa.power_to_db(S, ref=np.max)\n",
        "        plt.figure(figsize=(2, 2))\n",
        "        librosa.display.specshow(S_DB, sr=sr)\n",
        "        plt.axis('off')\n",
        "        plt.savefig(save_path, bbox_inches='tight', pad_inches=0)\n",
        "        plt.close()\n",
        "    except Exception as e:\n",
        "        print(f\"Error processing file {file_path}: {e}\")\n",
        "        return None\n",
        "\n",
        "\n",
        "for genre in genres:\n",
        "    save_dir = os.path.join(\"spectrograms\", genre)\n",
        "    os.makedirs(save_dir, exist_ok=True)\n",
        "    genre_path = os.path.join(DATASET_PATH, genre)\n",
        "    for file in os.listdir(genre_path):\n",
        "        if file.endswith(\".wav\"):\n",
        "            file_path = os.path.join(genre_path, file)\n",
        "            save_path = os.path.join(save_dir, file.replace(\".wav\", \".png\"))\n",
        "            if not os.path.exists(save_path):\n",
        "                audio_to_spectrogram(file_path, save_path)\n",
        "\n",
        "\n",
        "from PIL import Image\n",
        "X_img, y_img = [], []\n",
        "for i, genre in enumerate(genres):\n",
        "    genre_path = os.path.join(\"spectrograms\", genre)\n",
        "    for file in os.listdir(genre_path):\n",
        "        img_path = os.path.join(genre_path, file)\n",
        "        try:\n",
        "            img = Image.open(img_path).convert('RGB').resize(IMG_SIZE) # Convert to RGB\n",
        "            X_img.append(np.array(img))\n",
        "            y_img.append(i)\n",
        "        except Exception as e:\n",
        "            print(f\"Error loading image {img_path}: {e}\")\n",
        "\n",
        "\n",
        "X_img = np.array(X_img) / 255.0\n",
        "y_img = to_categorical(y_img, num_classes=len(genres))"
      ],
      "metadata": {
        "colab": {
          "base_uri": "https://localhost:8080/"
        },
        "id": "H7mpIdmCf_Td",
        "outputId": "d7e3b5a9-8b66-4601-8dcb-2d1d42c42e49"
      },
      "execution_count": 66,
      "outputs": [
        {
          "output_type": "stream",
          "name": "stderr",
          "text": [
            "/tmp/ipython-input-2526585609.py:6: UserWarning: PySoundFile failed. Trying audioread instead.\n",
            "  y, sr = librosa.load(file_path, duration=30)\n",
            "/usr/local/lib/python3.11/dist-packages/librosa/core/audio.py:184: FutureWarning: librosa.core.audio.__audioread_load\n",
            "\tDeprecated as of librosa version 0.10.0.\n",
            "\tIt will be removed in librosa version 1.0.\n",
            "  y, sr_native = __audioread_load(path, offset, duration, dtype)\n"
          ]
        },
        {
          "output_type": "stream",
          "name": "stdout",
          "text": [
            "Error processing file /content/drive/MyDrive/GTZAN_extracted/Data/genres_original/jazz/jazz.00054.wav: \n"
          ]
        }
      ]
    },
    {
      "cell_type": "code",
      "source": [
        "X_train_img, X_test_img, y_train_img, y_test_img = train_test_split(X_img, y_img, test_size=0.2, random_state=42)"
      ],
      "metadata": {
        "id": "-Pq_fQ79hv2v"
      },
      "execution_count": 67,
      "outputs": []
    },
    {
      "cell_type": "code",
      "source": [
        "cnn_model = Sequential([\n",
        "    Conv2D(32, (3, 3), activation='relu', input_shape=(IMG_SIZE[0], IMG_SIZE[1], 3)),\n",
        "    MaxPooling2D((2, 2)),\n",
        "    Conv2D(64, (3, 3), activation='relu'),\n",
        "    MaxPooling2D((2, 2)),\n",
        "    Flatten(),\n",
        "    Dense(64, activation='relu'),\n",
        "    Dense(len(genres), activation='softmax')\n",
        "])\n",
        "cnn_model.compile(optimizer='adam', loss='categorical_crossentropy', metrics=['accuracy'])\n",
        "cnn_model.fit(X_train_img, y_train_img, epochs=5, validation_data=(X_test_img, y_test_img))"
      ],
      "metadata": {
        "colab": {
          "base_uri": "https://localhost:8080/"
        },
        "id": "57Kp8Xfzh2_Y",
        "outputId": "9d51e379-8863-421a-e632-e39e51a1a1be"
      },
      "execution_count": 68,
      "outputs": [
        {
          "output_type": "stream",
          "name": "stderr",
          "text": [
            "/usr/local/lib/python3.11/dist-packages/keras/src/layers/convolutional/base_conv.py:113: UserWarning: Do not pass an `input_shape`/`input_dim` argument to a layer. When using Sequential models, prefer using an `Input(shape)` object as the first layer in the model instead.\n",
            "  super().__init__(activity_regularizer=activity_regularizer, **kwargs)\n"
          ]
        },
        {
          "output_type": "stream",
          "name": "stdout",
          "text": [
            "Epoch 1/5\n",
            "\u001b[1m25/25\u001b[0m \u001b[32m━━━━━━━━━━━━━━━━━━━━\u001b[0m\u001b[37m\u001b[0m \u001b[1m23s\u001b[0m 821ms/step - accuracy: 0.0920 - loss: 2.5915 - val_accuracy: 0.2250 - val_loss: 2.1924\n",
            "Epoch 2/5\n",
            "\u001b[1m25/25\u001b[0m \u001b[32m━━━━━━━━━━━━━━━━━━━━\u001b[0m\u001b[37m\u001b[0m \u001b[1m39s\u001b[0m 760ms/step - accuracy: 0.3023 - loss: 2.0350 - val_accuracy: 0.3650 - val_loss: 1.8718\n",
            "Epoch 3/5\n",
            "\u001b[1m25/25\u001b[0m \u001b[32m━━━━━━━━━━━━━━━━━━━━\u001b[0m\u001b[37m\u001b[0m \u001b[1m22s\u001b[0m 832ms/step - accuracy: 0.3636 - loss: 1.7785 - val_accuracy: 0.3150 - val_loss: 1.9705\n",
            "Epoch 4/5\n",
            "\u001b[1m25/25\u001b[0m \u001b[32m━━━━━━━━━━━━━━━━━━━━\u001b[0m\u001b[37m\u001b[0m \u001b[1m20s\u001b[0m 794ms/step - accuracy: 0.4599 - loss: 1.6073 - val_accuracy: 0.3350 - val_loss: 1.7552\n",
            "Epoch 5/5\n",
            "\u001b[1m25/25\u001b[0m \u001b[32m━━━━━━━━━━━━━━━━━━━━\u001b[0m\u001b[37m\u001b[0m \u001b[1m22s\u001b[0m 846ms/step - accuracy: 0.4943 - loss: 1.4016 - val_accuracy: 0.4550 - val_loss: 1.5233\n"
          ]
        },
        {
          "output_type": "execute_result",
          "data": {
            "text/plain": [
              "<keras.src.callbacks.history.History at 0x7ec201205b90>"
            ]
          },
          "metadata": {},
          "execution_count": 68
        }
      ]
    },
    {
      "cell_type": "code",
      "source": [
        "print(cnn_model.summary())"
      ],
      "metadata": {
        "colab": {
          "base_uri": "https://localhost:8080/",
          "height": 408
        },
        "id": "Udy--O5kjeIk",
        "outputId": "d84a66f2-0c31-4c31-eb15-2f8e5c2d8916"
      },
      "execution_count": 69,
      "outputs": [
        {
          "output_type": "display_data",
          "data": {
            "text/plain": [
              "\u001b[1mModel: \"sequential_2\"\u001b[0m\n"
            ],
            "text/html": [
              "<pre style=\"white-space:pre;overflow-x:auto;line-height:normal;font-family:Menlo,'DejaVu Sans Mono',consolas,'Courier New',monospace\"><span style=\"font-weight: bold\">Model: \"sequential_2\"</span>\n",
              "</pre>\n"
            ]
          },
          "metadata": {}
        },
        {
          "output_type": "display_data",
          "data": {
            "text/plain": [
              "┏━━━━━━━━━━━━━━━━━━━━━━━━━━━━━━━━━┳━━━━━━━━━━━━━━━━━━━━━━━━┳━━━━━━━━━━━━━━━┓\n",
              "┃\u001b[1m \u001b[0m\u001b[1mLayer (type)                   \u001b[0m\u001b[1m \u001b[0m┃\u001b[1m \u001b[0m\u001b[1mOutput Shape          \u001b[0m\u001b[1m \u001b[0m┃\u001b[1m \u001b[0m\u001b[1m      Param #\u001b[0m\u001b[1m \u001b[0m┃\n",
              "┡━━━━━━━━━━━━━━━━━━━━━━━━━━━━━━━━━╇━━━━━━━━━━━━━━━━━━━━━━━━╇━━━━━━━━━━━━━━━┩\n",
              "│ conv2d_4 (\u001b[38;5;33mConv2D\u001b[0m)               │ (\u001b[38;5;45mNone\u001b[0m, \u001b[38;5;34m126\u001b[0m, \u001b[38;5;34m126\u001b[0m, \u001b[38;5;34m32\u001b[0m)   │           \u001b[38;5;34m896\u001b[0m │\n",
              "├─────────────────────────────────┼────────────────────────┼───────────────┤\n",
              "│ max_pooling2d_4 (\u001b[38;5;33mMaxPooling2D\u001b[0m)  │ (\u001b[38;5;45mNone\u001b[0m, \u001b[38;5;34m63\u001b[0m, \u001b[38;5;34m63\u001b[0m, \u001b[38;5;34m32\u001b[0m)     │             \u001b[38;5;34m0\u001b[0m │\n",
              "├─────────────────────────────────┼────────────────────────┼───────────────┤\n",
              "│ conv2d_5 (\u001b[38;5;33mConv2D\u001b[0m)               │ (\u001b[38;5;45mNone\u001b[0m, \u001b[38;5;34m61\u001b[0m, \u001b[38;5;34m61\u001b[0m, \u001b[38;5;34m64\u001b[0m)     │        \u001b[38;5;34m18,496\u001b[0m │\n",
              "├─────────────────────────────────┼────────────────────────┼───────────────┤\n",
              "│ max_pooling2d_5 (\u001b[38;5;33mMaxPooling2D\u001b[0m)  │ (\u001b[38;5;45mNone\u001b[0m, \u001b[38;5;34m30\u001b[0m, \u001b[38;5;34m30\u001b[0m, \u001b[38;5;34m64\u001b[0m)     │             \u001b[38;5;34m0\u001b[0m │\n",
              "├─────────────────────────────────┼────────────────────────┼───────────────┤\n",
              "│ flatten_2 (\u001b[38;5;33mFlatten\u001b[0m)             │ (\u001b[38;5;45mNone\u001b[0m, \u001b[38;5;34m57600\u001b[0m)          │             \u001b[38;5;34m0\u001b[0m │\n",
              "├─────────────────────────────────┼────────────────────────┼───────────────┤\n",
              "│ dense_4 (\u001b[38;5;33mDense\u001b[0m)                 │ (\u001b[38;5;45mNone\u001b[0m, \u001b[38;5;34m64\u001b[0m)             │     \u001b[38;5;34m3,686,464\u001b[0m │\n",
              "├─────────────────────────────────┼────────────────────────┼───────────────┤\n",
              "│ dense_5 (\u001b[38;5;33mDense\u001b[0m)                 │ (\u001b[38;5;45mNone\u001b[0m, \u001b[38;5;34m11\u001b[0m)             │           \u001b[38;5;34m715\u001b[0m │\n",
              "└─────────────────────────────────┴────────────────────────┴───────────────┘\n"
            ],
            "text/html": [
              "<pre style=\"white-space:pre;overflow-x:auto;line-height:normal;font-family:Menlo,'DejaVu Sans Mono',consolas,'Courier New',monospace\">┏━━━━━━━━━━━━━━━━━━━━━━━━━━━━━━━━━┳━━━━━━━━━━━━━━━━━━━━━━━━┳━━━━━━━━━━━━━━━┓\n",
              "┃<span style=\"font-weight: bold\"> Layer (type)                    </span>┃<span style=\"font-weight: bold\"> Output Shape           </span>┃<span style=\"font-weight: bold\">       Param # </span>┃\n",
              "┡━━━━━━━━━━━━━━━━━━━━━━━━━━━━━━━━━╇━━━━━━━━━━━━━━━━━━━━━━━━╇━━━━━━━━━━━━━━━┩\n",
              "│ conv2d_4 (<span style=\"color: #0087ff; text-decoration-color: #0087ff\">Conv2D</span>)               │ (<span style=\"color: #00d7ff; text-decoration-color: #00d7ff\">None</span>, <span style=\"color: #00af00; text-decoration-color: #00af00\">126</span>, <span style=\"color: #00af00; text-decoration-color: #00af00\">126</span>, <span style=\"color: #00af00; text-decoration-color: #00af00\">32</span>)   │           <span style=\"color: #00af00; text-decoration-color: #00af00\">896</span> │\n",
              "├─────────────────────────────────┼────────────────────────┼───────────────┤\n",
              "│ max_pooling2d_4 (<span style=\"color: #0087ff; text-decoration-color: #0087ff\">MaxPooling2D</span>)  │ (<span style=\"color: #00d7ff; text-decoration-color: #00d7ff\">None</span>, <span style=\"color: #00af00; text-decoration-color: #00af00\">63</span>, <span style=\"color: #00af00; text-decoration-color: #00af00\">63</span>, <span style=\"color: #00af00; text-decoration-color: #00af00\">32</span>)     │             <span style=\"color: #00af00; text-decoration-color: #00af00\">0</span> │\n",
              "├─────────────────────────────────┼────────────────────────┼───────────────┤\n",
              "│ conv2d_5 (<span style=\"color: #0087ff; text-decoration-color: #0087ff\">Conv2D</span>)               │ (<span style=\"color: #00d7ff; text-decoration-color: #00d7ff\">None</span>, <span style=\"color: #00af00; text-decoration-color: #00af00\">61</span>, <span style=\"color: #00af00; text-decoration-color: #00af00\">61</span>, <span style=\"color: #00af00; text-decoration-color: #00af00\">64</span>)     │        <span style=\"color: #00af00; text-decoration-color: #00af00\">18,496</span> │\n",
              "├─────────────────────────────────┼────────────────────────┼───────────────┤\n",
              "│ max_pooling2d_5 (<span style=\"color: #0087ff; text-decoration-color: #0087ff\">MaxPooling2D</span>)  │ (<span style=\"color: #00d7ff; text-decoration-color: #00d7ff\">None</span>, <span style=\"color: #00af00; text-decoration-color: #00af00\">30</span>, <span style=\"color: #00af00; text-decoration-color: #00af00\">30</span>, <span style=\"color: #00af00; text-decoration-color: #00af00\">64</span>)     │             <span style=\"color: #00af00; text-decoration-color: #00af00\">0</span> │\n",
              "├─────────────────────────────────┼────────────────────────┼───────────────┤\n",
              "│ flatten_2 (<span style=\"color: #0087ff; text-decoration-color: #0087ff\">Flatten</span>)             │ (<span style=\"color: #00d7ff; text-decoration-color: #00d7ff\">None</span>, <span style=\"color: #00af00; text-decoration-color: #00af00\">57600</span>)          │             <span style=\"color: #00af00; text-decoration-color: #00af00\">0</span> │\n",
              "├─────────────────────────────────┼────────────────────────┼───────────────┤\n",
              "│ dense_4 (<span style=\"color: #0087ff; text-decoration-color: #0087ff\">Dense</span>)                 │ (<span style=\"color: #00d7ff; text-decoration-color: #00d7ff\">None</span>, <span style=\"color: #00af00; text-decoration-color: #00af00\">64</span>)             │     <span style=\"color: #00af00; text-decoration-color: #00af00\">3,686,464</span> │\n",
              "├─────────────────────────────────┼────────────────────────┼───────────────┤\n",
              "│ dense_5 (<span style=\"color: #0087ff; text-decoration-color: #0087ff\">Dense</span>)                 │ (<span style=\"color: #00d7ff; text-decoration-color: #00d7ff\">None</span>, <span style=\"color: #00af00; text-decoration-color: #00af00\">11</span>)             │           <span style=\"color: #00af00; text-decoration-color: #00af00\">715</span> │\n",
              "└─────────────────────────────────┴────────────────────────┴───────────────┘\n",
              "</pre>\n"
            ]
          },
          "metadata": {}
        },
        {
          "output_type": "display_data",
          "data": {
            "text/plain": [
              "\u001b[1m Total params: \u001b[0m\u001b[38;5;34m11,119,715\u001b[0m (42.42 MB)\n"
            ],
            "text/html": [
              "<pre style=\"white-space:pre;overflow-x:auto;line-height:normal;font-family:Menlo,'DejaVu Sans Mono',consolas,'Courier New',monospace\"><span style=\"font-weight: bold\"> Total params: </span><span style=\"color: #00af00; text-decoration-color: #00af00\">11,119,715</span> (42.42 MB)\n",
              "</pre>\n"
            ]
          },
          "metadata": {}
        },
        {
          "output_type": "display_data",
          "data": {
            "text/plain": [
              "\u001b[1m Trainable params: \u001b[0m\u001b[38;5;34m3,706,571\u001b[0m (14.14 MB)\n"
            ],
            "text/html": [
              "<pre style=\"white-space:pre;overflow-x:auto;line-height:normal;font-family:Menlo,'DejaVu Sans Mono',consolas,'Courier New',monospace\"><span style=\"font-weight: bold\"> Trainable params: </span><span style=\"color: #00af00; text-decoration-color: #00af00\">3,706,571</span> (14.14 MB)\n",
              "</pre>\n"
            ]
          },
          "metadata": {}
        },
        {
          "output_type": "display_data",
          "data": {
            "text/plain": [
              "\u001b[1m Non-trainable params: \u001b[0m\u001b[38;5;34m0\u001b[0m (0.00 B)\n"
            ],
            "text/html": [
              "<pre style=\"white-space:pre;overflow-x:auto;line-height:normal;font-family:Menlo,'DejaVu Sans Mono',consolas,'Courier New',monospace\"><span style=\"font-weight: bold\"> Non-trainable params: </span><span style=\"color: #00af00; text-decoration-color: #00af00\">0</span> (0.00 B)\n",
              "</pre>\n"
            ]
          },
          "metadata": {}
        },
        {
          "output_type": "display_data",
          "data": {
            "text/plain": [
              "\u001b[1m Optimizer params: \u001b[0m\u001b[38;5;34m7,413,144\u001b[0m (28.28 MB)\n"
            ],
            "text/html": [
              "<pre style=\"white-space:pre;overflow-x:auto;line-height:normal;font-family:Menlo,'DejaVu Sans Mono',consolas,'Courier New',monospace\"><span style=\"font-weight: bold\"> Optimizer params: </span><span style=\"color: #00af00; text-decoration-color: #00af00\">7,413,144</span> (28.28 MB)\n",
              "</pre>\n"
            ]
          },
          "metadata": {}
        },
        {
          "output_type": "stream",
          "name": "stdout",
          "text": [
            "None\n"
          ]
        }
      ]
    },
    {
      "cell_type": "code",
      "source": [
        "print(classification_report(np.argmax(y_test_img, axis=1), np.argmax(cnn_model.predict(X_test_img), axis=1)))"
      ],
      "metadata": {
        "colab": {
          "base_uri": "https://localhost:8080/"
        },
        "id": "Fgf3SZ8Qjgug",
        "outputId": "e1f4fc6b-c392-4681-be3f-dde4a3930e56"
      },
      "execution_count": 70,
      "outputs": [
        {
          "output_type": "stream",
          "name": "stdout",
          "text": [
            "\u001b[1m7/7\u001b[0m \u001b[32m━━━━━━━━━━━━━━━━━━━━\u001b[0m\u001b[37m\u001b[0m \u001b[1m1s\u001b[0m 164ms/step\n",
            "              precision    recall  f1-score   support\n",
            "\n",
            "           0       0.30      0.43      0.35        21\n",
            "           1       0.39      0.75      0.51        12\n",
            "           2       0.33      0.08      0.13        24\n",
            "           3       0.00      0.00      0.00        22\n",
            "           4       0.46      0.40      0.43        15\n",
            "           5       0.73      0.30      0.42        27\n",
            "           6       0.84      0.89      0.86        18\n",
            "           7       0.28      0.42      0.33        19\n",
            "           8       0.35      0.77      0.49        22\n",
            "           9       0.76      0.80      0.78        20\n",
            "\n",
            "    accuracy                           0.46       200\n",
            "   macro avg       0.44      0.48      0.43       200\n",
            "weighted avg       0.44      0.46      0.41       200\n",
            "\n"
          ]
        },
        {
          "output_type": "stream",
          "name": "stderr",
          "text": [
            "/usr/local/lib/python3.11/dist-packages/sklearn/metrics/_classification.py:1565: UndefinedMetricWarning: Precision is ill-defined and being set to 0.0 in labels with no predicted samples. Use `zero_division` parameter to control this behavior.\n",
            "  _warn_prf(average, modifier, f\"{metric.capitalize()} is\", len(result))\n",
            "/usr/local/lib/python3.11/dist-packages/sklearn/metrics/_classification.py:1565: UndefinedMetricWarning: Precision is ill-defined and being set to 0.0 in labels with no predicted samples. Use `zero_division` parameter to control this behavior.\n",
            "  _warn_prf(average, modifier, f\"{metric.capitalize()} is\", len(result))\n",
            "/usr/local/lib/python3.11/dist-packages/sklearn/metrics/_classification.py:1565: UndefinedMetricWarning: Precision is ill-defined and being set to 0.0 in labels with no predicted samples. Use `zero_division` parameter to control this behavior.\n",
            "  _warn_prf(average, modifier, f\"{metric.capitalize()} is\", len(result))\n"
          ]
        }
      ]
    },
    {
      "cell_type": "code",
      "source": [
        "print(accuracy_score(np.argmax(y_test_img, axis=1), np.argmax(cnn_model.predict(X_test_img), axis=1)))"
      ],
      "metadata": {
        "colab": {
          "base_uri": "https://localhost:8080/"
        },
        "id": "8b7K6zMujuPg",
        "outputId": "5dfd4e02-5ec3-4ce6-e4ac-c8369145783e"
      },
      "execution_count": 71,
      "outputs": [
        {
          "output_type": "stream",
          "name": "stdout",
          "text": [
            "\u001b[1m7/7\u001b[0m \u001b[32m━━━━━━━━━━━━━━━━━━━━\u001b[0m\u001b[37m\u001b[0m \u001b[1m1s\u001b[0m 153ms/step\n",
            "0.455\n"
          ]
        }
      ]
    },
    {
      "cell_type": "code",
      "source": [
        "cm=confusion_matrix(np.argmax(y_test_img, axis=1), np.argmax(cnn_model.predict(X_test_img), axis=1))\n",
        "print(cm)"
      ],
      "metadata": {
        "colab": {
          "base_uri": "https://localhost:8080/"
        },
        "id": "wR3FbKQvjxc6",
        "outputId": "e9f2991c-fa03-48af-9f8d-30fbceff35f7"
      },
      "execution_count": 72,
      "outputs": [
        {
          "output_type": "stream",
          "name": "stdout",
          "text": [
            "\u001b[1m7/7\u001b[0m \u001b[32m━━━━━━━━━━━━━━━━━━━━\u001b[0m\u001b[37m\u001b[0m \u001b[1m1s\u001b[0m 145ms/step\n",
            "[[ 9  0  0  0  1  0  0  4  4  3]\n",
            " [ 2  9  0  0  0  1  0  0  0  0]\n",
            " [ 5  2  2  0  0  0  0  9  6  0]\n",
            " [ 4  6  0  0  4  0  0  0  8  0]\n",
            " [ 1  1  1  0  6  1  2  1  2  0]\n",
            " [ 5  4  0  0  0  8  0  6  3  1]\n",
            " [ 0  0  0  0  0  0 16  0  2  0]\n",
            " [ 0  0  0  0  2  1  1  8  6  1]\n",
            " [ 0  1  3  0  0  0  0  1 17  0]\n",
            " [ 4  0  0  0  0  0  0  0  0 16]]\n"
          ]
        }
      ]
    },
    {
      "cell_type": "code",
      "source": [
        "plt.figure(figsize=(8, 6))\n",
        "sns.heatmap(cm, annot=True, fmt='d', cmap='Blues')\n",
        "plt.xlabel('Predicted Labels')\n",
        "plt.ylabel('True Labels')\n",
        "plt.title('Confusion Matrix')\n",
        "plt.show()"
      ],
      "metadata": {
        "colab": {
          "base_uri": "https://localhost:8080/",
          "height": 564
        },
        "id": "QwKhE3XIj7OI",
        "outputId": "1c80feac-709f-4c74-bad4-e1606cc0b7d3"
      },
      "execution_count": 73,
      "outputs": [
        {
          "output_type": "display_data",
          "data": {
            "text/plain": [
              "<Figure size 800x600 with 2 Axes>"
            ],
            "image/png": "[encoded data removed]"
          },
          "metadata": {}
        }
      ]
    },
    {
      "cell_type": "code",
      "source": [
        "plt.figure(figsize=(8, 5))\n",
        "sns.histplot(y_pred, color='blue', label=\"Predicted\", alpha=0.5, bins=10, kde=True)\n",
        "sns.histplot(y_test, color='red', label=\"Actual\", alpha=0.5, bins=10, kde=True)\n",
        "\n",
        "plt.legend()\n",
        "plt.title(\"Distribution of Predictions vs Actual Values\")\n",
        "plt.xlabel(\"Class\")\n",
        "plt.ylabel(\"Count\")\n",
        "plt.show()"
      ],
      "metadata": {
        "colab": {
          "base_uri": "https://localhost:8080/",
          "height": 487
        },
        "id": "jPbbXW_Fj9Ig",
        "outputId": "bd3fa4a1-6f20-4ef8-88cf-95ff05921094"
      },
      "execution_count": 74,
      "outputs": [
        {
          "output_type": "display_data",
          "data": {
            "text/plain": [
              "<Figure size 800x500 with 1 Axes>"
            ],
            "image/png": "[encoded data removed]"
          },
          "metadata": {}
        }
      ]
    },
    {
      "cell_type": "markdown",
      "source": [
        "# Transfer Learning"
      ],
      "metadata": {
        "id": "S3Y4_pqEkDnf"
      }
    },
    {
      "cell_type": "code",
      "source": [
        "IMG_SIZE_VGG = (224, 224)\n",
        "X_vgg, y_vgg = [], []\n",
        "for i, genre in enumerate(genres):\n",
        "    genre_path = os.path.join(\"spectrograms\", genre)\n",
        "    for file in os.listdir(genre_path):\n",
        "        img_path = os.path.join(genre_path, file)\n",
        "        try:\n",
        "            img = Image.open(img_path).convert('RGB').resize(IMG_SIZE_VGG) # Convert to RGB\n",
        "            X_vgg.append(np.array(img))\n",
        "            y_vgg.append(i)\n",
        "        except Exception as e:\n",
        "            print(f\"Error loading image {img_path}: {e}\")\n",
        "\n",
        "\n",
        "X_vgg = np.array(X_vgg) / 255.0\n",
        "y_vgg = to_categorical(y_vgg, num_classes=len(genres))\n",
        "\n",
        "X_train_vgg, X_test_vgg, y_train_vgg, y_test_vgg = train_test_split(X_vgg, y_vgg, test_size=0.2, random_state=42)\n",
        "\n",
        "base_model = VGG16(weights='imagenet', include_top=False, input_shape=(IMG_SIZE_VGG[0], IMG_SIZE_VGG[1], 3))\n",
        "for layer in base_model.layers:\n",
        "    layer.trainable = False\n",
        "\n",
        "x = Flatten()(base_model.output)\n",
        "x = Dense(128, activation='relu')(x)\n",
        "x = Dropout(0.3)(x)\n",
        "output = Dense(len(genres), activation='softmax')(x)\n",
        "\n",
        "vgg_model = Model(inputs=base_model.input, outputs=output)\n",
        "vgg_model.compile(optimizer='adam', loss='categorical_crossentropy', metrics=['accuracy'])\n",
        "vgg_model.fit(X_train_vgg, y_train_vgg, epochs=1, validation_data=(X_test_vgg, y_test_vgg))"
      ],
      "metadata": {
        "colab": {
          "base_uri": "https://localhost:8080/"
        },
        "id": "hlCalugOi4Bp",
        "outputId": "6f60b818-a258-4b58-bcf5-80905d58fc9f"
      },
      "execution_count": 8,
      "outputs": [
        {
          "output_type": "stream",
          "name": "stdout",
          "text": [
            "\u001b[1m25/25\u001b[0m \u001b[32m━━━━━━━━━━━━━━━━━━━━\u001b[0m\u001b[37m\u001b[0m \u001b[1m567s\u001b[0m 23s/step - accuracy: 0.1836 - loss: 2.6328 - val_accuracy: 0.3850 - val_loss: 1.8690\n"
          ]
        },
        {
          "output_type": "execute_result",
          "data": {
            "text/plain": [
              "<keras.src.callbacks.history.History at 0x7c3899367d90>"
            ]
          },
          "metadata": {},
          "execution_count": 8
        }
      ]
    },
    {
      "cell_type": "code",
      "source": [
        "print(classification_report(np.argmax(y_test_vgg, axis=1), np.argmax(vgg_model.predict(X_test_vgg), axis=1)))"
      ],
      "metadata": {
        "colab": {
          "base_uri": "https://localhost:8080/"
        },
        "id": "UgD_gLNnsLI9",
        "outputId": "aa4bb3dc-b190-4de6-b8ab-4b00d0cbe3e8"
      },
      "execution_count": 9,
      "outputs": [
        {
          "output_type": "stream",
          "name": "stdout",
          "text": [
            "\u001b[1m7/7\u001b[0m \u001b[32m━━━━━━━━━━━━━━━━━━━━\u001b[0m\u001b[37m\u001b[0m \u001b[1m117s\u001b[0m 17s/step\n",
            "              precision    recall  f1-score   support\n",
            "\n",
            "           0       0.00      0.00      0.00        21\n",
            "           1       0.17      0.67      0.27        12\n",
            "           2       0.82      0.38      0.51        24\n",
            "           3       0.00      0.00      0.00        22\n",
            "           4       0.00      0.00      0.00        15\n",
            "           5       0.44      0.67      0.53        27\n",
            "           6       0.88      0.83      0.86        18\n",
            "           7       0.18      0.47      0.26        19\n",
            "           8       0.00      0.00      0.00        22\n",
            "           9       0.55      0.90      0.68        20\n",
            "\n",
            "    accuracy                           0.39       200\n",
            "   macro avg       0.30      0.39      0.31       200\n",
            "weighted avg       0.32      0.39      0.32       200\n",
            "\n"
          ]
        },
        {
          "output_type": "stream",
          "name": "stderr",
          "text": [
            "/usr/local/lib/python3.11/dist-packages/sklearn/metrics/_classification.py:1565: UndefinedMetricWarning: Precision is ill-defined and being set to 0.0 in labels with no predicted samples. Use `zero_division` parameter to control this behavior.\n",
            "  _warn_prf(average, modifier, f\"{metric.capitalize()} is\", len(result))\n",
            "/usr/local/lib/python3.11/dist-packages/sklearn/metrics/_classification.py:1565: UndefinedMetricWarning: Precision is ill-defined and being set to 0.0 in labels with no predicted samples. Use `zero_division` parameter to control this behavior.\n",
            "  _warn_prf(average, modifier, f\"{metric.capitalize()} is\", len(result))\n",
            "/usr/local/lib/python3.11/dist-packages/sklearn/metrics/_classification.py:1565: UndefinedMetricWarning: Precision is ill-defined and being set to 0.0 in labels with no predicted samples. Use `zero_division` parameter to control this behavior.\n",
            "  _warn_prf(average, modifier, f\"{metric.capitalize()} is\", len(result))\n"
          ]
        }
      ]
    },
    {
      "cell_type": "code",
      "source": [
        "print(accuracy_score(np.argmax(y_test_vgg, axis=1), np.argmax(vgg_model.predict(X_test_vgg), axis=1)))"
      ],
      "metadata": {
        "colab": {
          "base_uri": "https://localhost:8080/"
        },
        "id": "VHoW9o-EsiR_",
        "outputId": "3a9b527c-68a9-4682-902e-c43c3b9d1412"
      },
      "execution_count": 10,
      "outputs": [
        {
          "output_type": "stream",
          "name": "stdout",
          "text": [
            "\u001b[1m7/7\u001b[0m \u001b[32m━━━━━━━━━━━━━━━━━━━━\u001b[0m\u001b[37m\u001b[0m \u001b[1m108s\u001b[0m 15s/step\n",
            "0.385\n"
          ]
        }
      ]
    },
    {
      "cell_type": "code",
      "source": [
        "print(vgg_model.summary())"
      ],
      "metadata": {
        "colab": {
          "base_uri": "https://localhost:8080/",
          "height": 952
        },
        "id": "od8xw4l3skWw",
        "outputId": "2f4ef048-8764-46e0-b027-4ddfe612ef12"
      },
      "execution_count": 11,
      "outputs": [
        {
          "output_type": "display_data",
          "data": {
            "text/plain": [
              "\u001b[1mModel: \"functional\"\u001b[0m\n"
            ],
            "text/html": [
              "<pre style=\"white-space:pre;overflow-x:auto;line-height:normal;font-family:Menlo,'DejaVu Sans Mono',consolas,'Courier New',monospace\"><span style=\"font-weight: bold\">Model: \"functional\"</span>\n",
              "</pre>\n"
            ]
          },
          "metadata": {}
        },
        {
          "output_type": "display_data",
          "data": {
            "text/plain": [
              "┏━━━━━━━━━━━━━━━━━━━━━━━━━━━━━━━━━┳━━━━━━━━━━━━━━━━━━━━━━━━┳━━━━━━━━━━━━━━━┓\n",
              "┃\u001b[1m \u001b[0m\u001b[1mLayer (type)                   \u001b[0m\u001b[1m \u001b[0m┃\u001b[1m \u001b[0m\u001b[1mOutput Shape          \u001b[0m\u001b[1m \u001b[0m┃\u001b[1m \u001b[0m\u001b[1m      Param #\u001b[0m\u001b[1m \u001b[0m┃\n",
              "┡━━━━━━━━━━━━━━━━━━━━━━━━━━━━━━━━━╇━━━━━━━━━━━━━━━━━━━━━━━━╇━━━━━━━━━━━━━━━┩\n",
              "│ input_layer (\u001b[38;5;33mInputLayer\u001b[0m)        │ (\u001b[38;5;45mNone\u001b[0m, \u001b[38;5;34m224\u001b[0m, \u001b[38;5;34m224\u001b[0m, \u001b[38;5;34m3\u001b[0m)    │             \u001b[38;5;34m0\u001b[0m │\n",
              "├─────────────────────────────────┼────────────────────────┼───────────────┤\n",
              "│ block1_conv1 (\u001b[38;5;33mConv2D\u001b[0m)           │ (\u001b[38;5;45mNone\u001b[0m, \u001b[38;5;34m224\u001b[0m, \u001b[38;5;34m224\u001b[0m, \u001b[38;5;34m64\u001b[0m)   │         \u001b[38;5;34m1,792\u001b[0m │\n",
              "├─────────────────────────────────┼────────────────────────┼───────────────┤\n",
              "│ block1_conv2 (\u001b[38;5;33mConv2D\u001b[0m)           │ (\u001b[38;5;45mNone\u001b[0m, \u001b[38;5;34m224\u001b[0m, \u001b[38;5;34m224\u001b[0m, \u001b[38;5;34m64\u001b[0m)   │        \u001b[38;5;34m36,928\u001b[0m │\n",
              "├─────────────────────────────────┼────────────────────────┼───────────────┤\n",
              "│ block1_pool (\u001b[38;5;33mMaxPooling2D\u001b[0m)      │ (\u001b[38;5;45mNone\u001b[0m, \u001b[38;5;34m112\u001b[0m, \u001b[38;5;34m112\u001b[0m, \u001b[38;5;34m64\u001b[0m)   │             \u001b[38;5;34m0\u001b[0m │\n",
              "├─────────────────────────────────┼────────────────────────┼───────────────┤\n",
              "│ block2_conv1 (\u001b[38;5;33mConv2D\u001b[0m)           │ (\u001b[38;5;45mNone\u001b[0m, \u001b[38;5;34m112\u001b[0m, \u001b[38;5;34m112\u001b[0m, \u001b[38;5;34m128\u001b[0m)  │        \u001b[38;5;34m73,856\u001b[0m │\n",
              "├─────────────────────────────────┼────────────────────────┼───────────────┤\n",
              "│ block2_conv2 (\u001b[38;5;33mConv2D\u001b[0m)           │ (\u001b[38;5;45mNone\u001b[0m, \u001b[38;5;34m112\u001b[0m, \u001b[38;5;34m112\u001b[0m, \u001b[38;5;34m128\u001b[0m)  │       \u001b[38;5;34m147,584\u001b[0m │\n",
              "├─────────────────────────────────┼────────────────────────┼───────────────┤\n",
              "│ block2_pool (\u001b[38;5;33mMaxPooling2D\u001b[0m)      │ (\u001b[38;5;45mNone\u001b[0m, \u001b[38;5;34m56\u001b[0m, \u001b[38;5;34m56\u001b[0m, \u001b[38;5;34m128\u001b[0m)    │             \u001b[38;5;34m0\u001b[0m │\n",
              "├─────────────────────────────────┼────────────────────────┼───────────────┤\n",
              "│ block3_conv1 (\u001b[38;5;33mConv2D\u001b[0m)           │ (\u001b[38;5;45mNone\u001b[0m, \u001b[38;5;34m56\u001b[0m, \u001b[38;5;34m56\u001b[0m, \u001b[38;5;34m256\u001b[0m)    │       \u001b[38;5;34m295,168\u001b[0m │\n",
              "├─────────────────────────────────┼────────────────────────┼───────────────┤\n",
              "│ block3_conv2 (\u001b[38;5;33mConv2D\u001b[0m)           │ (\u001b[38;5;45mNone\u001b[0m, \u001b[38;5;34m56\u001b[0m, \u001b[38;5;34m56\u001b[0m, \u001b[38;5;34m256\u001b[0m)    │       \u001b[38;5;34m590,080\u001b[0m │\n",
              "├─────────────────────────────────┼────────────────────────┼───────────────┤\n",
              "│ block3_conv3 (\u001b[38;5;33mConv2D\u001b[0m)           │ (\u001b[38;5;45mNone\u001b[0m, \u001b[38;5;34m56\u001b[0m, \u001b[38;5;34m56\u001b[0m, \u001b[38;5;34m256\u001b[0m)    │       \u001b[38;5;34m590,080\u001b[0m │\n",
              "├─────────────────────────────────┼────────────────────────┼───────────────┤\n",
              "│ block3_pool (\u001b[38;5;33mMaxPooling2D\u001b[0m)      │ (\u001b[38;5;45mNone\u001b[0m, \u001b[38;5;34m28\u001b[0m, \u001b[38;5;34m28\u001b[0m, \u001b[38;5;34m256\u001b[0m)    │             \u001b[38;5;34m0\u001b[0m │\n",
              "├─────────────────────────────────┼────────────────────────┼───────────────┤\n",
              "│ block4_conv1 (\u001b[38;5;33mConv2D\u001b[0m)           │ (\u001b[38;5;45mNone\u001b[0m, \u001b[38;5;34m28\u001b[0m, \u001b[38;5;34m28\u001b[0m, \u001b[38;5;34m512\u001b[0m)    │     \u001b[38;5;34m1,180,160\u001b[0m │\n",
              "├─────────────────────────────────┼────────────────────────┼───────────────┤\n",
              "│ block4_conv2 (\u001b[38;5;33mConv2D\u001b[0m)           │ (\u001b[38;5;45mNone\u001b[0m, \u001b[38;5;34m28\u001b[0m, \u001b[38;5;34m28\u001b[0m, \u001b[38;5;34m512\u001b[0m)    │     \u001b[38;5;34m2,359,808\u001b[0m │\n",
              "├─────────────────────────────────┼────────────────────────┼───────────────┤\n",
              "│ block4_conv3 (\u001b[38;5;33mConv2D\u001b[0m)           │ (\u001b[38;5;45mNone\u001b[0m, \u001b[38;5;34m28\u001b[0m, \u001b[38;5;34m28\u001b[0m, \u001b[38;5;34m512\u001b[0m)    │     \u001b[38;5;34m2,359,808\u001b[0m │\n",
              "├─────────────────────────────────┼────────────────────────┼───────────────┤\n",
              "│ block4_pool (\u001b[38;5;33mMaxPooling2D\u001b[0m)      │ (\u001b[38;5;45mNone\u001b[0m, \u001b[38;5;34m14\u001b[0m, \u001b[38;5;34m14\u001b[0m, \u001b[38;5;34m512\u001b[0m)    │             \u001b[38;5;34m0\u001b[0m │\n",
              "├─────────────────────────────────┼────────────────────────┼───────────────┤\n",
              "│ block5_conv1 (\u001b[38;5;33mConv2D\u001b[0m)           │ (\u001b[38;5;45mNone\u001b[0m, \u001b[38;5;34m14\u001b[0m, \u001b[38;5;34m14\u001b[0m, \u001b[38;5;34m512\u001b[0m)    │     \u001b[38;5;34m2,359,808\u001b[0m │\n",
              "├─────────────────────────────────┼────────────────────────┼───────────────┤\n",
              "│ block5_conv2 (\u001b[38;5;33mConv2D\u001b[0m)           │ (\u001b[38;5;45mNone\u001b[0m, \u001b[38;5;34m14\u001b[0m, \u001b[38;5;34m14\u001b[0m, \u001b[38;5;34m512\u001b[0m)    │     \u001b[38;5;34m2,359,808\u001b[0m │\n",
              "├─────────────────────────────────┼────────────────────────┼───────────────┤\n",
              "│ block5_conv3 (\u001b[38;5;33mConv2D\u001b[0m)           │ (\u001b[38;5;45mNone\u001b[0m, \u001b[38;5;34m14\u001b[0m, \u001b[38;5;34m14\u001b[0m, \u001b[38;5;34m512\u001b[0m)    │     \u001b[38;5;34m2,359,808\u001b[0m │\n",
              "├─────────────────────────────────┼────────────────────────┼───────────────┤\n",
              "│ block5_pool (\u001b[38;5;33mMaxPooling2D\u001b[0m)      │ (\u001b[38;5;45mNone\u001b[0m, \u001b[38;5;34m7\u001b[0m, \u001b[38;5;34m7\u001b[0m, \u001b[38;5;34m512\u001b[0m)      │             \u001b[38;5;34m0\u001b[0m │\n",
              "├─────────────────────────────────┼────────────────────────┼───────────────┤\n",
              "│ flatten (\u001b[38;5;33mFlatten\u001b[0m)               │ (\u001b[38;5;45mNone\u001b[0m, \u001b[38;5;34m25088\u001b[0m)          │             \u001b[38;5;34m0\u001b[0m │\n",
              "├─────────────────────────────────┼────────────────────────┼───────────────┤\n",
              "│ dense (\u001b[38;5;33mDense\u001b[0m)                   │ (\u001b[38;5;45mNone\u001b[0m, \u001b[38;5;34m128\u001b[0m)            │     \u001b[38;5;34m3,211,392\u001b[0m │\n",
              "├─────────────────────────────────┼────────────────────────┼───────────────┤\n",
              "│ dropout (\u001b[38;5;33mDropout\u001b[0m)               │ (\u001b[38;5;45mNone\u001b[0m, \u001b[38;5;34m128\u001b[0m)            │             \u001b[38;5;34m0\u001b[0m │\n",
              "├─────────────────────────────────┼────────────────────────┼───────────────┤\n",
              "│ dense_1 (\u001b[38;5;33mDense\u001b[0m)                 │ (\u001b[38;5;45mNone\u001b[0m, \u001b[38;5;34m11\u001b[0m)             │         \u001b[38;5;34m1,419\u001b[0m │\n",
              "└─────────────────────────────────┴────────────────────────┴───────────────┘\n"
            ],
            "text/html": [
              "<pre style=\"white-space:pre;overflow-x:auto;line-height:normal;font-family:Menlo,'DejaVu Sans Mono',consolas,'Courier New',monospace\">┏━━━━━━━━━━━━━━━━━━━━━━━━━━━━━━━━━┳━━━━━━━━━━━━━━━━━━━━━━━━┳━━━━━━━━━━━━━━━┓\n",
              "┃<span style=\"font-weight: bold\"> Layer (type)                    </span>┃<span style=\"font-weight: bold\"> Output Shape           </span>┃<span style=\"font-weight: bold\">       Param # </span>┃\n",
              "┡━━━━━━━━━━━━━━━━━━━━━━━━━━━━━━━━━╇━━━━━━━━━━━━━━━━━━━━━━━━╇━━━━━━━━━━━━━━━┩\n",
              "│ input_layer (<span style=\"color: #0087ff; text-decoration-color: #0087ff\">InputLayer</span>)        │ (<span style=\"color: #00d7ff; text-decoration-color: #00d7ff\">None</span>, <span style=\"color: #00af00; text-decoration-color: #00af00\">224</span>, <span style=\"color: #00af00; text-decoration-color: #00af00\">224</span>, <span style=\"color: #00af00; text-decoration-color: #00af00\">3</span>)    │             <span style=\"color: #00af00; text-decoration-color: #00af00\">0</span> │\n",
              "├─────────────────────────────────┼────────────────────────┼───────────────┤\n",
              "│ block1_conv1 (<span style=\"color: #0087ff; text-decoration-color: #0087ff\">Conv2D</span>)           │ (<span style=\"color: #00d7ff; text-decoration-color: #00d7ff\">None</span>, <span style=\"color: #00af00; text-decoration-color: #00af00\">224</span>, <span style=\"color: #00af00; text-decoration-color: #00af00\">224</span>, <span style=\"color: #00af00; text-decoration-color: #00af00\">64</span>)   │         <span style=\"color: #00af00; text-decoration-color: #00af00\">1,792</span> │\n",
              "├─────────────────────────────────┼────────────────────────┼───────────────┤\n",
              "│ block1_conv2 (<span style=\"color: #0087ff; text-decoration-color: #0087ff\">Conv2D</span>)           │ (<span style=\"color: #00d7ff; text-decoration-color: #00d7ff\">None</span>, <span style=\"color: #00af00; text-decoration-color: #00af00\">224</span>, <span style=\"color: #00af00; text-decoration-color: #00af00\">224</span>, <span style=\"color: #00af00; text-decoration-color: #00af00\">64</span>)   │        <span style=\"color: #00af00; text-decoration-color: #00af00\">36,928</span> │\n",
              "├─────────────────────────────────┼────────────────────────┼───────────────┤\n",
              "│ block1_pool (<span style=\"color: #0087ff; text-decoration-color: #0087ff\">MaxPooling2D</span>)      │ (<span style=\"color: #00d7ff; text-decoration-color: #00d7ff\">None</span>, <span style=\"color: #00af00; text-decoration-color: #00af00\">112</span>, <span style=\"color: #00af00; text-decoration-color: #00af00\">112</span>, <span style=\"color: #00af00; text-decoration-color: #00af00\">64</span>)   │             <span style=\"color: #00af00; text-decoration-color: #00af00\">0</span> │\n",
              "├─────────────────────────────────┼────────────────────────┼───────────────┤\n",
              "│ block2_conv1 (<span style=\"color: #0087ff; text-decoration-color: #0087ff\">Conv2D</span>)           │ (<span style=\"color: #00d7ff; text-decoration-color: #00d7ff\">None</span>, <span style=\"color: #00af00; text-decoration-color: #00af00\">112</span>, <span style=\"color: #00af00; text-decoration-color: #00af00\">112</span>, <span style=\"color: #00af00; text-decoration-color: #00af00\">128</span>)  │        <span style=\"color: #00af00; text-decoration-color: #00af00\">73,856</span> │\n",
              "├─────────────────────────────────┼────────────────────────┼───────────────┤\n",
              "│ block2_conv2 (<span style=\"color: #0087ff; text-decoration-color: #0087ff\">Conv2D</span>)           │ (<span style=\"color: #00d7ff; text-decoration-color: #00d7ff\">None</span>, <span style=\"color: #00af00; text-decoration-color: #00af00\">112</span>, <span style=\"color: #00af00; text-decoration-color: #00af00\">112</span>, <span style=\"color: #00af00; text-decoration-color: #00af00\">128</span>)  │       <span style=\"color: #00af00; text-decoration-color: #00af00\">147,584</span> │\n",
              "├─────────────────────────────────┼────────────────────────┼───────────────┤\n",
              "│ block2_pool (<span style=\"color: #0087ff; text-decoration-color: #0087ff\">MaxPooling2D</span>)      │ (<span style=\"color: #00d7ff; text-decoration-color: #00d7ff\">None</span>, <span style=\"color: #00af00; text-decoration-color: #00af00\">56</span>, <span style=\"color: #00af00; text-decoration-color: #00af00\">56</span>, <span style=\"color: #00af00; text-decoration-color: #00af00\">128</span>)    │             <span style=\"color: #00af00; text-decoration-color: #00af00\">0</span> │\n",
              "├─────────────────────────────────┼────────────────────────┼───────────────┤\n",
              "│ block3_conv1 (<span style=\"color: #0087ff; text-decoration-color: #0087ff\">Conv2D</span>)           │ (<span style=\"color: #00d7ff; text-decoration-color: #00d7ff\">None</span>, <span style=\"color: #00af00; text-decoration-color: #00af00\">56</span>, <span style=\"color: #00af00; text-decoration-color: #00af00\">56</span>, <span style=\"color: #00af00; text-decoration-color: #00af00\">256</span>)    │       <span style=\"color: #00af00; text-decoration-color: #00af00\">295,168</span> │\n",
              "├─────────────────────────────────┼────────────────────────┼───────────────┤\n",
              "│ block3_conv2 (<span style=\"color: #0087ff; text-decoration-color: #0087ff\">Conv2D</span>)           │ (<span style=\"color: #00d7ff; text-decoration-color: #00d7ff\">None</span>, <span style=\"color: #00af00; text-decoration-color: #00af00\">56</span>, <span style=\"color: #00af00; text-decoration-color: #00af00\">56</span>, <span style=\"color: #00af00; text-decoration-color: #00af00\">256</span>)    │       <span style=\"color: #00af00; text-decoration-color: #00af00\">590,080</span> │\n",
              "├─────────────────────────────────┼────────────────────────┼───────────────┤\n",
              "│ block3_conv3 (<span style=\"color: #0087ff; text-decoration-color: #0087ff\">Conv2D</span>)           │ (<span style=\"color: #00d7ff; text-decoration-color: #00d7ff\">None</span>, <span style=\"color: #00af00; text-decoration-color: #00af00\">56</span>, <span style=\"color: #00af00; text-decoration-color: #00af00\">56</span>, <span style=\"color: #00af00; text-decoration-color: #00af00\">256</span>)    │       <span style=\"color: #00af00; text-decoration-color: #00af00\">590,080</span> │\n",
              "├─────────────────────────────────┼────────────────────────┼───────────────┤\n",
              "│ block3_pool (<span style=\"color: #0087ff; text-decoration-color: #0087ff\">MaxPooling2D</span>)      │ (<span style=\"color: #00d7ff; text-decoration-color: #00d7ff\">None</span>, <span style=\"color: #00af00; text-decoration-color: #00af00\">28</span>, <span style=\"color: #00af00; text-decoration-color: #00af00\">28</span>, <span style=\"color: #00af00; text-decoration-color: #00af00\">256</span>)    │             <span style=\"color: #00af00; text-decoration-color: #00af00\">0</span> │\n",
              "├─────────────────────────────────┼────────────────────────┼───────────────┤\n",
              "│ block4_conv1 (<span style=\"color: #0087ff; text-decoration-color: #0087ff\">Conv2D</span>)           │ (<span style=\"color: #00d7ff; text-decoration-color: #00d7ff\">None</span>, <span style=\"color: #00af00; text-decoration-color: #00af00\">28</span>, <span style=\"color: #00af00; text-decoration-color: #00af00\">28</span>, <span style=\"color: #00af00; text-decoration-color: #00af00\">512</span>)    │     <span style=\"color: #00af00; text-decoration-color: #00af00\">1,180,160</span> │\n",
              "├─────────────────────────────────┼────────────────────────┼───────────────┤\n",
              "│ block4_conv2 (<span style=\"color: #0087ff; text-decoration-color: #0087ff\">Conv2D</span>)           │ (<span style=\"color: #00d7ff; text-decoration-color: #00d7ff\">None</span>, <span style=\"color: #00af00; text-decoration-color: #00af00\">28</span>, <span style=\"color: #00af00; text-decoration-color: #00af00\">28</span>, <span style=\"color: #00af00; text-decoration-color: #00af00\">512</span>)    │     <span style=\"color: #00af00; text-decoration-color: #00af00\">2,359,808</span> │\n",
              "├─────────────────────────────────┼────────────────────────┼───────────────┤\n",
              "│ block4_conv3 (<span style=\"color: #0087ff; text-decoration-color: #0087ff\">Conv2D</span>)           │ (<span style=\"color: #00d7ff; text-decoration-color: #00d7ff\">None</span>, <span style=\"color: #00af00; text-decoration-color: #00af00\">28</span>, <span style=\"color: #00af00; text-decoration-color: #00af00\">28</span>, <span style=\"color: #00af00; text-decoration-color: #00af00\">512</span>)    │     <span style=\"color: #00af00; text-decoration-color: #00af00\">2,359,808</span> │\n",
              "├─────────────────────────────────┼────────────────────────┼───────────────┤\n",
              "│ block4_pool (<span style=\"color: #0087ff; text-decoration-color: #0087ff\">MaxPooling2D</span>)      │ (<span style=\"color: #00d7ff; text-decoration-color: #00d7ff\">None</span>, <span style=\"color: #00af00; text-decoration-color: #00af00\">14</span>, <span style=\"color: #00af00; text-decoration-color: #00af00\">14</span>, <span style=\"color: #00af00; text-decoration-color: #00af00\">512</span>)    │             <span style=\"color: #00af00; text-decoration-color: #00af00\">0</span> │\n",
              "├─────────────────────────────────┼────────────────────────┼───────────────┤\n",
              "│ block5_conv1 (<span style=\"color: #0087ff; text-decoration-color: #0087ff\">Conv2D</span>)           │ (<span style=\"color: #00d7ff; text-decoration-color: #00d7ff\">None</span>, <span style=\"color: #00af00; text-decoration-color: #00af00\">14</span>, <span style=\"color: #00af00; text-decoration-color: #00af00\">14</span>, <span style=\"color: #00af00; text-decoration-color: #00af00\">512</span>)    │     <span style=\"color: #00af00; text-decoration-color: #00af00\">2,359,808</span> │\n",
              "├─────────────────────────────────┼────────────────────────┼───────────────┤\n",
              "│ block5_conv2 (<span style=\"color: #0087ff; text-decoration-color: #0087ff\">Conv2D</span>)           │ (<span style=\"color: #00d7ff; text-decoration-color: #00d7ff\">None</span>, <span style=\"color: #00af00; text-decoration-color: #00af00\">14</span>, <span style=\"color: #00af00; text-decoration-color: #00af00\">14</span>, <span style=\"color: #00af00; text-decoration-color: #00af00\">512</span>)    │     <span style=\"color: #00af00; text-decoration-color: #00af00\">2,359,808</span> │\n",
              "├─────────────────────────────────┼────────────────────────┼───────────────┤\n",
              "│ block5_conv3 (<span style=\"color: #0087ff; text-decoration-color: #0087ff\">Conv2D</span>)           │ (<span style=\"color: #00d7ff; text-decoration-color: #00d7ff\">None</span>, <span style=\"color: #00af00; text-decoration-color: #00af00\">14</span>, <span style=\"color: #00af00; text-decoration-color: #00af00\">14</span>, <span style=\"color: #00af00; text-decoration-color: #00af00\">512</span>)    │     <span style=\"color: #00af00; text-decoration-color: #00af00\">2,359,808</span> │\n",
              "├─────────────────────────────────┼────────────────────────┼───────────────┤\n",
              "│ block5_pool (<span style=\"color: #0087ff; text-decoration-color: #0087ff\">MaxPooling2D</span>)      │ (<span style=\"color: #00d7ff; text-decoration-color: #00d7ff\">None</span>, <span style=\"color: #00af00; text-decoration-color: #00af00\">7</span>, <span style=\"color: #00af00; text-decoration-color: #00af00\">7</span>, <span style=\"color: #00af00; text-decoration-color: #00af00\">512</span>)      │             <span style=\"color: #00af00; text-decoration-color: #00af00\">0</span> │\n",
              "├─────────────────────────────────┼────────────────────────┼───────────────┤\n",
              "│ flatten (<span style=\"color: #0087ff; text-decoration-color: #0087ff\">Flatten</span>)               │ (<span style=\"color: #00d7ff; text-decoration-color: #00d7ff\">None</span>, <span style=\"color: #00af00; text-decoration-color: #00af00\">25088</span>)          │             <span style=\"color: #00af00; text-decoration-color: #00af00\">0</span> │\n",
              "├─────────────────────────────────┼────────────────────────┼───────────────┤\n",
              "│ dense (<span style=\"color: #0087ff; text-decoration-color: #0087ff\">Dense</span>)                   │ (<span style=\"color: #00d7ff; text-decoration-color: #00d7ff\">None</span>, <span style=\"color: #00af00; text-decoration-color: #00af00\">128</span>)            │     <span style=\"color: #00af00; text-decoration-color: #00af00\">3,211,392</span> │\n",
              "├─────────────────────────────────┼────────────────────────┼───────────────┤\n",
              "│ dropout (<span style=\"color: #0087ff; text-decoration-color: #0087ff\">Dropout</span>)               │ (<span style=\"color: #00d7ff; text-decoration-color: #00d7ff\">None</span>, <span style=\"color: #00af00; text-decoration-color: #00af00\">128</span>)            │             <span style=\"color: #00af00; text-decoration-color: #00af00\">0</span> │\n",
              "├─────────────────────────────────┼────────────────────────┼───────────────┤\n",
              "│ dense_1 (<span style=\"color: #0087ff; text-decoration-color: #0087ff\">Dense</span>)                 │ (<span style=\"color: #00d7ff; text-decoration-color: #00d7ff\">None</span>, <span style=\"color: #00af00; text-decoration-color: #00af00\">11</span>)             │         <span style=\"color: #00af00; text-decoration-color: #00af00\">1,419</span> │\n",
              "└─────────────────────────────────┴────────────────────────┴───────────────┘\n",
              "</pre>\n"
            ]
          },
          "metadata": {}
        },
        {
          "output_type": "display_data",
          "data": {
            "text/plain": [
              "\u001b[1m Total params: \u001b[0m\u001b[38;5;34m24,353,123\u001b[0m (92.90 MB)\n"
            ],
            "text/html": [
              "<pre style=\"white-space:pre;overflow-x:auto;line-height:normal;font-family:Menlo,'DejaVu Sans Mono',consolas,'Courier New',monospace\"><span style=\"font-weight: bold\"> Total params: </span><span style=\"color: #00af00; text-decoration-color: #00af00\">24,353,123</span> (92.90 MB)\n",
              "</pre>\n"
            ]
          },
          "metadata": {}
        },
        {
          "output_type": "display_data",
          "data": {
            "text/plain": [
              "\u001b[1m Trainable params: \u001b[0m\u001b[38;5;34m3,212,811\u001b[0m (12.26 MB)\n"
            ],
            "text/html": [
              "<pre style=\"white-space:pre;overflow-x:auto;line-height:normal;font-family:Menlo,'DejaVu Sans Mono',consolas,'Courier New',monospace\"><span style=\"font-weight: bold\"> Trainable params: </span><span style=\"color: #00af00; text-decoration-color: #00af00\">3,212,811</span> (12.26 MB)\n",
              "</pre>\n"
            ]
          },
          "metadata": {}
        },
        {
          "output_type": "display_data",
          "data": {
            "text/plain": [
              "\u001b[1m Non-trainable params: \u001b[0m\u001b[38;5;34m14,714,688\u001b[0m (56.13 MB)\n"
            ],
            "text/html": [
              "<pre style=\"white-space:pre;overflow-x:auto;line-height:normal;font-family:Menlo,'DejaVu Sans Mono',consolas,'Courier New',monospace\"><span style=\"font-weight: bold\"> Non-trainable params: </span><span style=\"color: #00af00; text-decoration-color: #00af00\">14,714,688</span> (56.13 MB)\n",
              "</pre>\n"
            ]
          },
          "metadata": {}
        },
        {
          "output_type": "display_data",
          "data": {
            "text/plain": [
              "\u001b[1m Optimizer params: \u001b[0m\u001b[38;5;34m6,425,624\u001b[0m (24.51 MB)\n"
            ],
            "text/html": [
              "<pre style=\"white-space:pre;overflow-x:auto;line-height:normal;font-family:Menlo,'DejaVu Sans Mono',consolas,'Courier New',monospace\"><span style=\"font-weight: bold\"> Optimizer params: </span><span style=\"color: #00af00; text-decoration-color: #00af00\">6,425,624</span> (24.51 MB)\n",
              "</pre>\n"
            ]
          },
          "metadata": {}
        },
        {
          "output_type": "stream",
          "name": "stdout",
          "text": [
            "None\n"
          ]
        }
      ]
    },
    {
      "cell_type": "code",
      "metadata": {
        "colab": {
          "base_uri": "https://localhost:8080/"
        },
        "id": "e3ebe3e4",
        "outputId": "fb089bbb-644b-493c-a737-10e38923ab45"
      },
      "source": [
        "!apt-get install ffmpeg"
      ],
      "execution_count": 22,
      "outputs": [
        {
          "output_type": "stream",
          "name": "stdout",
          "text": [
            "Reading package lists... Done\n",
            "Building dependency tree... Done\n",
            "Reading state information... Done\n",
            "ffmpeg is already the newest version (7:4.4.2-0ubuntu0.22.04.1).\n",
            "0 upgraded, 0 newly installed, 0 to remove and 35 not upgraded.\n"
          ]
        }
      ]
    }
  ]
}